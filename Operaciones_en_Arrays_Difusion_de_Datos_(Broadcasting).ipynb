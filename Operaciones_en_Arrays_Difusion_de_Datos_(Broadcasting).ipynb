{
  "nbformat": 4,
  "nbformat_minor": 0,
  "metadata": {
    "colab": {
      "provenance": [],
      "include_colab_link": true
    },
    "kernelspec": {
      "name": "python3",
      "display_name": "Python 3"
    },
    "language_info": {
      "name": "python"
    }
  },
  "cells": [
    {
      "cell_type": "markdown",
      "metadata": {
        "id": "view-in-github",
        "colab_type": "text"
      },
      "source": [
        "<a href=\"https://colab.research.google.com/github/Victorvv1/Curso-de-Analisis-de-Datos-/blob/main/Operaciones_en_Arrays_Difusion_de_Datos_(Broadcasting).ipynb\" target=\"_parent\"><img src=\"https://colab.research.google.com/assets/colab-badge.svg\" alt=\"Open In Colab\"/></a>"
      ]
    },
    {
      "cell_type": "markdown",
      "source": [
        "# Broadcasting"
      ],
      "metadata": {
        "id": "9v-GdOhN8OTX"
      }
    },
    {
      "cell_type": "markdown",
      "source": [
        "## Introducción"
      ],
      "metadata": {
        "id": "Kzhi-FDP8XUa"
      }
    },
    {
      "cell_type": "code",
      "source": [
        "import numpy as np"
      ],
      "metadata": {
        "id": "A5231X_78Yqc"
      },
      "execution_count": null,
      "outputs": []
    },
    {
      "cell_type": "code",
      "source": [
        "a = np.array([1, 2, 3])\n",
        "b = np.array([5, 5, 5])\n",
        "a + b"
      ],
      "metadata": {
        "colab": {
          "base_uri": "https://localhost:8080/"
        },
        "id": "ZsOTcaHU8Z_q",
        "outputId": "d5ac6cc3-29c7-429c-dcfd-d44e52447d91"
      },
      "execution_count": null,
      "outputs": [
        {
          "output_type": "execute_result",
          "data": {
            "text/plain": [
              "array([6, 7, 8])"
            ]
          },
          "metadata": {},
          "execution_count": 2
        }
      ]
    },
    {
      "cell_type": "code",
      "source": [
        "a + 5"
      ],
      "metadata": {
        "colab": {
          "base_uri": "https://localhost:8080/"
        },
        "id": "LnvALc6C8ihG",
        "outputId": "c13dce8b-5084-47ef-f347-5a888708908a"
      },
      "execution_count": null,
      "outputs": [
        {
          "output_type": "execute_result",
          "data": {
            "text/plain": [
              "array([6, 7, 8])"
            ]
          },
          "metadata": {},
          "execution_count": 3
        }
      ]
    },
    {
      "cell_type": "code",
      "source": [
        "M = np.ones((3, 3))\n",
        "M"
      ],
      "metadata": {
        "colab": {
          "base_uri": "https://localhost:8080/"
        },
        "id": "KMIQzall8qXm",
        "outputId": "e360b961-815d-4db2-b71b-4511dc6a9735"
      },
      "execution_count": null,
      "outputs": [
        {
          "output_type": "execute_result",
          "data": {
            "text/plain": [
              "array([[1., 1., 1.],\n",
              "       [1., 1., 1.],\n",
              "       [1., 1., 1.]])"
            ]
          },
          "metadata": {},
          "execution_count": 4
        }
      ]
    },
    {
      "cell_type": "code",
      "source": [
        "M + a"
      ],
      "metadata": {
        "colab": {
          "base_uri": "https://localhost:8080/"
        },
        "id": "JKh6qzGR8uLL",
        "outputId": "3a6c3260-d178-48cf-bc21-faf84287cc45"
      },
      "execution_count": null,
      "outputs": [
        {
          "output_type": "execute_result",
          "data": {
            "text/plain": [
              "array([[2., 3., 4.],\n",
              "       [2., 3., 4.],\n",
              "       [2., 3., 4.]])"
            ]
          },
          "metadata": {},
          "execution_count": 5
        }
      ]
    },
    {
      "cell_type": "code",
      "source": [
        "a = np.arange(3)\n",
        "b = np.arange(3)[:, np.newaxis]\n",
        "\n",
        "print(a)\n",
        "print(b)"
      ],
      "metadata": {
        "colab": {
          "base_uri": "https://localhost:8080/"
        },
        "id": "l1qAySt28wv5",
        "outputId": "0853993c-fe3d-4304-aa2b-6e71fc81d521"
      },
      "execution_count": null,
      "outputs": [
        {
          "output_type": "stream",
          "name": "stdout",
          "text": [
            "[0 1 2]\n",
            "[[0]\n",
            " [1]\n",
            " [2]]\n"
          ]
        }
      ]
    },
    {
      "cell_type": "code",
      "source": [
        "a + b"
      ],
      "metadata": {
        "colab": {
          "base_uri": "https://localhost:8080/"
        },
        "id": "vi2CnXjY9CSI",
        "outputId": "b8db3e3f-c4ee-4841-c951-17df2f1ff287"
      },
      "execution_count": null,
      "outputs": [
        {
          "output_type": "execute_result",
          "data": {
            "text/plain": [
              "array([[0, 1, 2],\n",
              "       [1, 2, 3],\n",
              "       [2, 3, 4]])"
            ]
          },
          "metadata": {},
          "execution_count": 7
        }
      ]
    },
    {
      "cell_type": "markdown",
      "source": [
        "![image.png](data:image/png;base64,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)!"
      ],
      "metadata": {
        "id": "XXU2Xv169MdL"
      }
    },
    {
      "cell_type": "markdown",
      "source": [
        "### Reglas de Broadcasting en Numpy\n",
        "El broadcasting es un mecanismo que permite a NumPy trabajar con arrays de diferentes formas cuando realiza operaciones aritméticas. Esto hace posible realizar operaciones entre arrays sin tener que crear copias de datos.\n",
        "\n",
        "### Regla 1: Diferente número de dimensiones\n",
        "\n",
        "Cuando dos arrays tienen diferente número de dimensiones, la forma del array con menos dimensiones se \"rellena\" con unos en su lado izquierdo (dimensiones principales).\n",
        "\n",
        "**Ejemplo:**\n",
        "```python\n",
        "A = np.array([1, 2, 3])         # Forma: (3,)\n",
        "B = np.array([[1], [2], [3]])   # Forma: (3, 1)\n",
        "```\n",
        "\n",
        "Para poder operar A con B:\n",
        "- A tiene forma (3,)\n",
        "- Se añade una dimensión a la izquierda, quedando con forma (1, 3)\n",
        "\n",
        "### Regla 2: Estiramiento de dimensiones unitarias\n",
        "\n",
        "Si la forma de los dos arrays no coincide en alguna dimensión, el array con tamaño 1 en esa dimensión se \"estira\" para coincidir con el otro.\n",
        "\n",
        "**Ejemplo:**\n",
        "```python\n",
        "A = np.array([[1, 2, 3]])       # Forma: (1, 3)\n",
        "B = np.array([[1], [2], [3]])   # Forma: (3, 1)\n",
        "```\n",
        "\n",
        "Al operar A + B:\n",
        "- A se estira en la primera dimensión de (1, 3) a (3, 3)\n",
        "- B se estira en la segunda dimensión de (3, 1) a (3, 3)\n",
        "- El resultado tendrá forma (3, 3)\n",
        "\n",
        "Internamente, esto ocurre sin duplicar memoria.\n",
        "\n",
        "### Regla 3: Error cuando los tamaños no coinciden\n",
        "\n",
        "Si en alguna dimensión los tamaños de los arrays no coinciden y ninguno es igual a 1, se produce un error.\n",
        "\n",
        "**Ejemplo (error):**\n",
        "```python\n",
        "A = np.array([[1, 2, 3]])       # Forma: (1, 3)\n",
        "B = np.array([[1, 2], [3, 4]])  # Forma: (2, 2)\n",
        "```\n",
        "\n",
        "Esto producirá un error porque en la segunda dimensión A tiene tamaño 3 y B tiene tamaño 2, y ninguno es 1.\n",
        "\n",
        "## Ejemplos detallados\n",
        "\n",
        "### Ejemplo 1: Escalar + Vector\n",
        "```python\n",
        "a = 5                    # Escalar (considerado como array de forma ())\n",
        "b = np.array([1, 2, 3])  # Vector de forma (3,)\n",
        "```\n",
        "\n",
        "Aplicando las reglas:\n",
        "1. El escalar se convierte a forma (1,)\n",
        "2. Se estira para coincidir con b, resultando en [5, 5, 5]\n",
        "3. El resultado de a + b será [6, 7, 8]\n",
        "\n",
        "### Ejemplo 2: Vector + Matriz\n",
        "```python\n",
        "a = np.array([1, 2, 3])           # Vector de forma (3,)\n",
        "b = np.array([[1, 2, 3],\n",
        "               [4, 5, 6]])         # Matriz de forma (2, 3)\n",
        "```\n",
        "\n",
        "Aplicando las reglas:\n",
        "1. a se convierte a forma (1, 3)\n",
        "2. a se estira a forma (2, 3) para coincidir con b\n",
        "3. El resultado será [[2, 4, 6], [5, 7, 9]]\n",
        "\n",
        "### Ejemplo 3: Matrices de diferentes dimensiones\n",
        "```python\n",
        "a = np.array([[[1, 2]]])          # Forma (1, 1, 2)\n",
        "b = np.array([[3, 4], [5, 6]])    # Forma (2, 2)\n",
        "```\n",
        "\n",
        "Aplicando las reglas:\n",
        "1. b se convierte a forma (1, 2, 2)\n",
        "2. a se estira a forma (1, 2, 2)\n",
        "3. El resultado será [[[4, 6], [6, 8]]]\n",
        "\n",
        "Este mecanismo permite realizar operaciones complejas de manera eficiente sin necesidad de crear copias explícitas, ahorrando memoria y tiempo de procesamiento."
      ],
      "metadata": {
        "id": "ZiqWxGWI9bSe"
      }
    },
    {
      "cell_type": "code",
      "source": [
        "A = np.array([[1, 2, 3]])       # Forma: (1, 3)\n",
        "B = np.array([[1, 2], [3, 4]])  # Forma: (2, 2)\n",
        "A + B"
      ],
      "metadata": {
        "colab": {
          "base_uri": "https://localhost:8080/",
          "height": 176
        },
        "id": "Y9HGVaF_9Dek",
        "outputId": "7251ce51-a0f7-4960-e6bf-c68d545d1a9d"
      },
      "execution_count": null,
      "outputs": [
        {
          "output_type": "error",
          "ename": "ValueError",
          "evalue": "operands could not be broadcast together with shapes (1,3) (2,2) ",
          "traceback": [
            "\u001b[0;31m---------------------------------------------------------------------------\u001b[0m",
            "\u001b[0;31mValueError\u001b[0m                                Traceback (most recent call last)",
            "\u001b[0;32m<ipython-input-8-9475373c2f76>\u001b[0m in \u001b[0;36m<cell line: 0>\u001b[0;34m()\u001b[0m\n\u001b[1;32m      1\u001b[0m \u001b[0mA\u001b[0m \u001b[0;34m=\u001b[0m \u001b[0mnp\u001b[0m\u001b[0;34m.\u001b[0m\u001b[0marray\u001b[0m\u001b[0;34m(\u001b[0m\u001b[0;34m[\u001b[0m\u001b[0;34m[\u001b[0m\u001b[0;36m1\u001b[0m\u001b[0;34m,\u001b[0m \u001b[0;36m2\u001b[0m\u001b[0;34m,\u001b[0m \u001b[0;36m3\u001b[0m\u001b[0;34m]\u001b[0m\u001b[0;34m]\u001b[0m\u001b[0;34m)\u001b[0m       \u001b[0;31m# Forma: (1, 3)\u001b[0m\u001b[0;34m\u001b[0m\u001b[0;34m\u001b[0m\u001b[0m\n\u001b[1;32m      2\u001b[0m \u001b[0mB\u001b[0m \u001b[0;34m=\u001b[0m \u001b[0mnp\u001b[0m\u001b[0;34m.\u001b[0m\u001b[0marray\u001b[0m\u001b[0;34m(\u001b[0m\u001b[0;34m[\u001b[0m\u001b[0;34m[\u001b[0m\u001b[0;36m1\u001b[0m\u001b[0;34m,\u001b[0m \u001b[0;36m2\u001b[0m\u001b[0;34m]\u001b[0m\u001b[0;34m,\u001b[0m \u001b[0;34m[\u001b[0m\u001b[0;36m3\u001b[0m\u001b[0;34m,\u001b[0m \u001b[0;36m4\u001b[0m\u001b[0;34m]\u001b[0m\u001b[0;34m]\u001b[0m\u001b[0;34m)\u001b[0m  \u001b[0;31m# Forma: (2, 2)\u001b[0m\u001b[0;34m\u001b[0m\u001b[0;34m\u001b[0m\u001b[0m\n\u001b[0;32m----> 3\u001b[0;31m \u001b[0mA\u001b[0m \u001b[0;34m+\u001b[0m \u001b[0mB\u001b[0m\u001b[0;34m\u001b[0m\u001b[0;34m\u001b[0m\u001b[0m\n\u001b[0m",
            "\u001b[0;31mValueError\u001b[0m: operands could not be broadcast together with shapes (1,3) (2,2) "
          ]
        }
      ]
    },
    {
      "cell_type": "code",
      "source": [
        "a = np.array([[[1, 2]]])          # Forma (1, 1, 2)\n",
        "b = np.array([[3, 4], [5, 6]])    # Forma (2, 2)\n",
        "print(a)\n",
        "print(b)"
      ],
      "metadata": {
        "colab": {
          "base_uri": "https://localhost:8080/"
        },
        "id": "45RFCVNg9AxU",
        "outputId": "43b1ad80-d557-4a5d-84a4-2a0e72578ab3"
      },
      "execution_count": null,
      "outputs": [
        {
          "output_type": "stream",
          "name": "stdout",
          "text": [
            "[[[1 2]]]\n",
            "[[3 4]\n",
            " [5 6]]\n"
          ]
        }
      ]
    },
    {
      "cell_type": "code",
      "source": [
        "a + b"
      ],
      "metadata": {
        "colab": {
          "base_uri": "https://localhost:8080/"
        },
        "id": "KULpquoX-MvZ",
        "outputId": "42df6bd3-a7a0-4350-b432-f3ef60bfa6da"
      },
      "execution_count": null,
      "outputs": [
        {
          "output_type": "execute_result",
          "data": {
            "text/plain": [
              "array([[[4, 6],\n",
              "        [6, 8]]])"
            ]
          },
          "metadata": {},
          "execution_count": 10
        }
      ]
    },
    {
      "cell_type": "markdown",
      "source": [
        "## Broadcasting en Práctica"
      ],
      "metadata": {
        "id": "oSkpkvfu-c-1"
      }
    },
    {
      "cell_type": "code",
      "source": [
        "rng = np.random.default_rng(seed=1701)\n",
        "X = rng.random((10, 3))\n",
        "X"
      ],
      "metadata": {
        "colab": {
          "base_uri": "https://localhost:8080/"
        },
        "id": "uwhD4mm7-Nlh",
        "outputId": "ccde48b8-6422-4b83-ef6f-f3fb8dd21ecd"
      },
      "execution_count": null,
      "outputs": [
        {
          "output_type": "execute_result",
          "data": {
            "text/plain": [
              "array([[0.4020733 , 0.30563311, 0.67668051],\n",
              "       [0.15821208, 0.79247763, 0.09419469],\n",
              "       [0.36753944, 0.06388928, 0.96431608],\n",
              "       [0.35200998, 0.54550343, 0.88597945],\n",
              "       [0.57016965, 0.26614394, 0.8170382 ],\n",
              "       [0.55906652, 0.06387035, 0.84877751],\n",
              "       [0.89414484, 0.18920785, 0.23660015],\n",
              "       [0.16502896, 0.56583856, 0.29513111],\n",
              "       [0.29078012, 0.90079544, 0.59992434],\n",
              "       [0.09133896, 0.00578466, 0.97096222]])"
            ]
          },
          "metadata": {},
          "execution_count": 11
        }
      ]
    },
    {
      "cell_type": "code",
      "source": [
        "Xmean = X.mean(0)\n",
        "Xmean"
      ],
      "metadata": {
        "colab": {
          "base_uri": "https://localhost:8080/"
        },
        "id": "TaLZRpBi-wQP",
        "outputId": "ccdc6663-cbbf-4832-a4b7-96ac407d20fc"
      },
      "execution_count": null,
      "outputs": [
        {
          "output_type": "execute_result",
          "data": {
            "text/plain": [
              "array([0.38503638, 0.36991443, 0.63896043])"
            ]
          },
          "metadata": {},
          "execution_count": 12
        }
      ]
    },
    {
      "cell_type": "code",
      "source": [
        "X_centered = X - Xmean\n",
        "X_centered"
      ],
      "metadata": {
        "colab": {
          "base_uri": "https://localhost:8080/"
        },
        "id": "QE84-s7x-2K9",
        "outputId": "657f7735-0131-435a-ec9e-bba731fea798"
      },
      "execution_count": null,
      "outputs": [
        {
          "output_type": "execute_result",
          "data": {
            "text/plain": [
              "array([[ 0.01703691, -0.06428131,  0.03772009],\n",
              "       [-0.2268243 ,  0.4225632 , -0.54476574],\n",
              "       [-0.01749695, -0.30602514,  0.32535566],\n",
              "       [-0.0330264 ,  0.175589  ,  0.24701902],\n",
              "       [ 0.18513326, -0.10377048,  0.17807777],\n",
              "       [ 0.17403013, -0.30604408,  0.20981709],\n",
              "       [ 0.50910846, -0.18070657, -0.40236028],\n",
              "       [-0.22000743,  0.19592414, -0.34382932],\n",
              "       [-0.09425626,  0.53088102, -0.03903608],\n",
              "       [-0.29369742, -0.36412976,  0.33200179]])"
            ]
          },
          "metadata": {},
          "execution_count": 13
        }
      ]
    },
    {
      "cell_type": "markdown",
      "source": [
        "![image.png](data:image/png;base64,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)"
      ],
      "metadata": {
        "id": "dWH-szbn_Jnz"
      }
    },
    {
      "cell_type": "markdown",
      "source": [
        "## Dibujando una función de 2 dimensiones"
      ],
      "metadata": {
        "id": "z3HSSqQNA_Ut"
      }
    },
    {
      "cell_type": "code",
      "source": [
        "x = np.linspace(0, 5, 50)\n",
        "y = np.linspace(0, 5, 50)[:, np.newaxis]\n",
        "\n",
        "print(x, x.shape)\n",
        "print(y, y.shape)"
      ],
      "metadata": {
        "colab": {
          "base_uri": "https://localhost:8080/"
        },
        "id": "uDSr7azwA7Lx",
        "outputId": "fc190dcf-1153-4e06-9ec0-9887f9d5c346"
      },
      "execution_count": null,
      "outputs": [
        {
          "output_type": "stream",
          "name": "stdout",
          "text": [
            "[0.         0.10204082 0.20408163 0.30612245 0.40816327 0.51020408\n",
            " 0.6122449  0.71428571 0.81632653 0.91836735 1.02040816 1.12244898\n",
            " 1.2244898  1.32653061 1.42857143 1.53061224 1.63265306 1.73469388\n",
            " 1.83673469 1.93877551 2.04081633 2.14285714 2.24489796 2.34693878\n",
            " 2.44897959 2.55102041 2.65306122 2.75510204 2.85714286 2.95918367\n",
            " 3.06122449 3.16326531 3.26530612 3.36734694 3.46938776 3.57142857\n",
            " 3.67346939 3.7755102  3.87755102 3.97959184 4.08163265 4.18367347\n",
            " 4.28571429 4.3877551  4.48979592 4.59183673 4.69387755 4.79591837\n",
            " 4.89795918 5.        ] (50,)\n",
            "[[0.        ]\n",
            " [0.10204082]\n",
            " [0.20408163]\n",
            " [0.30612245]\n",
            " [0.40816327]\n",
            " [0.51020408]\n",
            " [0.6122449 ]\n",
            " [0.71428571]\n",
            " [0.81632653]\n",
            " [0.91836735]\n",
            " [1.02040816]\n",
            " [1.12244898]\n",
            " [1.2244898 ]\n",
            " [1.32653061]\n",
            " [1.42857143]\n",
            " [1.53061224]\n",
            " [1.63265306]\n",
            " [1.73469388]\n",
            " [1.83673469]\n",
            " [1.93877551]\n",
            " [2.04081633]\n",
            " [2.14285714]\n",
            " [2.24489796]\n",
            " [2.34693878]\n",
            " [2.44897959]\n",
            " [2.55102041]\n",
            " [2.65306122]\n",
            " [2.75510204]\n",
            " [2.85714286]\n",
            " [2.95918367]\n",
            " [3.06122449]\n",
            " [3.16326531]\n",
            " [3.26530612]\n",
            " [3.36734694]\n",
            " [3.46938776]\n",
            " [3.57142857]\n",
            " [3.67346939]\n",
            " [3.7755102 ]\n",
            " [3.87755102]\n",
            " [3.97959184]\n",
            " [4.08163265]\n",
            " [4.18367347]\n",
            " [4.28571429]\n",
            " [4.3877551 ]\n",
            " [4.48979592]\n",
            " [4.59183673]\n",
            " [4.69387755]\n",
            " [4.79591837]\n",
            " [4.89795918]\n",
            " [5.        ]] (50, 1)\n"
          ]
        }
      ]
    },
    {
      "cell_type": "code",
      "source": [
        "z = np.sin(x) **  10 + np.cos(10 + y * x) * np.cos(x)\n",
        "print(z, z.shape)"
      ],
      "metadata": {
        "colab": {
          "base_uri": "https://localhost:8080/"
        },
        "id": "A7Px59SkBWU4",
        "outputId": "bd926ef2-77e7-4450-adbf-50e93d29864f"
      },
      "execution_count": null,
      "outputs": [
        {
          "output_type": "stream",
          "name": "stdout",
          "text": [
            "[[-0.83907153 -0.83470697 -0.8216586  ...  0.8956708   0.68617261\n",
            "   0.41940746]\n",
            " [-0.83907153 -0.82902677 -0.8103873  ...  0.92522407  0.75321348\n",
            "   0.52508175]\n",
            " [-0.83907153 -0.82325668 -0.79876457 ...  0.96427357  0.84172689\n",
            "   0.66446403]\n",
            " ...\n",
            " [-0.83907153 -0.48233077 -0.01646558 ...  0.96449925  0.75196531\n",
            "   0.41982581]\n",
            " [-0.83907153 -0.47324558  0.00392612 ...  0.92542163  0.68540362\n",
            "   0.37440839]\n",
            " [-0.83907153 -0.46410908  0.02431613 ...  0.89579384  0.65690314\n",
            "   0.40107702]] (50, 50)\n"
          ]
        }
      ]
    },
    {
      "cell_type": "code",
      "source": [
        "%matplotlib inline\n",
        "import matplotlib.pyplot as plt"
      ],
      "metadata": {
        "id": "tQo7Q8ChBisk"
      },
      "execution_count": null,
      "outputs": []
    },
    {
      "cell_type": "code",
      "source": [
        "plt.imshow(z, origin='lower', extent=[0, 5, 0, 5])\n",
        "plt.colorbar()"
      ],
      "metadata": {
        "colab": {
          "base_uri": "https://localhost:8080/",
          "height": 452
        },
        "id": "GBk8qZZGBhHD",
        "outputId": "c80bf0de-8109-49a4-beb9-94a3c114e7a2"
      },
      "execution_count": null,
      "outputs": [
        {
          "output_type": "execute_result",
          "data": {
            "text/plain": [
              "<matplotlib.colorbar.Colorbar at 0x7e06e23a8690>"
            ]
          },
          "metadata": {},
          "execution_count": 25
        },
        {
          "output_type": "display_data",
          "data": {
            "text/plain": [
              "<Figure size 640x480 with 2 Axes>"
            ],
            "image/png": "[encoded data removed]"
          },
          "metadata": {}
        }
      ]
    },
    {
      "cell_type": "markdown",
      "source": [
        "Cuando queremos visualizar una función bidimensional del tipo z = f(x, y), necesitamos evaluar esta función en una malla de puntos (x, y). El broadcasting nos permite hacer esto de manera eficiente.\n",
        "\n",
        "### Paso 1: Crear los vectores base x e y\n",
        "\n",
        "```python\n",
        "# x y y tienen 50 pasos desde 0 hasta 5\n",
        "x = np.linspace(0, 5, 50)           # Vector 1D: forma (50,)\n",
        "y = np.linspace(0, 5, 50)[:, np.newaxis]  # Vector columna 2D: forma (50, 1)\n",
        "```\n",
        "\n",
        "Analicemos qué está sucediendo:\n",
        "- `np.linspace(0, 5, 50)` crea un vector con 50 valores equidistantes entre 0 y 5\n",
        "- `[:, np.newaxis]` convierte el vector y en una matriz columna añadiendo una nueva dimensión\n",
        "\n",
        "### Paso 2: Aprovechamiento del broadcasting\n",
        "\n",
        "Cuando operamos con `x` y `y`:\n",
        "- `x` tiene forma (50,)\n",
        "- `y` tiene forma (50, 1)\n",
        "\n",
        "Al realizar operaciones como `y * x`, ocurre el broadcasting:\n",
        "1. `x` se expande a forma (1, 50)\n",
        "2. Esta forma se transmite con `y` de forma (50, 1)\n",
        "3. El resultado es una malla de forma (50, 50)\n",
        "\n",
        "### Paso 3: Calcular la función para toda la malla\n",
        "\n",
        "```python\n",
        "z = np.sin(x) ** 10 + np.cos(10 + y * x) * np.cos(x)\n",
        "```\n",
        "\n",
        "Desglosemos esta operación:\n",
        "\n",
        "1. `np.sin(x) ** 10`:\n",
        "   - `x` tiene forma (50,)\n",
        "   - `np.sin(x)` también tiene forma (50,)\n",
        "   - Elevado a la potencia 10, mantiene la forma (50,)\n",
        "   - Al combinarse con el resto, se hace broadcasting a (50, 50)\n",
        "\n",
        "2. `y * x`:\n",
        "   - `y` tiene forma (50, 1)\n",
        "   - `x` tiene forma (50,)\n",
        "   - El resultado de `y * x` tiene forma (50, 50), creando una malla completa\n",
        "\n",
        "3. `np.cos(10 + y * x)`:\n",
        "   - `10 + y * x` tiene forma (50, 50)\n",
        "   - `np.cos(10 + y * x)` también tiene forma (50, 50)\n",
        "\n",
        "4. `np.cos(x)`:\n",
        "   - Tiene forma (50,)\n",
        "   - Al multiplicarse por el término anterior, se hace broadcasting a (50, 50)\n",
        "\n",
        "5. La suma final:\n",
        "   - Ambos términos se expanden a forma (50, 50)\n",
        "   - El resultado `z` tiene forma (50, 50)\n",
        "\n",
        "### Paso 4: Visualización de la función con Matplotlib\n",
        "\n",
        "```python\n",
        "plt.imshow(z, origin='lower', extent=[0, 5, 0, 5])\n",
        "plt.colorbar()\n",
        "```\n",
        "\n",
        "- `imshow` muestra la matriz como una imagen donde los valores se representan como colores\n",
        "- `origin='lower'` establece que el origen (0,0) está en la esquina inferior izquierda\n",
        "- `extent=[0, 5, 0, 5]` define los límites del eje x e y (en lugar de usar índices de píxeles)\n",
        "- `colorbar()` añade una barra de color que indica la correspondencia entre valores y colores\n",
        "\n",
        "## Ventajas del broadcasting en este contexto\n",
        "\n",
        "1. **Eficiencia computacional**: Evitamos bucles anidados para calcular z(x,y) en cada punto.\n",
        "\n",
        "2. **Código vectorizado**: El código es más conciso y legible que la alternativa usando bucles:\n",
        "   ```python\n",
        "   # Alternativa con bucles (menos eficiente)\n",
        "   z = np.zeros((50, 50))\n",
        "   for i, yi in enumerate(np.linspace(0, 5, 50)):\n",
        "       for j, xj in enumerate(np.linspace(0, 5, 50)):\n",
        "           z[i, j] = np.sin(xj)**10 + np.cos(10 + yi*xj) * np.cos(xj)\n",
        "   ```\n",
        "\n",
        "3. **Memoria eficiente**: No es necesario crear matrices intermedias explícitas de x e y."
      ],
      "metadata": {
        "id": "pNpdBAMHCG4W"
      }
    },
    {
      "cell_type": "markdown",
      "source": [
        "# Ejercicios de Broadcasting en NumPy\n",
        "\n",
        "## Ejercicio 1: Operaciones básicas con Broadcasting\n",
        "\n",
        "En este ejercicio practicarás operaciones básicas de broadcasting con arrays de diferentes dimensiones.\n",
        "\n",
        "```python\n",
        "import numpy as np\n",
        "\n",
        "# 1.1 Crea un array unidimensional x con valores del 0 al 9\n",
        "# Tu código aquí\n",
        "\n",
        "# 1.2 Crea un array columna y con valores del 10 al 19 (usa reshape o np.newaxis)\n",
        "# Tu código aquí\n",
        "\n",
        "# 1.3 Suma los arrays x e y usando broadcasting y muestra el resultado\n",
        "# ¿Qué forma tiene el resultado?\n",
        "# Tu código aquí\n",
        "\n",
        "# 1.4 Crea una matriz 3x3 de unos\n",
        "# Tu código aquí\n",
        "\n",
        "# 1.5 Multiplica la matriz de unos por el array x\n",
        "# ¿Qué ocurre con cada fila de la matriz?\n",
        "# Tu código aquí\n",
        "\n",
        "# 1.6 Resta el array columna y a la matriz de unos\n",
        "# ¿Qué ocurre con cada columna de la matriz?\n",
        "# Tu código aquí\n",
        "```\n",
        "\n",
        "## Ejercicio 2: Broadcasting con matrices y vectores\n",
        "\n",
        "En este ejercicio practicarás cómo usar broadcasting para realizar operaciones comunes en análisis de datos.\n",
        "\n",
        "```python\n",
        "import numpy as np\n",
        "\n",
        "# 2.1 Crea una matriz de datos X con forma (4, 3) con valores aleatorios entre 0 y 1\n",
        "# Tu código aquí\n",
        "\n",
        "# 2.2 Calcula la media de cada columna de X\n",
        "# Tu código aquí\n",
        "\n",
        "# 2.3 Usa broadcasting para centrar los datos (restar a cada columna su media)\n",
        "# Tu código aquí\n",
        "\n",
        "# 2.4 Crea un array de pesos w con forma (3,) con valores [0.1, 0.5, 0.9]\n",
        "# Tu código aquí\n",
        "\n",
        "# 2.5 Usa broadcasting para multiplicar cada columna de X por el peso correspondiente\n",
        "# Tu código aquí\n",
        "\n",
        "# 2.6 Suma las filas de la matriz ponderada para obtener un vector de puntuaciones\n",
        "# Tu código aquí\n",
        "```\n",
        "\n",
        "## Ejercicio 3: Visualización con Broadcasting\n",
        "\n",
        "En este ejercicio usarás broadcasting para crear visualizaciones de funciones matemáticas.\n",
        "\n",
        "```python\n",
        "import numpy as np\n",
        "import matplotlib.pyplot as plt\n",
        "\n",
        "# 3.1 Crea un array x con 50 valores equidistantes entre -5 y 5\n",
        "# Tu código aquí\n",
        "\n",
        "# 3.2 Crea un array y con 50 valores equidistantes entre -5 y 5\n",
        "# y conviértelo en un array columna\n",
        "# Tu código aquí\n",
        "\n",
        "# 3.3 Usa broadcasting para calcular la distancia de cada punto (x,y) al origen\n",
        "# Fórmula: d = sqrt(x² + y²)\n",
        "# Tu código aquí\n",
        "\n",
        "# 3.4 Usa la distancia para calcular z = sin(d)/d\n",
        "# (Esta es la función seno cardinal o sinc en 2D)\n",
        "# Para evitar la división por cero, puedes usar np.where o np.divide con out=np.zeros_like\n",
        "# Tu código aquí\n",
        "\n",
        "# 3.5 Visualiza la función como un mapa de calor\n",
        "plt.figure(figsize=(10, 8))\n",
        "# Tu código para mostrar z como una imagen\n",
        "# plt.imshow(...)\n",
        "# plt.colorbar()\n",
        "# plt.title('Función seno cardinal 2D: sin(r)/r')\n",
        "# plt.show()\n",
        "```"
      ],
      "metadata": {
        "id": "JhzEBrZeC7fS"
      }
    },
    {
      "cell_type": "markdown",
      "source": [
        "### Soluciones"
      ],
      "metadata": {
        "id": "XmFJ3nwbIFVl"
      }
    },
    {
      "cell_type": "code",
      "source": [
        "import numpy as np\n",
        "\n",
        "# 1.1 Crea un array unidimensional x con valores del 0 al 9\n",
        "x = np.arange(10)\n",
        "print(x)\n",
        "\n",
        "# 1.2 Crea un array columna y con valores del 10 al 19 (usa reshape o np.newaxis)\n",
        "y = np.arange(10, 20)[:, np.newaxis]\n",
        "print(y)\n",
        "\n",
        "# 1.3 Suma los arrays x e y usando broadcasting y muestra el resultado\n",
        "# ¿Qué forma tiene el resultado?\n",
        "resultado = x + y\n",
        "print(resultado, resultado.shape)\n",
        "\n",
        "# 1.4 Crea una matriz 3x3 de unos\n",
        "unos = np.ones((3, 3))\n",
        "print(unos)\n",
        "\n",
        "# 1.5 Multiplica la matriz de unos por el array x\n",
        "# ¿Qué ocurre con cada fila de la matriz?\n",
        "producto = unos * x[:3]\n",
        "print(producto)\n",
        "\n",
        "# 1.6 Resta el array columna y a la matriz de unos\n",
        "# ¿Qué ocurre con cada columna de la matriz?\n",
        "resta = unos - y[:3]\n",
        "print(y[:3])\n",
        "print(resta)"
      ],
      "metadata": {
        "colab": {
          "base_uri": "https://localhost:8080/"
        },
        "id": "M6nAhp2CB1R0",
        "outputId": "b375ca8d-9444-446a-fabf-c92b519fc362"
      },
      "execution_count": null,
      "outputs": [
        {
          "output_type": "stream",
          "name": "stdout",
          "text": [
            "[0 1 2 3 4 5 6 7 8 9]\n",
            "[[10]\n",
            " [11]\n",
            " [12]\n",
            " [13]\n",
            " [14]\n",
            " [15]\n",
            " [16]\n",
            " [17]\n",
            " [18]\n",
            " [19]]\n",
            "[[10 11 12 13 14 15 16 17 18 19]\n",
            " [11 12 13 14 15 16 17 18 19 20]\n",
            " [12 13 14 15 16 17 18 19 20 21]\n",
            " [13 14 15 16 17 18 19 20 21 22]\n",
            " [14 15 16 17 18 19 20 21 22 23]\n",
            " [15 16 17 18 19 20 21 22 23 24]\n",
            " [16 17 18 19 20 21 22 23 24 25]\n",
            " [17 18 19 20 21 22 23 24 25 26]\n",
            " [18 19 20 21 22 23 24 25 26 27]\n",
            " [19 20 21 22 23 24 25 26 27 28]] (10, 10)\n",
            "[[1. 1. 1.]\n",
            " [1. 1. 1.]\n",
            " [1. 1. 1.]]\n",
            "[[0. 1. 2.]\n",
            " [0. 1. 2.]\n",
            " [0. 1. 2.]]\n",
            "[[10]\n",
            " [11]\n",
            " [12]]\n",
            "[[ -9.  -9.  -9.]\n",
            " [-10. -10. -10.]\n",
            " [-11. -11. -11.]]\n"
          ]
        }
      ]
    },
    {
      "cell_type": "code",
      "source": [
        "import numpy as np\n",
        "np.random.seed(42)\n",
        "\n",
        "# 2.1 Crea una matriz de datos X con forma (4, 3) con valores aleatorios entre 0 y 1\n",
        "X = np.random.random((4,3))\n",
        "print(X)\n",
        "\n",
        "# 2.2 Calcula la media de cada columna de X\n",
        "medias_columnas = X.mean(axis=0)\n",
        "print(medias_columnas)\n",
        "\n",
        "\n",
        "# 2.3 Usa broadcasting para centrar los datos (restar a cada columna su media)\n",
        "X_centrada = X - medias_columnas\n",
        "print(X_centrada)\n",
        "\n",
        "# 2.4 Crea un array de pesos w con forma (3,) con valores [0.1, 0.5, 0.9]\n",
        "w = np.array([0.1, 0.5, 0.9])\n",
        "print(w)\n",
        "\n",
        "\n",
        "# 2.5 Usa broadcasting para multiplicar cada columna de X por el peso correspondiente\n",
        "X_ponderada = X_centrada * w\n",
        "print(X_ponderada)\n",
        "\n",
        "\n",
        "# 2.6 Suma las filas de la matriz ponderada para obtener un vector de puntuaciones\n",
        "puntuaciones = X_ponderada.sum(axis=1)\n",
        "print(puntuaciones)\n"
      ],
      "metadata": {
        "colab": {
          "base_uri": "https://localhost:8080/"
        },
        "id": "in5EO7mgPke_",
        "outputId": "669f343d-c221-4c6a-dff9-c1ff6b10f996"
      },
      "execution_count": null,
      "outputs": [
        {
          "output_type": "stream",
          "name": "stdout",
          "text": [
            "[[0.37454012 0.95071431 0.73199394]\n",
            " [0.59865848 0.15601864 0.15599452]\n",
            " [0.05808361 0.86617615 0.60111501]\n",
            " [0.70807258 0.02058449 0.96990985]]\n",
            "[0.4348387  0.4983734  0.61475333]\n",
            "[[-0.06029858  0.45234091  0.11724061]\n",
            " [ 0.16381979 -0.34235476 -0.45875881]\n",
            " [-0.37675509  0.36780275 -0.01363832]\n",
            " [ 0.27323388 -0.4777889   0.35515652]]\n",
            "[0.1 0.5 0.9]\n",
            "[[-0.00602986  0.22617045  0.10551655]\n",
            " [ 0.01638198 -0.17117738 -0.41288293]\n",
            " [-0.03767551  0.18390137 -0.01227449]\n",
            " [ 0.02732339 -0.23889445  0.31964087]]\n",
            "[ 0.32565715 -0.56767833  0.13395138  0.10806981]\n"
          ]
        }
      ]
    },
    {
      "cell_type": "code",
      "source": [
        "import numpy as np\n",
        "import matplotlib.pyplot as plt\n",
        "\n",
        "# 3.1 Crea un array x con 50 valores equidistantes entre -5 y 5\n",
        "x = np.linspace(-5, 5, 50)\n",
        "print(x)\n",
        "\n",
        "# 3.2 Crea un array y con 50 valores equidistantes entre -5 y 5\n",
        "# y conviértelo en un array columna\n",
        "y = np.linspace(-5, 5, 50)[:, np.newaxis]\n",
        "print(y)\n",
        "\n",
        "print(x.shape, y.shape)\n",
        "\n",
        "# 3.3 Usa broadcasting para calcular la distancia de cada punto (x,y) al origen\n",
        "# Fórmula: d = sqrt(x² + y²)\n",
        "d = np.sqrt(x**2 + y**2)\n",
        "print(d, d.shape)\n",
        "\n",
        "\n",
        "# 3.4 Usa la distancia para calcular z = sin(d)/d\n",
        "# (Esta es la función seno cardinal o sinc en 2D)\n",
        "# Para evitar la división por cero, puedes usar np.where o np.divide con out=np.zeros_like\n",
        "z = np.where(d > 1e-10, np.sin(d) / d, 1.0) # Límite de sin(x)/x cuando x->0 es 1\n",
        "\n",
        "\n",
        "# 3.5 Visualiza la función como un mapa de calor\n",
        "plt.figure(figsize=(10, 8))\n",
        "# Tu código para mostrar z como una imagen\n",
        "plt.figure(figsize=(10, 8))\n",
        "plt.imshow(z, extent=[-5, 5, -5, 5], origin='lower', cmap='viridis')\n",
        "plt.colorbar()\n",
        "plt.title('Función seno cardinal 2D: sin(r)/r')\n",
        "plt.show()"
      ],
      "metadata": {
        "colab": {
          "base_uri": "https://localhost:8080/",
          "height": 1000
        },
        "id": "lmb4pKB6I2HK",
        "outputId": "690f9bf9-930b-4458-9f38-49bb8fbb1500"
      },
      "execution_count": null,
      "outputs": [
        {
          "output_type": "stream",
          "name": "stdout",
          "text": [
            "[-5.         -4.79591837 -4.59183673 -4.3877551  -4.18367347 -3.97959184\n",
            " -3.7755102  -3.57142857 -3.36734694 -3.16326531 -2.95918367 -2.75510204\n",
            " -2.55102041 -2.34693878 -2.14285714 -1.93877551 -1.73469388 -1.53061224\n",
            " -1.32653061 -1.12244898 -0.91836735 -0.71428571 -0.51020408 -0.30612245\n",
            " -0.10204082  0.10204082  0.30612245  0.51020408  0.71428571  0.91836735\n",
            "  1.12244898  1.32653061  1.53061224  1.73469388  1.93877551  2.14285714\n",
            "  2.34693878  2.55102041  2.75510204  2.95918367  3.16326531  3.36734694\n",
            "  3.57142857  3.7755102   3.97959184  4.18367347  4.3877551   4.59183673\n",
            "  4.79591837  5.        ]\n",
            "[[-5.        ]\n",
            " [-4.79591837]\n",
            " [-4.59183673]\n",
            " [-4.3877551 ]\n",
            " [-4.18367347]\n",
            " [-3.97959184]\n",
            " [-3.7755102 ]\n",
            " [-3.57142857]\n",
            " [-3.36734694]\n",
            " [-3.16326531]\n",
            " [-2.95918367]\n",
            " [-2.75510204]\n",
            " [-2.55102041]\n",
            " [-2.34693878]\n",
            " [-2.14285714]\n",
            " [-1.93877551]\n",
            " [-1.73469388]\n",
            " [-1.53061224]\n",
            " [-1.32653061]\n",
            " [-1.12244898]\n",
            " [-0.91836735]\n",
            " [-0.71428571]\n",
            " [-0.51020408]\n",
            " [-0.30612245]\n",
            " [-0.10204082]\n",
            " [ 0.10204082]\n",
            " [ 0.30612245]\n",
            " [ 0.51020408]\n",
            " [ 0.71428571]\n",
            " [ 0.91836735]\n",
            " [ 1.12244898]\n",
            " [ 1.32653061]\n",
            " [ 1.53061224]\n",
            " [ 1.73469388]\n",
            " [ 1.93877551]\n",
            " [ 2.14285714]\n",
            " [ 2.34693878]\n",
            " [ 2.55102041]\n",
            " [ 2.75510204]\n",
            " [ 2.95918367]\n",
            " [ 3.16326531]\n",
            " [ 3.36734694]\n",
            " [ 3.57142857]\n",
            " [ 3.7755102 ]\n",
            " [ 3.97959184]\n",
            " [ 4.18367347]\n",
            " [ 4.3877551 ]\n",
            " [ 4.59183673]\n",
            " [ 4.79591837]\n",
            " [ 5.        ]]\n",
            "(50,) (50, 1)\n",
            "[[7.07106781 6.92826335 6.78859077 ... 6.78859077 6.92826335 7.07106781]\n",
            " [6.92826335 6.7824528  6.63971367 ... 6.63971367 6.7824528  6.92826335]\n",
            " [6.78859077 6.63971367 6.49383779 ... 6.49383779 6.63971367 6.78859077]\n",
            " ...\n",
            " [6.78859077 6.63971367 6.49383779 ... 6.49383779 6.63971367 6.78859077]\n",
            " [6.92826335 6.7824528  6.63971367 ... 6.63971367 6.7824528  6.92826335]\n",
            " [7.07106781 6.92826335 6.78859077 ... 6.78859077 6.92826335 7.07106781]] (50, 50)\n"
          ]
        },
        {
          "output_type": "display_data",
          "data": {
            "text/plain": [
              "<Figure size 1000x800 with 0 Axes>"
            ]
          },
          "metadata": {}
        },
        {
          "output_type": "display_data",
          "data": {
            "text/plain": [
              "<Figure size 1000x800 with 2 Axes>"
            ],
            "image/png": "[encoded data removed]"
          },
          "metadata": {}
        }
      ]
    },
    {
      "cell_type": "markdown",
      "source": [
        "1. `np.where(d > 1e-10, np.sin(d) / d, 1.0)` - Es una función condicional vectorizada que:\n",
        "   \n",
        "   - Evalúa cada valor en el array `d`\n",
        "   - Para cada elemento donde `d > 1e-10` (es decir, valores suficientemente alejados de cero), calcula `np.sin(d) / d`\n",
        "   - Para cada elemento donde `d ≤ 1e-10` (valores muy cercanos a cero), asigna el valor `1.0`\n",
        "\n",
        "2. El comentario `# Límite de sin(x)/x cuando x->0 es 1` explica por qué se usa el valor 1.0 para valores cercanos a cero:\n",
        "   - Matemáticamente, el límite de `sin(x)/x` cuando x tiende a 0 es exactamente 1\n",
        "   - Pero computacionalmente, dividir por valores muy pequeños puede causar inestabilidad numérica o errores de división por cero\n",
        "   - Por eso se usa una aproximación: cualquier valor menor que 1e-10 se trata como \"efectivamente cero\""
      ],
      "metadata": {
        "id": "YiEJpRGTUP6w"
      }
    },
    {
      "cell_type": "code",
      "source": [],
      "metadata": {
        "id": "LsBk-HwnTkSO"
      },
      "execution_count": null,
      "outputs": []
    },
    {
      "cell_type": "code",
      "source": [],
      "metadata": {
        "id": "iXoNwspKBwuo"
      },
      "execution_count": null,
      "outputs": []
    },
    {
      "cell_type": "code",
      "source": [],
      "metadata": {
        "id": "GsRYI5sTBR7l"
      },
      "execution_count": null,
      "outputs": []
    }
  ]
}