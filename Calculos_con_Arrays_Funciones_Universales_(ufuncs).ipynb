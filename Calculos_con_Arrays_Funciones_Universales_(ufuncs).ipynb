{
  "nbformat": 4,
  "nbformat_minor": 0,
  "metadata": {
    "colab": {
      "provenance": [],
      "include_colab_link": true
    },
    "kernelspec": {
      "name": "python3",
      "display_name": "Python 3"
    },
    "language_info": {
      "name": "python"
    }
  },
  "cells": [
    {
      "cell_type": "markdown",
      "metadata": {
        "id": "view-in-github",
        "colab_type": "text"
      },
      "source": [
        "<a href=\"https://colab.research.google.com/github/Victorvv1/Curso-de-Analisis-de-Datos-/blob/main/Calculos_con_Arrays_Funciones_Universales_(ufuncs).ipynb\" target=\"_parent\"><img src=\"https://colab.research.google.com/assets/colab-badge.svg\" alt=\"Open In Colab\"/></a>"
      ]
    },
    {
      "cell_type": "markdown",
      "source": [
        "# Cálculos con Arrays: Funciones Universales (ufuncs)"
      ],
      "metadata": {
        "id": "XVWbpbaXQfi8"
      }
    },
    {
      "cell_type": "markdown",
      "source": [
        "El cálculo en matrices NumPy puede ser muy rápido, o puede ser muy lento. La clave para hacerlo rápido es utilizar operaciones vectorizadas, generalmente implementadas a través de las *funciones universales* (ufuncs) de NumPy. Este capítulo motiva la necesidad de las ufuncs de NumPy, que pueden usarse para hacer cálculos repetidos en elementos de matrices mucho más eficientes. Luego introduce muchas de las ufuncs aritméticas más comunes y útiles disponibles en el paquete NumPy.\n"
      ],
      "metadata": {
        "id": "FW7XcGNRaOyo"
      }
    },
    {
      "cell_type": "markdown",
      "source": [
        "## La lentitud de los bucles\n",
        "La implementación predeterminada de Python (conocida como CPython) realiza algunas operaciones muy lentamente. Esto se debe en parte a la naturaleza dinámica e interpretada del lenguaje; los tipos son flexibles, por lo que las secuencias de operaciones no pueden compilarse en código de máquina eficiente como en lenguajes como C y Fortran. Recientemente ha habido varios intentos de abordar esta debilidad: ejemplos conocidos son el proyecto PyPy, una implementación de Python compilada en tiempo de ejecución; el proyecto Cython, que convierte código Python en código C compilable; y el proyecto Numba, que convierte fragmentos de código Python en bytecode LLVM rápido. Cada uno de estos tiene sus fortalezas y debilidades, pero es seguro decir que ninguno de los tres enfoques ha superado aún el alcance y la popularidad del motor estándar CPython.\n",
        "\n",
        "La relativa lentitud de Python generalmente se manifiesta en situaciones donde se repiten muchas operaciones pequeñas; por ejemplo, recorrer matrices para operar en cada elemento. Por ejemplo, imaginemos que tenemos una matriz de valores y nos gustaría calcular el recíproco de cada uno (el resultado de dividir 1 entre ese número). Un enfoque directo podría verse así:"
      ],
      "metadata": {
        "id": "hQHWjxWraSd9"
      }
    },
    {
      "cell_type": "code",
      "source": [
        "import numpy as np\n",
        "rng = np.random.default_rng(seed=1701)\n",
        "\n",
        "def compute_reciprocals(values):\n",
        "  output = np.empty(len(values))\n",
        "  for i in range(len(values)):\n",
        "    output[i] = 1.0 / values[i]\n",
        "  return output\n",
        "\n",
        "values = rng.integers(1, 10, size=5)\n",
        "print(values)\n",
        "print(compute_reciprocals(values))"
      ],
      "metadata": {
        "colab": {
          "base_uri": "https://localhost:8080/"
        },
        "id": "Iwno4WAZaemb",
        "outputId": "3b0a8a49-6fe4-4e1a-d675-48a282ac5b6a"
      },
      "execution_count": null,
      "outputs": [
        {
          "output_type": "stream",
          "name": "stdout",
          "text": [
            "[9 4 1 3 8]\n",
            "[0.11111111 0.25       1.         0.33333333 0.125     ]\n"
          ]
        }
      ]
    },
    {
      "cell_type": "code",
      "source": [
        "big_array = rng.integers(1, 100, size=1_000_000)\n",
        "%timeit compute_reciprocals(big_array)"
      ],
      "metadata": {
        "colab": {
          "base_uri": "https://localhost:8080/"
        },
        "id": "4i9SHH0GbW_n",
        "outputId": "f6b2014f-3056-4cdd-89be-4790bbfadfc5"
      },
      "execution_count": null,
      "outputs": [
        {
          "output_type": "stream",
          "name": "stdout",
          "text": [
            "1.98 s ± 443 ms per loop (mean ± std. dev. of 7 runs, 1 loop each)\n"
          ]
        }
      ]
    },
    {
      "cell_type": "markdown",
      "source": [
        "Toma varios segundos calcular estas millones de operaciones y almacenar el resultado. Cuando incluso los teléfonos móviles tienen velocidades de procesamiento medidas en gigaflops (es decir, miles de millones de operaciones numéricas por segundo), esto parece casi absurdamente lento. Resulta que el cuello de botella aquí no son las operaciones en sí mismas, sino la comprobación de tipos y los envíos de funciones que CPython debe realizar en cada ciclo del bucle. Cada vez que se calcula el recíproco, Python primero examina el tipo del objeto y realiza una búsqueda dinámica de la función correcta para usar con ese tipo. Si estuviéramos trabajando en código compilado, esta especificación de tipo se conocería antes de que el código se ejecutara y el resultado podría calcularse mucho más eficientemente."
      ],
      "metadata": {
        "id": "Rfi4RZwObuJX"
      }
    },
    {
      "cell_type": "markdown",
      "source": [
        "## introducción a las Ufuncs\n",
        "Para muchos tipos de operaciones, NumPy proporciona una interfaz conveniente a este tipo de rutina compilada con tipos estáticos. Esto se conoce como operación vectorizada. Para operaciones simples como la división elemento a elemento aquí, la vectorización es tan simple como usar operadores aritméticos de Python directamente en el objeto matriz. Este enfoque vectorizado está diseñado para llevar el bucle a la capa compilada que subyace a NumPy, lo que conduce a una ejecución mucho más rápida.\n",
        "\n",
        "Compara los resultados de las siguientes dos operaciones:"
      ],
      "metadata": {
        "id": "jzd8C4S3b60e"
      }
    },
    {
      "cell_type": "code",
      "source": [
        "print(compute_reciprocals(values))\n",
        "print(1.0 / values)"
      ],
      "metadata": {
        "colab": {
          "base_uri": "https://localhost:8080/"
        },
        "id": "i1bBr24WbkJJ",
        "outputId": "35f856d3-9a79-4f53-f7e5-3e926f699a1c"
      },
      "execution_count": null,
      "outputs": [
        {
          "output_type": "stream",
          "name": "stdout",
          "text": [
            "[0.11111111 0.25       1.         0.33333333 0.125     ]\n",
            "[0.11111111 0.25       1.         0.33333333 0.125     ]\n"
          ]
        }
      ]
    },
    {
      "cell_type": "code",
      "source": [
        "type(values)"
      ],
      "metadata": {
        "colab": {
          "base_uri": "https://localhost:8080/"
        },
        "id": "E9YnK74gcT_d",
        "outputId": "38a6431c-8bf8-41db-f33e-b34872224f69"
      },
      "execution_count": null,
      "outputs": [
        {
          "output_type": "execute_result",
          "data": {
            "text/plain": [
              "numpy.ndarray"
            ]
          },
          "metadata": {},
          "execution_count": 4
        }
      ]
    },
    {
      "cell_type": "code",
      "source": [
        "%timeit (1.0 / big_array)"
      ],
      "metadata": {
        "colab": {
          "base_uri": "https://localhost:8080/"
        },
        "id": "htBVB0XvcVWM",
        "outputId": "9b46f2dd-2702-4e55-ef9a-6384634bb86c"
      },
      "execution_count": null,
      "outputs": [
        {
          "output_type": "stream",
          "name": "stdout",
          "text": [
            "1.91 ms ± 152 µs per loop (mean ± std. dev. of 7 runs, 100 loops each)\n"
          ]
        }
      ]
    },
    {
      "cell_type": "code",
      "source": [
        "np.arange(5) / np.arange(1,6)"
      ],
      "metadata": {
        "colab": {
          "base_uri": "https://localhost:8080/"
        },
        "id": "8Bi9bJqsckVY",
        "outputId": "dfb7fd71-03a9-44ca-f711-2cfc5a2dd6de"
      },
      "execution_count": null,
      "outputs": [
        {
          "output_type": "execute_result",
          "data": {
            "text/plain": [
              "array([0.        , 0.5       , 0.66666667, 0.75      , 0.8       ])"
            ]
          },
          "metadata": {},
          "execution_count": 7
        }
      ]
    },
    {
      "cell_type": "code",
      "source": [
        "x = np.arange(9).reshape((3, 3))\n",
        "2 ** x"
      ],
      "metadata": {
        "colab": {
          "base_uri": "https://localhost:8080/"
        },
        "id": "E1O67_ipc-cd",
        "outputId": "7745dda9-07eb-427b-a98b-1093bae64577"
      },
      "execution_count": null,
      "outputs": [
        {
          "output_type": "execute_result",
          "data": {
            "text/plain": [
              "array([[  1,   2,   4],\n",
              "       [  8,  16,  32],\n",
              "       [ 64, 128, 256]])"
            ]
          },
          "metadata": {},
          "execution_count": 8
        }
      ]
    },
    {
      "cell_type": "markdown",
      "source": [
        " Siempre que veamos un bucle en un código de numpy debemos preguntarnos si lo podemos reemplazar por una expresión vectorial"
      ],
      "metadata": {
        "id": "Dc4v4tUWdJLH"
      }
    },
    {
      "cell_type": "markdown",
      "source": [
        "## Explorando las Ufuncs de Numpy"
      ],
      "metadata": {
        "id": "T7C2VV0VdUUj"
      }
    },
    {
      "cell_type": "markdown",
      "source": [
        "### Aritméticas"
      ],
      "metadata": {
        "id": "Iz-nTeXfdaov"
      }
    },
    {
      "cell_type": "code",
      "source": [
        "x = np.arange(4)\n",
        "print(x)\n",
        "print(x + 5)\n",
        "print(x - 5)\n",
        "print(x * 2)\n",
        "print(x / 2)\n",
        "print(x // 2)"
      ],
      "metadata": {
        "colab": {
          "base_uri": "https://localhost:8080/"
        },
        "id": "R8ihp103dYA6",
        "outputId": "c171422c-24fe-420b-8976-90a812d84e9c"
      },
      "execution_count": null,
      "outputs": [
        {
          "output_type": "stream",
          "name": "stdout",
          "text": [
            "[0 1 2 3]\n",
            "[5 6 7 8]\n",
            "[-5 -4 -3 -2]\n",
            "[0 2 4 6]\n",
            "[0.  0.5 1.  1.5]\n",
            "[0 0 1 1]\n"
          ]
        }
      ]
    },
    {
      "cell_type": "code",
      "source": [
        "print(-x)\n",
        "print(x ** 2)\n",
        "print(x % 2)"
      ],
      "metadata": {
        "colab": {
          "base_uri": "https://localhost:8080/"
        },
        "id": "jRoqEwbQdtRd",
        "outputId": "cc4d9211-3333-4c4f-8676-1450f2756593"
      },
      "execution_count": null,
      "outputs": [
        {
          "output_type": "stream",
          "name": "stdout",
          "text": [
            "[ 0 -1 -2 -3]\n",
            "[0 1 4 9]\n",
            "[0 1 0 1]\n"
          ]
        }
      ]
    },
    {
      "cell_type": "code",
      "source": [
        "-(0.5*x + 1) ** 2"
      ],
      "metadata": {
        "colab": {
          "base_uri": "https://localhost:8080/"
        },
        "id": "H6plSaUjd1j2",
        "outputId": "fa89b791-9c7f-4d3e-d07b-3cb073da5b9f"
      },
      "execution_count": null,
      "outputs": [
        {
          "output_type": "execute_result",
          "data": {
            "text/plain": [
              "array([-1.  , -2.25, -4.  , -6.25])"
            ]
          },
          "metadata": {},
          "execution_count": 13
        }
      ]
    },
    {
      "cell_type": "markdown",
      "source": [
        "Todas estas operaciones son simplres wrappers de funciones específicas"
      ],
      "metadata": {
        "id": "33q0BXugd9TB"
      }
    },
    {
      "cell_type": "code",
      "source": [
        "np.add(x, 2)"
      ],
      "metadata": {
        "colab": {
          "base_uri": "https://localhost:8080/"
        },
        "id": "9yzUpEV-d6wn",
        "outputId": "2fd297e7-2ae0-4687-c3af-2d3b3d382c66"
      },
      "execution_count": null,
      "outputs": [
        {
          "output_type": "execute_result",
          "data": {
            "text/plain": [
              "array([2, 3, 4, 5])"
            ]
          },
          "metadata": {},
          "execution_count": 14
        }
      ]
    },
    {
      "cell_type": "markdown",
      "source": [
        "| Operator    | Equivalent ufunc  | Description                         |\n",
        "|-------------|-------------------|-------------------------------------|\n",
        "|`+`          |`np.add`           |Addition (e.g., `1 + 1 = 2`)         |\n",
        "|`-`          |`np.subtract`      |Subtraction (e.g., `3 - 2 = 1`)      |\n",
        "|`-`          |`np.negative`      |Unary negation (e.g., `-2`)          |\n",
        "|`*`          |`np.multiply`      |Multiplication (e.g., `2 * 3 = 6`)   |\n",
        "|`/`          |`np.divide`        |Division (e.g., `3 / 2 = 1.5`)       |\n",
        "|`//`         |`np.floor_divide`  |Floor division (e.g., `3 // 2 = 1`)  |\n",
        "|`**`         |`np.power`         |Exponentiation (e.g., `2 ** 3 = 8`)  |\n",
        "|`%`          |`np.mod`           |Modulus/remainder (e.g., `9 % 4 = 1`)|"
      ],
      "metadata": {
        "id": "M2bBQUTveyOR"
      }
    },
    {
      "cell_type": "markdown",
      "source": [
        "### Valor absoluto"
      ],
      "metadata": {
        "id": "9aXKV_NSe8eP"
      }
    },
    {
      "cell_type": "code",
      "source": [
        "x = np.array([-1, -2, 0, 1, 2])\n",
        "abs(x)"
      ],
      "metadata": {
        "colab": {
          "base_uri": "https://localhost:8080/"
        },
        "id": "TyPwj8FTe-RQ",
        "outputId": "2be0943a-0e4c-4249-a2bd-c7bd4aefc946"
      },
      "execution_count": null,
      "outputs": [
        {
          "output_type": "execute_result",
          "data": {
            "text/plain": [
              "array([1, 2, 0, 1, 2])"
            ]
          },
          "metadata": {},
          "execution_count": 15
        }
      ]
    },
    {
      "cell_type": "code",
      "source": [
        "np.abs(x)"
      ],
      "metadata": {
        "colab": {
          "base_uri": "https://localhost:8080/"
        },
        "id": "psumdfEpfDi2",
        "outputId": "76bb62cf-2835-4334-992c-3ab080db1506"
      },
      "execution_count": null,
      "outputs": [
        {
          "output_type": "execute_result",
          "data": {
            "text/plain": [
              "array([1, 2, 0, 1, 2])"
            ]
          },
          "metadata": {},
          "execution_count": 16
        }
      ]
    },
    {
      "cell_type": "markdown",
      "source": [
        "### Funciones trigonométricas"
      ],
      "metadata": {
        "id": "RaBEgdFwfJTP"
      }
    },
    {
      "cell_type": "code",
      "source": [
        "theta = np.linspace(0, np.pi, 3)\n",
        "print(theta)"
      ],
      "metadata": {
        "colab": {
          "base_uri": "https://localhost:8080/"
        },
        "id": "XOHylLSRfL-4",
        "outputId": "5c46cc61-7e35-473f-9d0c-0db4b42e3874"
      },
      "execution_count": null,
      "outputs": [
        {
          "output_type": "stream",
          "name": "stdout",
          "text": [
            "[0.         1.57079633 3.14159265]\n"
          ]
        }
      ]
    },
    {
      "cell_type": "markdown",
      "source": [
        "![image.png](data:image/png;base64,iVBORw0KGgoAAAANSUhEUgAABKwAAARQCAIAAABPlV58AAAAAXNSR0IArs4c6QAAAERlWElmTU0AKgAAAAgAAYdpAAQAAAABAAAAGgAAAAAAA6ABAAMAAAABAAEAAKACAAQAAAABAAAErKADAAQAAAABAAAEUAAAAADq+bSVAABAAElEQVR4AeydB7gctdWGfZsLHZtqqsF000tM7x0SfkIJJYQWQktooYQQWkIghBICCQFCS0ILLYTeMdV0TO/G4AAG05vbvff/7LG1Wo00O7s7u3fu7ruPn2uNRnMkvZqiIx0dtXR3d/fhBwEIQAACEIAABCAAAQhAAALNQaC1OapJLSEAAQhAAAIQgAAEIAABCEBgKgGUQO4DCEAAAhCAAAQgAAEIQAACTUQAJbCJGpuqQgACEIAABCAAAQhAAAIQQAnkHoAABCAAAQhAAAIQgAAEINBEBFACm6ixqSoEIAABCEAAAhCAAAQgAAGUQO4BCEAAAhCAAAQgAAEIQAACTUQAJbCJGpuqQgACEIAABCAAAQhAAAIQQAnkHoAABCAAAQhAAAIQgAAEINBEBFACm6ixqSoEIAABCEAAAhCAAAQgAAGUQO4BCEAAAhCAAAQgAAEIQAACTUQAJbCJGpuqQgACEIAABCAAAQhAAAIQQAnkHoAABCAAAQhAAAIQgAAEINBEBFACm6ixqSoEIAABCEAAAhCAAAQgAAGUQO4BCEAAAhCAAAQgAAEIQAACTUQAJbCJGpuqQgACEIAABCAAAQhAAAIQQAnkHoAABCAAAQhAAAIQgAAEINBEBFACm6ixqSoEIAABCEAAAhCAAAQgAAGUQO4BCEAAAhCAAAQgAAEIQAACTUQAJbCJGpuqQgACEIAABCAAAQhAAAIQQAnkHoAABCAAAQhAAAIQgAAEINBEBFACm6ixqSoEIAABCEAAAhCAAAQgAAGUQO4BCEAAAhCAAAQgAAEIQAACTUQAJbCJGpuqQgACEIAABCAAAQhAAAIQQAnkHoAABCAAAQhAAAIQgAAEINBEBFACm6ixqSoEIAABCEAAAhCAAAQgAAGUQO4BCEAAAhCAAAQgAAEIQAACTUQAJbCJGpuqQgACEIAABCAAAQhAAAIQQAnkHoAABCAAAQhAAAIQgAAEINBEBFACm6ixqSoEIAABCEAAAhCAAAQgAAGUQO4BCEAAAhCAAAQgAAEIQAACTUQAJbCJGpuqQgACEIAABCAAAQhAAAIQQAnkHoAABCAAAQhAAAIQgAAEINBEBFACm6ixqSoEIAABCEAAAhCAAAQgAAGUQO4BCEAAAhCAAAQgAAEIQAACTUQAJbCJGpuqQgACEIAABCAAAQhAAAIQQAnkHoAABCAAAQhAAAIQgAAEINBEBFACm6ixqSoEIAABCEAAAhCAAAQgAAGUQO4BCEAAAhCAAAQgAAEIQAACTUQAJbCJGpuqQgACEIAABCAAAQhAAAIQQAnkHoAABCAAAQhAAAIQgAAEINBEBFACm6ixqSoEIAABCEAAAhCAAAQgAAGUQO4BCEAAAhCAAAQgAAEIQAACTUQAJbCJGpuqQgACEIAABCAAAQhAAAIQQAnkHoAABCAAAQhAAAIQgAAEINBEBFACm6ixqSoEIAABCEAAAhCAAAQgAAGUQO4BCEAAAhCAAAQgAAEIQAACTUQAJbCJGpuqQgACEIAABCAAAQhAAAIQQAnkHoAABCAAAQhAAAIQgAAEINBEBFACm6ixqSoEIAABCEAAAhCAAAQgAAGUQO4BCEAAAhCAAAQgAAEIQAACTUQAJbCJGpuqQgACEIAABCAAAQhAAAIQQAnkHoAABCAAAQhAAAIQgAAEINBEBFACm6ixqSoEIAABCEAAAhCAAAQgAAGUQO4BCEAAAhCAAAQgAAEIQAACTUQAJbCJGpuqQgACEIAABCAAAQhAAAIQQAnkHoAABCAAAQhAAAIQgAAEINBEBFACm6ixqSoEIAABCEAAAhCAAAQgAAGUQO4BCEAAAhCAAAQgAAEIQAACTUQAJbCJGpuqQgACEIAABCAAAQhAAAIQQAnkHoAABCAAAQhAAAIQgAAEINBEBFACm6ixqSoEIAABCEAAAhCAAAQgAAGUQO4BCEAAAhCAAAQgAAEIQAACTUQAJbCJGpuqQgACEIAABCAAAQhAAAIQQAnkHoAABCAAAQhAAAIQgAAEINBEBFACm6ixqSoEIAABCEAAAhCAAAQgAAGUQO4BCEAAAhCAAAQgAAEIQAACTUQAJbCJGpuqQgACEIAABCAAAQhAAAIQQAnkHoAABCAAAQhAAAIQgAAEINBEBFACm6ixqSoEIAABCEAAAhCAAAQgAAGUQO4BCEAAAhCAAAQgAAEIQAACTUQAJbCJGpuqQgACEIAABCAAAQhAAAIQQAnkHoAABCAAAQhAAAIQgAAEINBEBFACm6ixqSoEIAABCEAAAhCAAAQgAAGUQO4BCEAAAhCAAAQgAAEIQAACTUQAJbCJGpuqQgACEIAABCAAAQhAAAIQQAnkHoAABCAAAQhAAAIQgAAEINBEBFACm6ixqSoEIAABCEAAAhCAAAQgAAGUQO4BCEAAAhCAAAQgAAEIQAACTUQAJbCJGpuqQgACEIAABCAAAQhAAAIQQAnkHoAABCAAAQhAAAIQgAAEINBEBFACm6ixqSoEIAABCEAAAhCAAAQgAAGUQO4BCEAAAhCAAAQgAAEIQAACTUQAJbCJGpuqQgACEIAABCAAAQhAAAIQQAnkHoAABCAAAQhAAAIQgAAEINBEBFACm6ixqSoEIAABCEAAAhCAAAQgAAGUQO4BCEAAAhCAAAQgAAEIQAACTUQAJbCJGpuqQgACEIAABCAAAQhAAAIQQAnkHoAABCAAAQhAAAIQgAAEINBEBNqbqK5UFQIQgAAEIJBI4IEHHjDnN9hgAxMmAAEIQAACEGgkAswENlJrUhcIQAACEKiKwBVXXLHhtJ8CVQniYghAAAIQgECOCaAE5rhxKBoEIAABCEAAAhCAAAQgAIGsCaAEZk0UeRCAAAQgAAEIQAACEIAABHJMACUwx41D0SAAAQhAAAIQgAAEIAABCGRNACUwa6LIgwAEIAABCEAAAhCAAAQgkGMCKIE5bhyKBgEIQAACEIAABCAAAQhAIGsCKIFZE0UeBCAAAQhAAAIQgAAEIACBHBNACcxx41A0CEAAAhCAAAQgAAEIQAACWRNACcyaKPIgAAEIQAACEIAABCAAAQjkmABKYI4bh6JBAAIQgAAEIAABCEAAAhDImgBKYNZEkQcBCEAAAhCAAAQgAAEIQCDHBFACc9w4FA0CEIAABCAAAQhAAAIQgEDWBFACsyaKPAhAAAIQgAAEIAABCEAAAjkmgBKY48ahaBCAAAQgAAEIQAACEIAABLImgBKYNVHkQQACEIAABCAAAQhAAAIQyDEBlMAcNw5FgwAEIAABCEAAAhCAAAQgkDUBlMCsiSIPAhCAAAQgAAEIQAACEIBAjgmgBOa4cSgaBCAAAQhAAAIQgAAEIACBrAmgBGZNFHkQgAAEIAABCEAAAhCAAARyTAAlMMeNQ9EgAAEIQAACEIAABCAAAQhkTQAlMGuiyIMABCAAAQhAAAIQgAAEIJBjAiiBOW4cigYBCEAAAhCAAAQgAAEIQCBrAiiBWRNFHgQgAAEIQAACEIAABCAAgRwTQAnMceNQNAhAAAIQgAAEIAABCEAAAlkTQAnMmijyIAABCEAAAhCAAAQgAAEI5JgASmCOG4eiQQACEIAABCAAAQhAAAIQyJoASmDWRJEHAQhAAAIQgAAEIAABCEAgxwRQAnPcOBQNAhCAAAQgAAEIQAACEIBA1gRQArMmijwIQAACEIAABCAAAQhAAAI5JoASmOPGoWgQgAAEIAABCEAAAhCAAASyJoASmDVR5EEAAhCAAAQgAAEIQAACEMgxAZTAHDcORYMABCAAAQhAAAIQgAAEIJA1AZTArIkiDwIQgAAEIAABCEAAAhCAQI4JoATmuHEoGgQgAAEIQAACEIAABCAAgawJoARmTRR5EIAABCAAAQhAAAIQgAAEckwAJTDHjUPRIAABCEAAAhCAAAQgAAEIZE0AJTBrosiDAAQgAAEIQAACEIAABCCQYwIogTluHIoGAQhAAAIQgAAEIAABCEAgawIogVkTRR4EIAABCEAAAhCAAAQgAIEcE0AJzHHjUDQIQAACEIAABCAAAQhAAAJZE0AJzJoo8iAAAQhAAAIQgAAEIAABCOSYAEpgjhuHokEAAhCAAAQgAAEIQAACEMiaAEpg1kSRBwEIQAACEIAABCAAAQhAIMcEUAJz3DgUDQIQgAAEIAABCEAAAhCAQNYEUAKzJoo8CEAAAhCAAAQgAAEIQAACOSaAEpjjxqFoEIAABCAAAQhAAAIQgAAEsiaAEpg1UeRBAAIQgAAEIAABCEAAAhDIMQGUwBw3DkWDAAQgAAEIQAACEIAABCCQNYH2rAX2Annd3d0TJ070FrSjo6Otrc17ikgIQAACEIAABCAAAQhAAAINQKAZZwIvu+yyAYHf448/3gCNShUgAAEIQAACEIAABCAAAQiECDSdEtjZ2Xnaaad5cZx99tlrrbWW9xSREIAABCAAAQhAAAIQgAAEGoNA0ymBt9566+uvvx5vvGOPPfbQQw+NxxMDAQhAAAIQgAAEIAABCECgkQg0nRJ46qmnxttv//33/93vfhePJwYCEIAABCAAAQhAAAIQgECDEWguJfDhhx8eOXKk04Q77rjjueee29LS4sRzCAEIQAACEIAABCAAAQhAoPEINJcSePrppztNuOmmm/7jH/9ob29GL6kOCg4hAAEIQAACEIAABCAAgWYg0ERK4EsvvXTzzTfbjbr66qtff/31/fv3tyMJQwACEIAABCAAAQhAAAIQaGACTaQE3nTTTXZDLrnkknISM+uss9qRhCEAAQhAAAIQgAAEIAABCDQ2gSYygzzyyCMPOugg05yaAOzXr585JAABCECgYgLffvut99qZZprJG08kBCAAgSoJTJkyRbte0ZOpEiOXi4DzCdNN1dbWBpmGJ9BESuBHH3105513elt0o402WnTRRb2niKyAwKOPPvrqq6/GL9xjjz1YfhnHQoxDQEbaX3zxhRM599xzb7vttk5kTg5fe+21pZde2luYG2+8cbvttvOeauzIt99++4EHHojXcbPNNltwwQXj8cRUSaDZ3rrNVl9ze+jbetVVV917771vvPGGejWKl0HTkCFDVlllld12222DDTZosI/s119//e9//9tUPxRobW3dc889Q2ej+DfffPOpp54aN25cV1fXN998M9dccw0ePHidddYZOHBg8oUNf/add97RLWRX8//+7/9uuOEGO8YOa/Thvffe01V6z48ZM0ZzKkssscTQoUMXX3zx2WabzU7ZwOHvvvtOT2KaCu6111759T3Z3TS/Y445JtRaBx54YNNgqEdFf/7zn3tR67Vbj+zJo5cTkKl2/P4ZPnx4bqulPWbiBVaMPA9Pnjw5t8WuacGuu+46L5O77767pvlWL3zfffeNSq5A9dLqJqGat676xOpnjxgxom6lrT6jaupbfe49IuF///vflltu6X2sTKRGWO6///4eKV6NMn333XdN7ZIDoQJIY7nggguWXXbZ0OWbb775gw8+GLq8GeLjyow0am/F5Vxjp512CpFU/DzzzHPCCSc0Q2cvGoJJQGFOabreCzMPkc2yJnDSpEl/+ctfTJM4gb/+9a9fffWVE8khBCAAgZIE3n///b/97W/xZLIvwPNwHAsxeSPw7LPPrr/++urYXX755XkrG+UxBKTaydzg9ttvNzHewNixYzfccMOTTz7Ze7YJIzVfusYaa/zsZz97+eWXQ9WXjdh66623zz77OCaRofSNF//QQw85lRIQJ0YkZcy13HLLJU/MSjU66aSTllpqKVnBOBI4zCGBZlECb7vttmQ179prr81h81AkCEAg5wTOP//8eAnlefg///kPnofjZIjJD4GPP/5YVjAyI4x3AfNTSEoiAq+88ooGlZL7MDYoTcVoaNuOac6w9BZZez7zzDNpqn/JJZdsv/32svFLk7jB0txzzz1OjdZaay07ZtSoUbLQ+ec//2lHJoQ1GCGYWgqhadiEZJzqcQLNogT+/e9/T2adME+YfCFnIQCBpiXw5ZdfnnPOOU718TzsAOEwbwRkpaxPnhbweIcw8lbaJi+PdL9tttmmXAhyg/fII4+Ue1UjpZdFojTn9DZ7qrumBDVn2EgQ0tRFiyRff/11O6VWmdqLMjRaVMEdKIHyyX/GGWfYkgnnjUBTKIFawKrdIJLRa6wo5XBRshzOQgACzUPg4osvdobntSJCy97kxqZ5IFDT3kVAY/PDhg07+OCDnVu3d9WieUorRV3uNyqo72GHHVbBVQ1zyR/+8AfNR5VbHU12aXFsuVf16vSPP/64U34tPTWOTDRgJFvxCkhGMn/1q1/JGY8jn8P8EGgK76App7A1W4gFRX5uTUoCgZwTmDhx4mmnnWYXUgOocom58MIL25GEIZArAnID4wz856p4FMYmIN+Yv/vd7+wYE5YPGLkDnXPOOe+666777rvPxJvAk08+qVPyx2tiGikgP6j2Ps+OT1Q5Av3tb39bWX1lIy3rR0dgZaJ6xVXxGWOxNSW/5pprvH6eTYKSgZ133lkubTs6Okqm7F0JtIvGrrvuapdZDgKqZGVLq0+48ZVAueVJafGiZBo6sl8r9WkDcoEABHojAfWxHFsjraxYZpllemNdKHNvJ7D88svLq7tTC/m+b9SFqU1S3yuuuMI7YStrPfXdtcmBWvzoo4/WpN+f/vQnp/V1eNZZZzWqEih3XPI+Eq9yFBNaAaQOnmYFtt56aw3h/fnPfz722GPjEuRCRkp1o3KL11c+h5zItdde28QkmNHJ/5A2P1hggQU0VPHwww/LuMA7Za1ILWpdYYUVjMzGCGgzDD2edl20cQtKoA0kF2E1SfqJbHk9koeoXJSbQkAAAvkmoC+l1gSaMmprXbaGNzQI1JnAT6f96pxpD2bXJPW9+eabvZDl6y7SAKOzZ5555tNPPx138KNFbtpzdfbZZ/cKadRIzXVfeuml3tqJm1zF6JQm+mSpKAX71FNPjafUDjdNogTqE6bRTJuA9GS5AI1iZAsaUgJ1axlEukQWpC+88IKGZrx64PPPP994SqANrfeGG39NoDw+pW8ezEHTsyIlBJqcgFZN6ONnfmiATX4/UH0IZEtAOxZ4u+Ca8pVTHzsvbZUe2jix101N2PWqLBy30YjkSFGJNEAjVpOoJmwHrr76au0rZsc0aviJJ55wqiZvOhrQjCK1XNA7Ea0tcI0GaC7XF/C8884zh3YAjxs2jVyFG9wcdPz48VdeeWV64rpTNZy26qqrprlk5MiR8dfEiiuuaEbdlLvGk/QUabdTzUbKLGehhRbSVj8yRdCbqFwL6ddee02DgnpiZXb8wQcfDBo0aMiQISuttNIuu+yy6KKLRgXWiv/HHntMG1Da5dd4YXybVG2NaqeJwvJpoeLF46MYVSe+086AAQPkDT90ScXxo0eP1oid/grdO++8o7FM2TXNP//8Aqg3lHa1mmOOOcoVLm6CI4FyFCSZb7311oQJE+add14ZM0jyfPPNp0GsTTfdtKYrAWScrO+TqiaS2vlXxoSqSJS7tuVR7gqXrJdaX56vnWSSY0baNA6qmsoxl9ZFjBkzRqYaUTVl6K97TytJnGszPNRdqtppIbho6yeYwiu2ckOvDXnzZiqphQoy+9GDrIYQVd0PgqOnaZFFFtG6vk022aQkqw8//DC+vEpq4corr+xQTXhd6DWiLWquv/563ZN6hGXjpIHYH/3oR2Y41hEVHVZf+CZ8CXhJmkg9LPqpTaMYBSJEesXpRWeSOQHd7fHtxXSrO86B5HreGXGP5Nj7cenx0Z2g7Zj1gtI9qZe87kB9j7bddlvzdDu5m8OQfM1Xmy6dPnB6G+g+N1fZAQ3k27fEYostFrr/9YaRCdlzzz2nZ1yfNr3K9PjMMssses+ozPri6Fr1EZNvYGVdzUORpr527eJhfZrlAkSfAzV69OgNHjxYH0E9gHr2v/e972nNT/wqb4xe7I8++qjz5VXK5DvHK8qOlImdfWjCG2+8sQmbgKPemHgtC/zBD35gDtMHtBZRd0v69AkppaMeeeSRWr6YkCbDU6qyV5q2uXPi1Vvbfffd//Wvfznx0nz0XDvbJDhpqj/UykP1baqXk1KCBg70OXYS6751Yuw3UojkT37yE+eq6HDdddf1xmszUm98VpH6bqpvrL9ZCSwpR10avfFKJusFCfKwY33tyhAalvjFL34Rei0ecMABKcujr0W8gSMdTPrSnnvuGT9rYvRx1cc+ZUbqE6gDba6NB374wx+qvyJp3lUBWrrqZKRPeFyIYmQK66S0D71l0MoEO00UDg1JymVzPLEdIzN9jcBJF/IWz45UpdQJtq9NCKunktJPmtpU+5xKUUyQVtkp9RI0HuG9Z+x6SUlTVyw5C6+hi8Y4o6u0PV2o6xZlpFYWkOQsKjirO3/48OF2XeJhDUbccsstJYXbzqmNEAkveWHKBLr/pSHHR0ZMXiYgVnr6EsR6q+wtqrfpBU3vCq8QlUE3QzzrrApf65eAxr8MRjsg16nxStkxNXoJ2FmEwl7DMBVeBk6hS9SCdu1MWCq9c0l84CZKHCXTUx/qP0XJdFYDlI5M+/C4444zudsB89bV5XZ8yfDZZ59ty4/C6rPKXsb7hMYF6kX0j3/8Q3daXE4UU81DUbK+oUw/+eQTLQZL8/gri08//TQkx44P2RBpGM5OVm7Y+0EX56ibEZfm5alRgHjKNDFeafFWThlz0UUXpck0nkafY28WCR0AebP0XuJ9kC+//HJvYq0qjBcmwxjtu+DNt3aR2hUmXn7bB0yUtYZmTLJQP9ZLMrrKW/6Kb0JTkuSAuj3efGsXKQU+XqT4dotRAdT9iyfOSUyfnJSjRsUIveg1BHjDDTeE7g9959KUx/uK1NtZvRzvqXh20kwSPpBRGfTqjF8Yj9Hkg+Y0vO6wslICvV3VDJVADX6XO6l4+OGHaxYlubGk1MVxlYwJfWWT8wqd1aB+cg/PKc8xxxyT8NYIKYHq7f34xz92RHkPdX9qKjJU2nLjtWxAK8K9GXkjpa8md628XUyvZlVuUZVebRH/7HnLaSITntP0RfW+E/TNSJjh0ePgVDDDwlemBKZ/CVSmBNboJeBgDB1WoARqYYy5T+xAWUqgFnTZ1yaEE4YOSw69lev4Pq4EatIveYDJW3KNHmrdkZd5NQ9Fyfp6c9QEpjdTb8kVqQ+rlASvKDtSLuW8EqpUAuWm0itWU6927ibsfbOpCiZBWYGyQHnLaUfWUwn0vpZVGG93K7SBgXoXZeEqN3EelEBNp9ttFIU1DGfXRf0KqXzqEd14440a7PjNb36jz32of6IRlrhAxciA2ZaZeRglsGKkjbwmUJqeerrxO1KWKupdqSeql2P8rGL0ofXGp4m84447NJGlvlqaxPrKhkahosvlgF7L39OIkvWC7CRtY540V+UnjSaIZI3pNZdKKKRcn22xxRbSKEJpNBV8wgknhM4mxK+55ppxv8kJ6RNO6QWqrnN8yX7CJWp3jcDFjY0TLpHdzg477JByNxTdnzLWysR2QoZwyjc05e4t8O23367OiuzHvGdrGilzO7VFuYtk9Jz++te/rkXB1MnTivmQZMfkJm+FDxW74vgavQQqLk99LpTR3RFHHJEyLy3FCc0oppRQcTK9NPSJSe9lzWQkPVl3cmjQwSQzgbIeCnNVyYC6raeccsqGG26Y8uscCdSHVYU/6qijMnlbliykk0CTXU5MdCizW2+8WRhin1UVEj6RdsrGCEuHiZvoq2rSDM3ed3ZNQ0swZANiJ2vIcHypnrqvffv2tSurlX5aeaTv5nbbbSdDOXkEPffcc2Xfa6cx4bhxaXSqgsEjI5NATQn4G7KmWdZN+GWXXebNa99999W7QCv0QjPdIdMOrzQnstx5J4096+PkCIkOpU/Ke5X3VChSk5ChU3mOl19dLXrRt6qCQmr+U6+t+JociVJfPzRanCYjDRNUb6+vUTTJkR6YJkc7jdQ5LaKwY5LDUjKlXCWnsc+qMxeaq7GTlQwfdNBBMq0smcxJIM1nm2220RSiE1/TQ7XmVlttVUFbqFR6Ts8444zMi+ftrJhcZOZtwjksvClbJoEavQQyKVtNhWhkvSz5GvkqK31WibWAIvl2TchIcwihKdP4Vcm52A9F/NqEGCnbIQvShKuiU3/84x+r+ZSUlB9K4EWhwWuzyNO5UAsynZjoUIsevfENGalFnt56hfSQ0IRnMyiBcZ3NO5ns5RmP1GSUVMR4vGLKsoTySiCyRgQaVgmURqFtZLzU5HEhiteCYG+CyD2M91TmkXrLe31Aa+guZNeeeRl6VqCMIpwNN8stj9pL86V6ATkXhhZURMn0SQgZjUQJdAuF9hpyMko4POSQQ7wf8oRLzCktXCl3zspcmyYgxSYOLc2FJo3W04eGWkyaUECt5uy0HkqZVbxukso0wKgA0slD3YusSmjL0diBHOqYmN5VeFPslIHavQRSFqAXJdN3TWt661xg2ZhopVA1mcpfVDWXR9c6D0V6gfKwcuKJJ6ZPH08p7BdeeGE8vqYx3lFIx+GQXQDjlM6OVLiyAVZHSG85DFU2BCfkCs4Lv7dASFnOuO1YyL1QGoEa6wkZc3ldGaWRSZpaE2hYJVBLMrzsNCChqe3o1BprrBFSA6rv/Wu4ToaIWoGg2TlN6IVGoVQSb1G1s0XoXaZL5K9CXkb0YdPysN6uK6ouCfY5GqWTNbls0JNHkkRDHmXsFhc97wyVpMm6XbZJ6tDLvk5akDo3odGv008/PeRJz84rFJZHrIsvvth7VreHdDDdG5oA0TBzyDL5Zz/7WQV6mlhpx0tVU3dRwsC5puMqVlBVKS0nCC1Z0Vn5XpKZvm5RPUqhpbnHH3983YaoNeSZYOYtFyy///3vr7rqKk2zhEqrSp1//vne1qxFpD0y0usKXy6QGr0Eyi1Gz6bXOgXdYLJC1xdh//33TyhMWXP+Ro46u3rPhF41UbIoQfTXtgoLDajpA6oHXKuq9DLRx05L40LzKpkogfZDYepVMvDZZ58lvAZ1uWohm0+NsyQs0FUyvY3lRLRkdhkm8PYBNJKlXaq9P71RvbnLIMUb35CRocqGlEBB8N60XvgZEgtZVGaYRbIoWTjHR5lXW2215KtCZ7UdfMi2To+tvLuHLswkPjQ3nonwxhbSsFtEhLQ45zaVaajM/eNtrGE/fc/0no2fShOjNYf65pm9XOVvWrbU8pftfa3EFy7q4TznnHNCGf33v/+V8WR0Vj6XVCMdpvQIEpLZU/FSwLwToVF51Ar67pqyff7552ovr86sNDL10eI0s/GGVoSaC+2AdEW7c6NTcgUu9UCtE9dFpedITUruGdjCnbDWkjkx0aFuD+WofQiiQ6200ey0VvvEx9qVu/SoZAXYyULjAuYmlx3/XnvtJTczIb8F6k/IH7ojIeWhSHrvZ/Ug1abaxiOSo1tU34BDDz3UO46uucQaLbdzahEy5lRppSrrzjHpZfel4RvphCbGBLT08dhjj62FY2i9hXbbbTfdvXLhqNEBvRO+//3vm3xzXnhTTjuQfkmtVNwavQTs8uQ8LK1PK23MpMT2228ve2n9vMWubFmg/N3LQYsEarGxd/ODvffe2ztopfEyjfHHSyIn6VL87K+kRtNkX6N9huJvhgom4ZMfinh5QjHqDMTf7VFi9f7lIk7vKHOtluFJY4x/lKMEsin1+uUylzuBavqmCWvC43idfJ1D73IJJ038UKYo2qUpHl9ZTMqdtyoTbl8V2tZCK4DsZHbY6RKYU+oAJOwNY5JVFpBeJAc/0SNpJGh42ruxigavvZ8kuRbzGirL15TWPhixUcBZSip7V+dG0oNQ2W63GszVs+9IM7nX4ROvV6Xeis7CXQ1OeTvGMkHy7g6gj7v3RSdV2UGnqnnX35oq96aA5hka7/fiiy+G2sBxS5hg31XSmZV39Ej5Kl6GBHGq3ompKL2TOK4MmOpIiJM4OtQkhknjBNQFdy4JrdHXeLyT0j6URuFI1qHGUO00Udj7VlJiDdE5iffbb7+4TMWoay5zQSexDlVyLe73XqJIaRTmktC0j/rxJo0dkGotCZoF0pCwpoP0bpXnEjtBueGQmyzlouHkuDT5kfPWK94oCb2QuEM/ZaTOhNROr3D1+eIlSRmjLqBXpm7FuASVwTvrrhnyuJ8xb0rdfnGxKWMSnNBosCYuREUK7VOiLqOdPn1RQ68LMXQ8d+tLpu+ZyaVGha/1SyA0u67Zb1O1KGCru/YdVf1LwMmo5KHUb7sAJiwFJnRtaKmbxqqcSxI0N/VI1BxOeh3KP6Epgx1QzyaeOP1bV54zbGkmLCUwLlYx+mhqPE7T/s4nQH0sb/rQfjx6CTjpK34oJCdlffUsa4rV1NEO6K0o5dApkg71nfL2EaNrvTeDdviQNYrz0zcoLjx9jCYw7dJWE9YK8/T55i1luVtEhNa6y54oVLXQHaKPeOiSGsWHPETEuwFRAWRJ5L0xZApUsoRx5xeaSS55VTyBXDonWLqpjxe/pD4xGkD3wgk9DiGL8ZAz3ngteuMWEY1pDqq9ibxtL8tJZ7tS3bve7e90ecWmX7qT7MFRUxKZnJmwHYgPUoZ8FmtKKjQ2rHkkb3/UzihvYY0beWeHVE4tL45vt614efQ5+uijQ+qHrWaHxmn0JdBIm4aCpGTaL1zNpqofprExLXJTJ0Ym7PaKrArQhaYiVX7vJ0cbuepUPCO9zeOR3hj1qLxWZJpf2nnnnb2XeD1Ee1M6kZqVFUAnUofqV3ntk1UGr0WZ/NOEPODFhVccExpV0Y0k77JxsTLUsYcnpI1IJ1Tr6OMht7Hx9NXEaNzBsarV7MHQoUONzDwX3hQyHggpgU5KvQSi8RcnXofVvwTiMvMZo619vH4LQ49tZRM7FdddH01ZZGioQhbm0QiFLL01ehKa21liiSW8eTmTHt40UWTJhyLhWueUOoKhSUh94r3r6zQZEu8fG7Fy2GbCJjBs2LBdYj/bvsCkTB8IDdOkl2BS1tkFl8m3RwKhGdQKzC+rWQzSI3UvK9P4gkB7SjylKM0VaxlhyGmwOtha7ZJSFMl6hEADKoEa5gzpb3vssUecsrGdc06pjxtSxpyUzqGMP52Y6FB9u5D24qSPu2yKEmhtYehFJuGhYQxHeH4O4/boUdn04vAqM9FZ1VRL9by10OfZ2AOsuOKK3jSKlKmPSKoHo86NvtOywtKCFg3qePthISEl40ONGLo9JNDbb1YvOaUfCA1nhCxeZKDlLXDFSuATTzzhFSidKnSLhlac18EJW2hEUDMtoUYXTPV6NW0VWezcddddGjiQqVuVQwNxaAm3epQ4z4WPV8fEJCytNGkUCM2kZfISsDPKbVhjN9odx1u80LhenZVAu2zRCIUmyuSjxY5XWDNXGoaT/bl3MEsJQnZ6jhwdlnwo4peEYkJDDHqWQ0qsRA0ePDi0t1BlCzJDxUuID73MEy4JnaqdTWMoxx6MD9l2VqBUe62me7BqGWatDo88qzsCtTTGiUk+1ACurANCGqCu1ZoR74xIsljO1pNAA64JvPXWW72mydFwfhyuWV8XPyVjuQqWyRrHM3GBccPiKI2jgYSMVL3G4iYX79SZOZvDgKwIvKXSqHPy90/TdOojxl89andZWkaL3DT1pLV28decnaPSy2pLP0WqK6alIOrZSBPTrWInqyw8atQo74Xjx4/3zqEpsfe+VbzMm9Up8UqzI0NdSaUJuQ6350JtUSXDoTUzsp8J1S4kUxq45rFDZzOJD002JqyH1D3gTNBlUpK4kPXWWy8eacfkufB2OZ1waCzASRbyF5LJS8DJK5+HCarIHHPM4S1zBd1Zr5wqIzXiJjNIrWLVZLW2qCnpZSo04BIvRsmHIn5JKCZkZi83MKFLoniNDns3fAqNXSZLq+Bs8kewLIGVLfSSUUzFo4Tx4qlNkzsw8UsqiwlVNuFjF5o8DImqrGC5ukrPhWODpimKBN858cKrhyNvBaFOi9LLIq+CqcV4RsTUlEADKoEhlzAyVAu5ItRghtfmqgL3MLL0M4v74y0Xeq07X8fQcjJpPnGZJmaBBRYw4VoEEt6hlWUXWnRu28KFJC+zzDJxJVCJpWKZnr0+88lKoC1cL0RNIEdzyPJiIueWCcq8fWEoHNqfV0ZDoUtC8Xpfa2/30FkTv/DCC5uwE8h8JDi0XkVmVAmWVE6pokP5aPXGZxgZeqBC2wRnmHVJUSHbOXNhrgqf+Usg1KXO6iVgMNYoUL0+FjJcr1GBqxcrwwStjNUMm+bJy5KWclxAMks+FOnzDS3FLPl6D31t1euV9pvwlU9ftuSUIVwanwp52tCCeW+nvDJlRjO6jp6QXODks3Ky0LNKYEjTU7FDu0GEOmzJNe0VZ2Xa7ZQzwUbJSalDmQIpvfdmixLLCtTrlCUuipieJdBoSqDUvJC1hvSBkHVNQhtoRZY8UiYkcE4lew5M2ReXJuOIjQ6dBY1OGn0b9Et4LJ308cPkHl7y2bi0kjEhNSlNr0i9BG8XRBuOmXzlclNrykO2SSZZPKDVa/rJJWOCuWD8KifGLolzqtzDkM9rR07Clz5zs5ZQ2zlFSnOY3kgsjTRvmlBXJjQz7xVSo8iEVotyrHPhkx/z5LPlIvrwww9DI0FZvQTKLZI3fYKmVz2Q5Bugyle6tzoVR2rPGxnShyx4S4oNaTXxC5OZxNMnxIQ+piUHgKTmaUjXu55QQ2DexYQJxajslLf11YsIfdT0LpX/0nheGfKMC89bTKiyCUtSvb0mwXdG5/NW02rKE18QGFqvEc9FKxSSPZbLN2nIqVVcGjE9S6DR1gTKc0O2QKOpofQyQy+gSELIWt2RH7LBKNnh8L7LHOEJh7JKTThrltslpCnrVKg6aWwSQmmcldxyMq5fWaUyiX/5y19qVZg5LDcg1ynlXhJKH7ofnPQJQwwyjnUSV3lY5Z1m514HJTCURegOtItX07DXRZCTY50LX8+XQMiFrwiEHnAbTiiN8xKwL6ksnMCk+lso+ZOR8FBXVpeKr9KgmAzGKtYAlW/KLnWahyJ9LUIvzzRTeSEr+sxvsFB1vJpqaFRIQkIfnfqorKFa1Dl+5pln9uYYUgJDM4Sh14tXeK+L1OYuTpkd37/OWXOovX+SNUAZ0KEBGlz5DzSUEqjv8QUXXJAt9HLdwyR/0VMOhYbceIwbNy6hdiELvYRLnFPJHZpQZ9QRkv4wtOJF8wMlhXhtQXVVXKa2yNP7TusDS8qMJ5AXcg1+x+PTxGToQSSlH4gE25WU3a809YrSmD0w018SSplynjN0eZr4+F0RXZXQnUojtvo0yYYDkfw6F76eL4GQ6b4qnu1LoMqWSmCS8tlMKEDCY5twVZ1PafedI488smSmWlmtLXZCL1s5lSkpQQnSPBRp5ERpvHqUTqVR5ELrR0KPZPpSpUypVQ/elKF3prxYedObPWm9ZxssMrQsIrTXTshmpwLDsd5CUt0nZ4pbfrzSjBRoAXDyhKHWAdp7O/cWIM1czoYyB9WWKSHdoJo2Lss9TCZTLlqu8OSTT8bLrLdYgoOQ0HY6cTmhmNCnJUofeleGpJWMD32eZSG24YYbJl8eWunhfZHJ14t+8hmjpSz6edd/hrLT1mHpN2mwhchgVS5P7JgorF1f0wxC2xfqEvswFC5XbEhOmvjQihr1As028WnkKE18T9uUF6ZPprvC67VCoyoLLbRQejmZp5TFUUmZdS583V4Cejq8D0gEJPOXQEnOCQkSFIbqp8Tr+dgm1DHhlFalJizv0do5bVykp167p0TKhjqC3sXYKcdA0zwUCaV1Tql43mdfCp5ZPe5cEh1KvQ8NEmVbQm/uUaSGg+19j0xKLcv0LpvUN86kMQHNrKY0QTKX9OqABhH0GYq3XcjyPKQ5JzgY79V8VPh4Fyg0cGPXVC7Kkjtm2jkmYYNNWxTh/BBoKCVQ2lotyFbgHqbKYoTsYbSWN8GVnPe7W1ZJEka1ZTJRfXfHKUxIoZUzTCelc6jChPYVCCmWkqCN+DSYrZ+0WRnEC5d29vT2D+zsNPRlH6YPhzxbyFw+pEGlF97jKUNLtlQ7+V7v8eI5BVCfwImJDuWGN8H9r5zda3Zdm3NqlFRD8up1Jc/ze7NIjkwzZlTnwtftJXDVVVclwKnRSyAhx4RTIZNCXZJmxjJBcq5OhZY+Xnrppd5y6s6UA0n5rHKm+EI6c0olMM1D4S2PNzI0yqMebbISGPLKW88JotBHRJ+tuBKozQC9oyqh6UQvrsaIlP4WdxmgDoyU53ivI9TQDcxNJp1OQ5f0x6uRIO10ndAJ1BxMGk3SyZfDHifQOEqgBn4qm7FJ0wbXXHNNSY/SaeSkTBPqYWtPYRXD6+RD7q1C+xrFMw0ZBybM9YVG0eLC08eEqnn22WdLVUtQ56Tte19G+jzHX/FReXR7yP5BA9USq6kV7Qahn06pytrVXQtdLr/8cq9MXSW2FSwPCNVOn5yQEqilR1p4mW0fKH1zlJUyZF+U0HfvwdppLdONN94Yr6B6t6FZVnm+UQdXl9gj8Rqd0aTHOeecExdVWUyabnGNCt9TL4HIYEH3+SWXXJIArRYvgYTsolOhRy/koFVXlRxFKplpfhKErF61Saa3kBpE825LE/qOhG45R3iah8K5JOEwNKIqR5raHSohL+0L6hWbxlGz98IKIkObbco3o3rkjsDQuzd5BZcjxD6Ul+wMb28NwtrCaxqWG9K4EqgcNfgrd3FO1nE/mVGC0Koc5/LeeBh/ojWNn1ARva61o7JjQWqnl6sYdoOwgfSicOMogQnjyvvtt1/KJpEQryZw3nnn1VMJHDZsmLfA0mS0iuaggw6Kn/3973/vLXk8ZRTjtZfQAkj1A5xh3Sh9tJleSFpl8XpryK7GW2ypu6GdBrS8O+QbzWz5KJlyPa8PmLYf0I52Gh+NctGd4KwalUKobr1+J598sl76cRsSVU2RFSiBITVJe9PH91mOAGpfCt1pUmU1kKl7QCORKpJGfHO4aii07kJqlfwHenFpWdEee+yhG0+z2dH0mmqnytZhgU3o+3TzzTe/8sor3hFfW/czt7e+gsnWkiZlykBI67Avr13he+QloH7Y3nvvrU6DedYEQZMYdpWjcJUvgbjAkjEDBw70pgntNaeJYu994hWSn0jvG17F87aC4vWMxAsv/cSrASqlhtXi6RUTUjKdxGkeCueShMPtttvOOzyqBRfyS7Tzzjt7r1UVQl6L6qkEal8r7ydSe3CfeOKJjlItYzxvXSousN7kXoH5j9ROwvLvHS+nDJUdJVCT/FdccUU8pbALfjy+AWI0vuls86uBktCGKFF9td9DaC8fJZDPhdBHqgFwNXwVGkQJ1CRDSGfQOnWn35/QqNqDQX5E4gmkReibUbeXwlprraXhf++m2wcffLDsteS40nwAdCi1MJq1iJc8FCPHHqYTZqeRiqLxPztGYS3AC21M5KQs61Afe6nWZ511VvwqOWVVJ0P1MtWM0uj9JUXCqzcqwW677RYl03qP73//+3GxF154ob6d3jlGNb2MGfRxjV8122yzxSNLxsi+wvv91hYm0j2MvmrkyFJFGqAOpbvqZ3dB1AnL26ikmGgo+tZbbzXljwK6qdR3lyNBJ15DidFXWQlEQD+TQPO60grMYS0CCU/uIYccIgsCRxFVWyjeWxLdft742kXWrvA98hLQruJipUfAENMYs3cIr8qXgJGfPhDag0dDbGp356w+Onorht5F6TOtf8qQEhia8PSutNfWCzIfjc+k6VtpN65du5AbRjtN5mGNN+nntZPU10ebxGi5uJPpCy+8sOuuuzqR0aHGTaRgxE/pTXjdddfF49Wd0CXx+JQx+kRKiY37PNcHQsPB9sC0hjs1eR4Xq9wbeG1bvL5RTMguUd8dLYez3WDqJeN9hGUoFB97lTmJtseMZ6o+jPNyiKfJT0x8jCZ5pZ9urWOPPTZU/j333FMW197FqPYlsl9z9MzGgGnXsbeG9SVrgF9oQl+tIquA9BUMGVRIzv777+/I8b7cN998cyeZfRjq7NpporBXGzE3md5iGt3U5gfSCZ1Hy6QxAX3P4vJVTpPACWgVnJ1eI0BSZpw05lAzOXbiKCynmiaBHdAsipM4ecWdXsRqEY1P6ypNAOoNnlBZJTbC1TvRh9/O2oSlXWv83qQ0AX1WvdWUHJOm3ICcyph8nYCmxWxp+g7ZXyY7seLtlAqHlujoKXBSmsPQO1omTyZNuYH4ugJTbE3VTpw40QjUDEB8ZMEkllpoUkYB3VTmrAnEOThXJR8edthhRpQT0DioNBMtZIok6I3hLYCu0u2nutgZeVN6i1rB68JkVKPC1/Ql4O0TR+Q1sWYeZAF86qmnnBaxDyt+CRh66QMJt7TeotGLKJImX/z6ItjldMIynXDyDfmykp7gpLQP09826d+6ku+U1hyOGDFCZ9VA0jFEIypJaBhCfV+7qAprqba3wJF8vYWc9N7Eyd9QIyF9fb2TQqbKJ510kgYNI7Fa4SkXAOZUPKBxOlMAO+AdO9blImknqyCc8BxpCYMmsvSx03ixeaCcMquTUEGmubok5PFOCysSyrnjjjs6KKJD3XKaudKFepwTNgC75ZZb4sJ1q3hlapQknriymNBs+T777OMVqJV43iJpZNObXpFxjU4TpKHEilfW3izKilS/y8miDjBlb+ItpEZVnMJEh5oh8KaX6yBv+nikLOS9EpxuQ/zCHozp04N5Z5i1PSRmt4EeePvLnSbHUF9cYvXhtyVU8AFLrwSq2KHXul3BNGGvEpign0imvvrHHXectp2Nj5I6OaoPZzOJwuk/z0q/0047OTLjh2lQyMLBLkl89NSIlbIn4099CfQVGTVqlHTLBINhgbLFlhXWvKVXsYxKor6OdDDNgSgL770UJdNrxck0J0qgSpVwe2gi9ze/+Y10XX1o9QEw8J2AxjKc2ukwvWYVvzYUk2ZRq/JNaC+VXE+EIz99Ub1NnLK/W6PC1/QlkNB5lXWGuQ1OP/10Ia3RS8BprJKHCQ5gVGDdG3J6JMsovd+S7xMlzrkS6L0bTaNEAVkDRsQS1F0NT0i51ZdRw3kakXQkOIfxUSpvMVI+FOm/MipeaGWgKaEa1FsYk0ABPey6Q7x3Ue2UQPUEvC8ZU7DkWzF9/9VbrzxEVqYERhYHhpITSIamu8UexDQQ6qC31EEJjHdx9QibOjoB+U5z0FV2iBLogM3PYSMogfLbEbovNSNRLusEF6MyJrSleb8ZyR+w9EqgMkpQY0L19cZ7lcDk0XevHG+kvk82kyic/vOs9Gq+kl9ob9Z25JVXXukUQxM73gayr0oTjo9eOxklHx5//PFpcgmlkZYVl58fJdC7+D5Ul3i8vsTSk+MV9HZ6vNNr8WsTYqRvxMuQPkZ3qUzgHPnpi+q9G5NfF3ZetSh8TV8CCUqgzVydDFWzRi8BG2DKcNxO2y5t+nDOlcA0zkK0LUQE7aKLLkpf8YSU8dmJah6Ksr4yzz33XELBUp6SWX7oLqqdEqgcNSuVsoROMqnooQL3ovjKlEBVUD0fB0jKw9tuu83LpwGUwPhuz3oGvZWNIjWTnBJacjKUwATIPXuqETaLT/BZsssuuyTfmvGzsj6KR0Yx0ZKt0NnM4zXqXNYTmDDfEi/byiuvnKYfEL8w8xitLvN6bkyfkSYt4w0tG3SZNnk7Gekla6l9lQqq3JzGB95SFkCFz6r7lTLHcpNtsskmcmZT7lUmvWZB67mU4ogjjoi71DOFSQ5IX9Wyn0GDBiUnq93ZWhS+x18C0oGjSf4avQQqaI7QWtAKROX5kjRTr++8805UBXWmvYMd5VZQTpjLvSSr9FoXJwPXaqRJE+uphdl6a1Wgz8gWI6S0VMOhF10rzbyCDoD8RYc8t/WiuoeKGh/4S/YblHIsL5Qd8fkn0AhKYMiwWy/BCpZEy7FhaL4ucg9Tz0aVQ4IDDjggTY6qbGi80OsGQAv6k120O5lKF5LhuBOZ1aHW3WkxSWgVX3Iuan15IvGm0Tdbrggr+AxE0vQJqX7nU21cq2HFsvTzKHd1jmU9FdonylvfHomUN4LK1gwIS8UqWWU11T2vuYjQWpFkmRoO6KkuYFSwWhS+x18C2onRYK/RS8DITxmQ24+yGlr3f8WjPCmLVItkCWOdJjtjhKztMZPXqJtLokDI1k5WNgm7UDpCMj/Ua0quXENlS8hOl2h5ZJ1fVk55ZP1RlmaiMsuFSQWVdfLt1Yf6hmrRR1kQ9CyHDG16NQpT+Piy54QdArXXS8K2EEYmgV5NoNcrgXLkJb+d3jaorG8qUfJ35BWoyCpHE0NiQ/HS3+T19IYbbkh+kcnqQwM8XqeXkhy6VgqG3ghpdCTZBSXIDxW+rHgpsdr7KL5kOUGIeo3S8RLWq+habQesOpbb79eXQFvJlzUNm1BOTXbpU6QpwYQ0zilN0mpNc5WTkI7MGh1KkZD3Xc1Yhm6zeL6qlxY6ltWniQupLCbqzmppX/rL1Ra6hULu5tLLqT5lLQrfgy8B3TCO7WWNXgLlkk/eMstI05tTbjATPB6ZlDkM6GNx+OGHJxdM7i7MCiVNGmsAJc0zrgEvfZFDaxnuuOOO5ExrelYuo+UAzLnrknPUvJD6GPLXnZys1mf79u2rOZmUN5uW9D/77LP13Jev1tWvWH70Sgl5NnLE6sbQ/end38hJ6Rxmu6mJIzzbw/hODwn3dnzaMNvCeKX1Ipje8ve6yF6vBMbd3Zo2CG0BZBKEAuuss06o/207//F6KwlpYqG80sTrO6QhGdlMaosbaT7Rl1hdEHVPteOtPJvJS9uAAQNkWOyVlvDl1vOvL5ws+kJp1FPXjI3mAKs321MW+pJ5SxhFyoBT1dFCdjlzS54V1Eo5WRLqO5fGolXdXHVf5KUtwcWiKZV6MJpQffTRR5OdJpv0KQOydtOaLs0kS2VN1ro1Qq8JQCm3oW0GlaPcmnvzlcd/b3xCpCYqE86mPKWhin333VdDhloAmWw2po+xujJyOe11s56cXVZPlrRWefbXJhC6H5LbQmMBet7VFgmfSW+ZvUX1vi50Y3glhCJrUfh6vgTsemlDF6m1dozCNXoJOLkkHxrTidDtoXg5PZLxgvYXTRZlnw29QkO52Nc64Tg3J4E5THjrah8XmVGE3vySoO+OUQJ1qKE0GYgmeH9Rh1uOoDSWp6G3rbbaypTBDjjuoDN5KGz5CfWNks0333yaItOr+Jhjjkkmr/rqVawR2IRXsZ21N+zsPeNNkzJSja5pZ/k7SZiTVBPo66lBKzRAQ1UT+/qgazA94duk775miXVjJGuAM888sxFrBzL5jNoC4+HQR18bHccTh2K0R4uzjF/Pi3eb3EjCuHHjQqLKjY9/E3sQZujBD8WXW9nelb4lpDn0rmpQWhGQKxSpgnEU8oSpLks83o6RlY5W0OkbLz8NelMssMAC2g1cnWAF7GT1DMtjleyRVB4NSMtvhL6meg+q06BtSSv+sqpqkiaZ+qmy2hdLvXB941VZ7XWjX/reVcUo1K+SR2/5m9EbVrsjyN2c3o+LLrqoyjBkyJAGeA1J35YbBg1b6KfdOLQBt+oVEVagYm61uFBvPw2CyEOsGkKllSO+qBWiWyLUa69FSSqQmXnh6/AS0OyTOrJRZdXD1hsmueK1eAkk56iz8jUdWXxoaEMF1tOql4aeVnUQ9YrQoJLU5vb2BtliV68jvWa1E4/0InnRVJ9SryDd/6pj6GUoZ05qFz3m+qude5R+8ODBei33OsVDm5fq8de3IPoo6OsQVV9NrDszeciy5F1U0wTyUKXBKY1kacxUxZZmqyYYNmxYBetfalrOTISrgfRajouSc28NN8TjE2LU3JqmFjftP6wBNf3Ev5eeXAAAQABJREFUTfaQ5er5UsVtK0rt0uFsaJxQhh48pRte9k22D2RpyD2+CrqXwvS2o3bskKOE+Cm9ZnWzxePzEIMSmIdWcMugZ1WGK+pnSDewVRRpQQmdD32Vl1hiCVdWnz5/+ctfDjzwwHg8MRCAAATqRkBe19XJjrZm1qi8JoTrlnVZGdlKYM49M5VVLxJDoDcSyFAJzKr6Z5555i9/+ctImmZfZRSQleQmlNNIMHujEtggw5kN9uRojF+b13krJa9u11xzjfeUTHG88cmmld5LiIQABCCQLYFrr7020gAlNsGqMNtMkQYBCEAgQwLffPONvWHPGmuskaHwZhMFzB5v8ZxOUPY4l54tgJbGanjJWwYtb/OOoEtpDPmDXn755b2iiIQABCBQHwIjR4607RG0ILA++ZILBCAAgawIyBBXG9to+YARKLd5JkygLALALAtXjRIzE1gjsNWKXX/99V9++WWvFHnXkKtJubDTGhWNrGtVgHZK1LLmUOLktc7eq4iEAAQgUCUBudrT9oayUdeqMy05M9IUqZWi5pAABCAAgXIJaFWePVauofO77rqrXCHp08vnwgknnGDPAepaLYXN1odc+vL06pSNAVOLqOU9y24Ie3TAjs9zGCUwp60jHS+0/6EUP7lhTFlu9bdSpiQZBCAAgQwJaBGgRrKcwSz5EZF31gxzQRQEINCEBNThrmefW95fnC6ZXmVydt0rXMLk7fZoDJjyJBffciNvqEuWB3PQkoh6JoH2t0iz/0Fy4bQacPvtt09Ow1kIQAACtSDg3QBA3aacu12tBQpkQgACvZqAnOXaW2tqN2m5lZZf1l5dqZ4qPDB7inw8X5TAOJNcxMg/tfwoaKip4tJoBxjtccTOmxUD5EIIQKAaAnJubLZpluHW0Ucfra0Iqh/bqqZIXAsBCECgMgLRqmZtKqjtbS699FI0wMowRlcBsxp6GV6LOWiGMDMWpQ0htKhmhx120Dbc5YrWNkcXXHBBr9u4qdxqkh4CEMgtgUGDBmnrcNnMaDc5hXNbTgoGAQhAoCQBDcprb0ztdtvW1lYyMQmSCQAzmU/dzjITWDfUlWS08sora0XNWWedpW21Ul4v9e/OO+/USBU7Q6QkRjIIQKB2BGSMgAZYO7xIhkBjE8iVxjV06NBcladXNz0w89B8zATmoRWSytCvX7/Dpv3kYe+hhx4aO3as/OrqpyXRH3/8saxGtcBG/j8HDx4syyspjUsttVSSOM5BAAIQgAAEIACB3kBAfZsbb7xRXqaSCzv33HMnJ+AsBLIloCVXV199dUmZ0nVbW/M734YSWLIF85JARgj65aU0lAMCEIAABCAAAQjUmMB2221X4xwQD4GyCfTv318eHMu+LGcX5Fc9zRkoigMBCEAAAhCAAAQgAAEIQKARCKAENkIrUgcIQAACEIAABCAAAQhAAAIpCaAEpgRFMghAAAIQgAAEIAABCEAAAo1AACWwEVqROkAAAhCAAAQgAAEIQAACEEhJACUwJSiSQQACEIAABCAAAQhAAAIQaAQCKIGN0IrUAQIQgAAEIAABCEAAAhCAQEoCKIEpQZEMAhCAAAQgAAEIQAACEIBAIxBACWyEVqQOEIAABCAAAQhAAAIQgAAEUhJACUwJimQQgAAEIAABCEAAAhCAAAQagQBKYCO0InWAAAQgAAEIQAACEIAABCCQkgBKYEpQJIMABCAAAQhAAAIQgAAEINAIBFACG6EVqQMEIAABCEAAAhCAAAQgAIGUBFACU4IiGQQgAAEIQAACEIAABCAAgUYggBLYCK1IHSAAAQhAAAIQgAAEIAABCKQkgBKYEhTJIAABCEAAAhCAAAQgAAEINAIBlMBGaEXqAAEIQAACEIAABCAAAQhAICUBlMCUoEgGAQhAAAIQgAAEIAABCECgEQigBDZCK1IHCEAAAhCAAAQgAAEIQAACKQmgBKYERTIIQAACEIAABCAAAQhAAAKNQKC9ESpBHSAAAQhAAAIQKEVg1Ctd4z/rjlJttGZbS0upCzifKYHJU/o8+ERnJHK5JVrnm7s3NcD7H3W/8U73PIP6LLFoa3tbkIuSvfJml07PO1fLsCWZaQiC4gQEepwASmCPNwEFgAAEIAABCNSDwDY/nTj2w6lK4Kwzt3zx3IB4lp983v3AyK43x3Spu//q210ff9qtHr/UlSWHtCyzeOuaK7c2g9747Xd9fvrrSZ99MV1bPuWIjpWXzUaZOfuSyUefPjnC/tzN/UNK4EefdD/9Ytfzr3Y994r+ds82S5+lFmsdukjLFuu1rbZ82SW555HOx57ten1098tvdn39bfeQBVsXnK9li/Xbtt6gbUD/+C3gxnR29jn/yinHnjH5q2+mA1GK3X/QfvZxHXPN6VFiz7ho8tmXTomkvPvQgIXm96Rx8+AYAhDoCQIogT1BnTwhAAEIQAAC9SXw2ttdkQaobH+4hTsNOHFSn/OvmHL8n4r6+kr5+ujOW++fPnmlycO/nNix9OJl6yH1rWi1uf1vXPeV/52uxkjWEftk01MSf6MB7vnD9hWX8WDs7u5z0TVTfnbcJKcOI5+bOrf2m7Mnqwl+fWC7/joJvIePj+o68rRJDz059VrzU4MqfPG1UzQQIEVunx2Taid9eOt9Jz7w+PQbwAj5101T7nq485aL+q2+gluLI3/aYZTAA46fpDTmKgIQgECuCLhPb64KR2EgAAEIQAACEMiEwD2PFpSBzdct0iKefL5r2c2/O+yUSfZsTzzT+x7rXGbzCb8+c7Jmh/iVRUDE9vlVQbX77WEd8ctlSCmNK64B2inVBBv/eOIpf50+nWifcsL/uHHK8B9OcDRAO43aet9fTdr5FxOnhFvz12dNMhrgPINafrBJ2yrLTe83arryR4dM/OY7W+TU8PzztPz+l9Nrp+GDq24OS3cv5RgCEKgrAZTAuuImMwhAAAIQgECPELh9RKE7vuHwwtf/08+7ZSb69nsFY7/k4v3+/Ml/uqy0EpIspNnOXnj1lEeenq6En3RIhwwyHQKyPl152wl2GzkJ7MPjzpp80AmTElRxTdP95MiCzmlf64T/fVvnUaf5U2oF6Z9mGHYetlf7mAcH/Odv/Z6+qb/+RkJ0z5z5d8+dcMhPOqQxRmmk00pddDLlEAIQyAOBwmcgD6WhDBCAAAQgAAEIZE5Adn3GqlOTOXLaEWUh+8N9j3W76fvv2v7Iv/t//OSASa/O9Mqd/S8+ta9MB+0i/fLUydIQ7BjCCQTG/K/7wBOmK1oiefg+nmlA6XWOsqRmuva8fqMfGPDNCzM9dl3/o/YruuqvV0y59PqCzaqdu2YUN99zoh0jo83rzus39pEB4x4foMDWGxbNA8t609wb9lWPPDO9iTddp+3MY/v2n2HXqfnAv/22b5Ty/pGe22CmAX3+cNT00mq+8ZDf+pVMOy/CEIBA/QmgBNafOTlCAAIQgAAE6krg0WcK04DbblzQAa65tfPGuwqnpKI8eFX/80/uu9YqrXL70dHeRysA995Rs0D91fW3S7zrYfTsbR5J4aP+UGB1wi/aZ5nJTawlf1Lq7NgDdpuqh++wRduiC7ZIpxq+UqvUqjsv62dr44efMlmOfOyrovCfLy8SteX6bfdf0V+rQBeYt0UTdApoKs9ZCnisz8T3pdenK3g/3s5dQbrbD6avJJSxqMYR4j8lWGyh6QMHV9/SaWxK4ymJgQAEeooASmBPkSdfCEAAAhCAQJ0I3P1IYcZm07UL6txtDxQ0QBXlwlP6rru6p2Mw5+wtl53e1zZilKtJ42amTnXondm8OaZbJpdR2aXC/WyXogm9KN5ZByi3MX89qTDzZuq92TptV5w9fQpOkZpkO+nPrjWmjHv/cEEhctmhrTdd0G/mYkew2uBBDS3d3kiWJ9LbLGvhKL5txm0Stztts+4RrxKo4YPfHFyo6Rl/L9JLTb4EIACBHiRgPcc9WAqyhgAEIAABCECgZgT+c3ehF77GitM//eq+3/lQQQmUz8kfbTOj4x8ryRyztfzxmIIGovNYhMYgeSLO/UdBJfvJ9m3xacDPv+yWDmaulKJ42pEF9cnER4FtN2qznfpcdn1nV+HSqUn++Z9Cg+pQHmikj8V/ra19Tjm8KBfN1znJFlto+n0SX6l4ywyHsWuv2ipR3t8OWxYylrnpizPmFb2JiYQABOpPIPDs1r8g5AgBCEAAAhCAQA0IaE2atomLBO+4ZZvRCjRJZa9D23zdEl0CZ5O6UZbqUmWp5RblP3d3StlQkRytxpH8xVfdz7zUpb3vrr29U3rLzfd1yuHKl1/7TBKdK4sPNbulmUw5z5QQqSjPvtylndwz/8lc0zbOtPUik5e2ZDRhBX51QLtZsWnHm/BR+xWUK00GOsrViBmb0Su99MnvFxvxGiEKaJfCH29XEKVdMbRw1P6Z7R80k3nWJVNMuzwxqmufY6YbuK69anDUQOruTlsVzhofM3YWhCEAgR4kUHj+e7AQZA0BCEAAAhBoHgJyyr/cFsU97owqv8f/tf/6wKIZHgnWvgJG/ObrFfrl0qZMvALLDC2hBA6aw07e58OPi7SXonOBA+1GuNU+2rB+er6v3T1AZqWH/m7y3Q8XSqiN6Y87qGOXbdtltWh+X3/b58+XT5aiqN0sTKQdWGHp1u03azt4j/ZBcxT5sLHTRGGpkZdc13na31xHLFovp5V4xx7g0otLSB8jp6AmsVQyzZuZQxN4bXRRjbT8z5zyBrRxvB0v1yyqu4m5x7L73WK9VpuhSWMCG63Z+s//mKM+2ptea0HNsUorLS6yZT3i95OuuGnKOqu1ahPF6++Y3lgiZmuk5kITkNJrTGG1M+HJh3UMnqdE65hrCUAAArUmgBJYa8LIhwAEIAABCLgEzNSce6K64/GfeRQz25xvY2uf8Z23bttqgwHjxk9V5z4c3722pQB4S/HSG0XChy1ZUBi86eORX3/bbWukb73bveFuE+3ZSF0iMnv8cpL80Mw2y1SFQTarmqw79HeuC1NHuCwq9e/EP0++7eJ+coXinDWHI57o2vanEzWBZmJMQMXQErtHn+n6nW8TP5MsfWDCxD6nnl9QAmUL6lXJXi6musSiJajOP3eRHvXQU52H7Dm9Lzd6bLddtfW/F+QQ1cJROLWdva0EKs1fT+771AsTou1DNGTgjBr888y+ySq3tFAb19+unHLyoVnq2LZwwhCAQLkEip7Pci8mPQQgAAEIQAACeSYgK8c7Hpw+16RJNnmbtEur6amhi7RohkeOKAeWmkOzlUkJMfuG2wLLCmuzckcDjC7/v80KGuDuR0za9TBXUUzIRTONoT0P5Qd1g10n2GpSXI7mJL/3wwnx+ApiRj7XaefltQWV2M++LNJIzQ57oRydNXj2fOwLrxVNKhr/nCFRCw8u6gS+8lZRSXSVdLznbxvwi5+4EwbSHl+/Z4Ac1YQkR/G6u+SM1KS55taCSmwiCUAAAj1FwH2we6oc5AsBCEAAAhBoHgLxDrqtuqj3PPdAPww7WZTCFhWfmZH9pFFFtt2o8o/+u+93a5t4u0wVzATalysc2jlA7jGjlFqopn/OVTq76AIts8/aotnLt9/t0uJAJ4F8sZz96yIfNkqgaa7tDyzaPU+RWva27mqtbW0tDz3ZqX0aHDlVHo54vCAwZAuqLKSE2xmNfq/LMfi0zyrsqM0ff1rQ3OQa1E680PxFku1TUVibT6hg5vZ4c0yhwCaxPIue85u+msF78fXuN97p0nrF5Zdqtf3EmpTewA5btBvzUc3xah1m+mu9AomEAASyIlD59yCrEiAHAhCAAAQg0FQEZBb41v3Fbvv79Fl8w++MgifTwXNPcNWYCJFme1bYujBVdf8V/TZItPqzl9ttVsr1S0Ir/OqMIg1QPirN7uEJV6U8tfsP2rWD+eQp3XJuOfLZrsgBphYQHv77okwP3av9pEM6IjNRI/mDj7plBWqvvpMPkuMP7tC2FiaNAkecWiRKyo8MRzUFOiNNh6xJt95X6xWL9KgZZyv5/+5HCtqp9mb02oJK7tLFa/xeG9291GJJ2ZmbJEr0wUeFxF99UwgrpI0Bi459B0ss2vLMS9OrrIWXoZ9U7rVX9a9pDF0SxW843BCeGiFPPLtsW5gbTL6WsxCAQE0JFD2cNc0J4RCAAAQgAAEI1JnAf+8tqCLrhH05JpdKKpYzI6e9B5IvSX921C39tbpMu1PIWeVdl/X7cOSAftP0X83O2bNeshE981d9HQ1Qucw/T8vffttX+1vYOTqWjVoKKBegJoEmo168vb+lAU49I/cqz97cv3ob1ygXOSyV21KT4/JLBvUxZ97vnMumeHfeM6L+8s+iqVEzj6cE2m3CJFNgQP9gpibZzNbO9V+V72TVyAkFNHMofducvffRQiuYSAIQgECPEEAJ7BHsZAoBCEAAAhCoOYFx46duqBBlI3cpMv+r4Cc10tnNfP9d283+ARUItC/Rnni2c0udMoXU9g92yhN/0eEshzNnW1r6HPzjIssm7c1gzipww51FipP2MV94cEEzMSnnmrPl7OP8E7AmTcqAY1y6XNiJjrNKU45z/nVTUWntHOW3Jn7WbO3gzARGurR9eTw8k6Uofvl1/HwGMbazGXtfygxEIwICEKiCQNFLswo5XAoBCEAAAhCAQL4IaP8AU6AEn5kmTTygCbQf/KxoKZ3myuIr7uIXpow5fJ/gjOJOW7UvskDrW2O63hjTPVP/qTN1CTIdVWrS9H3spl9xw50FfVKeV+z98RyZ663eqq0R7Ek8J0HKQ+3NaKdcZvFg4WUmqhV3x/+pYK0q56gd7S2aGrUlKCzFcudfFLWFk8BRkqUbl/zZNr0TJhaVueS1KROo4YzuJ2tb7Y8SsoxNKZBkEIBAJgRQAjPBiBAIQAACEIBA7giYzrdKtvFaQT0kVG5tDSfnnPZZGVLeeH4/W3Owz5YblrdSs3N9/FopY96N9eIp5QHVWctn7/yuDejts/vs2D6gf1xGIebwvTseeTpJ1yokDYdsfy1KtcgCSQrZkT/tuOz6KfZiv10OnXjTPW177dC+/JKtstiUUxa5Zv3dXwqKop2zmTutwJ7TbAFvC8w2vPjCRXWX95qSHlCzLQDSIAABLwGUQC8WIiEAAQhAAAK9m4D698Yxo7rdCZNR3nqefemUw09xNcAHr+7vNaT0SigZWW6RjMDPvujWHoPS7l4f3fXE80Xr/UwaE5DnGBNWYLFincQ+FYWXWqxIaYknSBMz3nLaqfQJuq7OSqm+8JS+m+xRpHlqd0T9K5mXveJuFmv1nS7U2sKSk4ETrBYeNGcGFY8XWE5l7EhZ6qIE2kAIQ6CnCKAE9hR58oUABCAAgXwRkAnf/z5bus8sO6lYCugweQInX6WPlWbUq4XNIbbfvK2kPmAEaBrtkN9OOv+KopVpmgMccVX/IcXbDJpLKgssHTaSdAR+8VW3dvl79uWup1/UpvBFW6I7KeOHtncZnS3pM3PwPEVKS1xgmphxnxRSpdF5Nl6r7YLf9XXWXhZEWCF5Uh08b8vpF06fFbS3EtF2DvZP7lVLztl++11BQx5Y7E/VFlVNeNaZi67+5LOiQw4gAIGeIoAS2FPkyRcCEIAABHJB4JW3ui65dsp/7ul68x2toDugz7wHqFi3P9dn0fW/G7po63abtO69Y3vFc1Y9WMOizSFK7ettyikPkzv9YpJ9rU5pWdftl/TLRDsyGSlg73Box9vh/43rPu+fU+QS03aDaScoGXYsM0uqZM7eEiXlexPYmc4xmzeJG7nfj9q1InG3wycZXz5uij59pCgqmYxFzSl7+s6ZCRSx/v1KKLSffWEk9ZltlkI4w5AzEzj+s4LamWEuiIIABMolgBJYLjHSQwACEIBAgxD4+tvuo0+f/Nd/FU152XWTWnjG3/VvyoG7t//hqI5ZZirRpbav7fHwLdamCBt8L9WCQO0Iv+XeE19+s+BORrXQrn3/PtezN0P1FXRmruICZfC5yvcnlFT/NEspb6WaKoxLUExXsdLR6U9VdKkURWf+sOh0ioM0ucTFaGr0sev6X3PrlCef79K/yMWoDD6XW6Jl1++37/6DtkhBlSmsuVYeTU144OwmODXw/rjuuQcWzhadm3Fgt/Ucs5VIPOOi8v53+NdhFWJ55SM1BJqVAEpgs7Y89YYABCDQ3AQefqprr2MmTZv9Kw1CiuJdD3ddelpfZ3O50lf2UApN6Glj7ihzuVdJM7slY8st9proKD+aBdUufMlL2mpURe1vsfmefg1QHmXkpHS5JVqXX6pV6p+mKN94R/ai33lL4ihCzu4R8UukvzkQ4mlKxtizpvZ+7iUv7NvRR85Lf7zd1ISyy5VJ5yzWVn7R5a++VVACV1qmoN475rVyh7PiMkkZykeLfbqkoaydOH3YyUU7B6a/lpQQgEDtCKAE1o4tkiEAAQhAIKcE7nq4c5ufTpzs97boL7PUxY1+POGWi/ptltq00i+oLrEPztAAldvWG7qbDcSLoEmnNXeY4MRr64LjDupIv5jQubzKwyNPm2w7zJS0A3dr14TYysu2Gn+YJgtnn3R7v/X5irWO9z4o0nyMBBMY90mJBCZlQkDL9sxZzWRKsWwr3QjmiukB6d5x9Vuzo/bUqO1AdclFC5lKhOyck5v+9XeKarra8gV90i1KFceO1o0SWAVLLoVAlgRq8sBnWUBkQQACEIAABDIloM7xTj8vTwOM8pfSqAt1eabFqYmwOx8sWD1uunYJ/UPeVjb7SWGZWVSgK8/up03Ve0oDlBb3n7sLVVCR/n1uv7+c1Fc6T1wD1FlNG9ocuywbxPnmLlKNHMXSvioKjy2lJcYvicc4mX7+VVHxnPSa8Xv/o+5Rr3Td80inUxEnpQ61c6Md+b2VCh25gXO02CseH3i8xI360JNFolYdVhBlZ1Fl2HGUOs+gKuVxOQQgkA2Bmjzw2RQNKRCAAAQgAIEaEDj4xElffFWhXF2oyyu8uI6X/ffe6f17rSjT1FlCzppZ2nC3ifbkki556Or+u2xbQnVMkFn9qdfeLrg2lbQfbNK245ZJ5bl/ZJE+Y+mAfYYu0qJFg6ZIl1435Vu/3ej0JDcE1hYaCWkC8xdrnp9+HrxI6u6gVb9bYK3vVtp2wqY/mXjh1cEVqhKhGUU7gcxi7TWBSrDNRgVKUhe//jaYr07cfF8BmhA5imvSleWc+9TyPaPrZpul0BbliCEtBCCQMYGkD0PGWSEOAhCAAAQg0NMELr52yn2PlZghSS6jLpeQ5DQ9e1ZzlWZ79O02bUswRNSSs51/4WqAD1/Tr8eXPr7wetHU2ZorJ3VX5HDyomsK+ozgT7IMfTWZKSNS0yJa73dBWNH68OPuP1xgXWwuKzMw71xFF4weG7zlVLyVli3oRdfdUVSRIil9+lx7e6ftykUb3zsJdtiioATqlK0xOikfH9VlVo3qlDYRcRJkdSh93ohK4w/WJCYAAQjUlEDSW7WmGSMcAhCAAAQgUH8Cf748A/0tEyG1q7ut5W62btKH/uRzJzsbEoy4qp82hKhd2VJKth2r6JJX3y7SCW0hUzr77P+bSfZMps5OKDZu/WGxhnPCnyZrE0hbSBTWpNxJ52agAUraUosVMXzsmYIiFM93W2v67vlXu0JuTu97rNPeHEITtgfu3uFI22jNNsWbyBPPmSwvo+bQBKQJ73100YT2IXu6okziagLyBWrfjTWyOK2mhFwLgaYl4I4hNS0IKg4BCEAAAg1PQB5B1cmuvpoSIlE9Pl0Wqoi9bGzjNYMzPB981P3784t0HvkR0b4C749Lmowymcr3SbKhqUlZQWDYkgVNRpdfdv0UmafGXfJo4k4b60k7crLQ5vJ2zBortmoy8Mr/Ttf/pTEuv9WEW/7eT/vymWSynNznmIn/vs0VZRKUFZASK/+lRsHW8rwTwterXkf9odAQPzly0sKD+zn6kpYLyljUlnHKEdqzxI6YGu7Xt89Jh3Ycfsp0BU81XWP7CQ9e1X9dq6baenGj3Se8PrqASBvQ12iO7rXRRWa9224cvBvdmnAMAQjUmABKYI0BIx4CEIAABHJD4O5Hsuniq0ISlU8lUAvebh8xvZqa05t/niJtym6KP//DnRSV9mgrkHbieFg7GfzjjL7x+ExitMO49n6wZ7E233OirB9/tE2b3J+0tfZ594PuG+7slHLozc5Yw5qzZx3bcfO9nWbCUIH1d5nwwy3a1l2tbdCcfZ55seumezpL+owx0tIEZGBpKYGdslDV9g/e34rLtGorjktm2BirbKttN2HPH7ZvtGarfGlK0b3u9k57/Z6EyEHOvjv5u3AH7d7+tysn2zreertM0KJK3a7tbS2jXu26/o4CB4nSzOHxPw+UzFvcciJHPls05hJX48sRRloIQCBLAv43SJY5IAsCEIAABCCQDwKmU159cTIUVX1hbAkPP11QdL+fOPFy10OFlLaEnIQv/2PfZTcv2rVCSzFDqzGd7d2l55x7fNGuDNKm/nthX7nAsWunZPpnx2QY3mqDtuPOKszvPfdylyYkQ/LPPb6v9CV7vZ/028uu9yeXBnjbxf0G9Peflap59Tn91t+laKmnVFz9815w80X9lijeW8KbrLLIh58uKIEqNvtDVIaRqyBQCwIogbWgikwIQAACEKgfgc7Ozm+n/b6b8Zsw4zdx4sRJkyZFfydPnvzM89v26TMwk5I98/zH559/c0dHR9++ffv16xf97T/jN2DGb6ZpvyTfLJmUxhJyzyOFbvem4S0N5Wcyt3psVJtlFm/915l9dz+iaOmaVdFCUNNcF57SV1tK/Oy46Ym15u3BJzs3HF5kfLjB99pG3dJfRpXJe8FL+dQWhclpCnmHQ9rG3VZNH3i8M0EJ1L4XN13QT056SjaKTHavOKtvso9Nmenef0W/rfYpUVOV/brz+q2/RlA1DVcu1RktCLzFckCqZkp1GYkgAIG6EEAJrAtmMoEABCAAgSoISH/74osvvvrqqy+//FJ/v/76a/39ZsZPql9K2RMmZtbflaiPPvooZb5SCWee8Zt11llnmWUW/Z1tttn0d/bZZ5cmmVKOkslO0k7sHOrUTfcULCS/F556+vLrwpIwW2D68Jyzp0/rTznHbEV1iSfa7Qft664+dT7tn/8pVMokkx3jJmu3HrVfx/Bpe+XJJ4o5pcAjT3c5SqAiZR/7+j39//7vKadfOCWu5knOeSf21WI8KYFGVMlCmpROQG4/d9qq7bx/Ti/5BVdNOfKnSfsuaiuLJ27or5oefbpfBd183TbZba61Sqp7WLV4497+p/x1yvlXTDFGsHYJD9ur/VcHdMw9sEQT2JeUG5bea0NO3rm+XOGkhwAEqiTQ0i1nWPwgAAEIQAACOSAgZe+zzz77/PPPP/30U2l9+imsv5rny6R059+y57jP5s5E1LxzfnzANpdlIkqThVIF55hjDv3Vb+DAgQrPOeecZSmHpiRnXjw52gVx4cEtoWVjJnFvCXz8affo97q1Zm/M/7pmmbll2aEtmiesZl87uQ998fWut97tfmdsV0dHi/y4SGvK3CrypTe6hm1ZsGjV7otp1pFq7/h3xna/OaZL6/rk4UbtuPjCrYsvMrWQFbSXpD36TNdbY7o+HN+tqTmJWmzhliUXbZlz9kqklVUA+ewxzng0KX3XZf3KupzEEIBATQmgBNYUL8IhAAEIQCBIQJre+PHjP5n2U1j/a6IvmDrFifb29sgMc4ZVZn9jqClzTelUh/9x4RFPxjwqppAcT7L+6t+edeS70lqNuamMTmdYoU6I7FKnTPHMX8VFhWI0VTho0CDphPqr31xzzaVwKDHx+SSw088nanO/qGzy9XLpH2rlSidv1f/k8+65VitM0T9wZf/a2Z3mre6UBwK9ggDmoL2imSgkBCAAgV5PQGrexx9/LBNK/Y1+WstXVq2k48l+MvrJolI/mVjqr2bSFNBfaXrJAtcfPnnEkwVLv+TEyWfXHz77KquskpxG+qHmMGW1qr8yYVVAf/WTLWv0S9YSpRLrN3r0aJOL1hbOPeM3zzzzKIhaaODkMyCTS6MEytfL2b/uqNi+NJ8VDJXq6lsKT7dcwqABhkARD4GeIsBMYE+RJ18IQAACjUygq6vrwxm/cdN+mihLWWHN40X2kMZCUkaSmhaTppdSQiiZNvdb90cF87xQsjTxKU37kkVJLZSaN83udbrta2QNqxnF5AvNWU11zjvtN9+MX2trqjVjRgKBWhP4/n4TzQYPf/tt35/t0vjj71ppJDtY4+z0zsv6sTlErW8z5EOgXAIogeUSIz0EIAABCPgJvD/t98EHH0j70980a841dzfN1HHqH01q6ae1cNUre/7yTYtdcZsJ1e8XL/8i8jOZkEuVp6QcShvU3Kl+kbms/mpesaTYlpaW+eefX/qg/g6e9it5CQlqTWDkc11r7jBdq5e/0NEPDJAv0Mb+XXdH544HTx/00X6PcnjT2PWldhDojQRQAntjq1FmCEAAArkgoFmssWPH/m/GL9m4USXWtFVkzChTRq1wU1hTfHWuiTaa2/dXpbWp5FL9/dS+2rg8OU3mZzVXKDNaraI0JrUlJ1dlQLvAjN+CCy6o2dTMS4XANAT2PGrS5TdMXyB6+tEdchOa5qpemmbS5D7LbPadvPhE5X/suv6R+9ZeWh2KDYFGJYAS2KgtS70gAAEI1ISANJD33nvv3XfflfqnearkPDStZ4wVpfhpoi85fX3ObvzjCfc9VthMr9xMN1qz9d5/5mJmQ/zVHJp3jQxuNXmYXBfxlyq48MILL7TQQmqO5MSczZDAZ190L73ZhGi/BO1sMXpE/0Fz1Nw5Z4blL0vUX6+YctAJ08dZjtm/49RfNrLGWxYZEkMgVwRQAnPVHBQGAhCAQB4JSMd45513pPiNGTNGlooJRdQqvsgQMTJKrKlhZ0Ixkk+98tZU87xoH4XklPGzs8/aRzMb2p8gfqrHY9Q0kSGuzHJljqvdNRKKpKZZZJFFpBAuuuiiUtQTUnIqEwK3j+jU7u2RqCP26TjjV42pGmn/yQXXnhDtTLjkkJbnbh4wIBcDJpm0IUIg0FAEUAIbqjmpDAQgAIGsCGiW6e2335bWJ/VPDi1DYrXvgiaXZpgcLiDXnaGUuYq/6+HObX46cXKZjkK1qfstF/UaFxdyQDrDUPd/mrbVbhahJpCHVamC0gkXW2yxnMzWhoraq+P3+/Wki66ZbhT69gMDhizYgJOBJ/558kl/nn6naSmgFgT26iaj8BBoYAIogQ3cuFQNAhCAQHkE5Hrkrbfeku6nbQnkiSR0sZaWaQZJul+k/oWS5TxenkL3OmbSm++ktQsdumjrpaf1TbPZdz4rLoVQqqB+mtHVYs5QIeWhZ8iQIdIGF1988ZJbboSEEO8loJ3fL7t++sYJO2/dVs1m9175eYi85tbODz+euhpwpWXZFiIPDUIZIBAkgBIYRMMJCEAAAk1CQDaE0v30s7ekc+ouO8/IelB/pSc4Z3vp4dffdh99+uS//qv0lu4H7t7+h6M6ZpmpQaZupOFrjjey702wGpU2KFVQP7kb7aVNTLEhAAEIQMBLACXQi4VICEAAAg1OQPs3vPnmm2+88Yb+hhyKaNmYrASlCehvwyh+8XbVEsFLrp1y9a1dYz9wZwUXnL/1R1u37r1jez4XAcbrUkGMFEJZ/Er/19/Qgk85+Bk6dOgSSyyhv9qFooJcuAQCEIAABHJFACUwV81BYSAAAQjUloB2IX/ttddef/11qX+hRWKRNaAMArXPXG1Lkyfpj4/qGv5Dd4v2kdf3/96KTbSoSR5lZAwc2QN7G0dLQKUKLrnkkksttVT//nj88EIiEgIQgEAvIIAS2AsaiSJCAAIQqJKAfIRI99NP835eUZrqiQz/pPs150owlED7xtDqUKmCkZFwaKJYs4JSBfXrLd6A7AoShgAEINDkBFACm/wGoPoQgEAjE5D/j1dffVW6nzr03nrKv0tk48eiL5RA7x2iSC0ZjSyHtYbQm0YDB1IFl156aTaj9/IhEgIQgEAOCaAE5rBRKBIEIACBqgh8++23r7zyyssvv+zV/VpbW2XOp5/UP+0NUFVODXQxSmDJxtROIbIili2xfl1d7vpJXS5tcNlll11mmWVmmmmmktJIAAEIQAACPUgAJbAH4ZM1BCAAgSwJdHZ2vvTSS9L9NPUXlysjz2m2e1P/tLe3xxM0eQxKYPobYMqUKVNti6f9ZDgav1D3mLTB5ZZbrq2tLX6WGAhAAAIQ6HECKIE93gQUAAIQgEC1BLR268UXX5QGGPf1It1PMzMy1dOv2mwa+nqUwMqaV/bG+mnmOa4NyouM9MBhw4ZpuWllwrkKAhCAAARqRAAlsEZgEQsBCECg5gQ+/vjjF154Qepf3HWHZmAiwzxpgDUvR0NkgBJYZTNKD9RPE9GakXZEye2QVMHll19+7rnndk5xCAEIQAACPUIAJbBHsJMpBCAAgcoJaDnWqFGjpP5593bXYj9Nv0gDxOazLMQogWXhCiWWpaj0QE1Ka91gPI12H5EquOKKK2phavwsMRCAAAQgUDcCKIF1Q01GEIAABKolMHbsWKl/zz//fNz0bsEFF9Rki9Q/fL1URhklsDJuoavkRUaqoKapddM6aWSivMIKK0gV1E3rnOIQAhCAAATqQwAlsD6cyQUCEIBA5QRkX/fctF+8Py2n/JpakfrHHg+V8512JUpglQBDl2uHCamCmrjWhiVOGimBK0374T/GIcMhBCAAgVoTQAmsNWHkQwACEKicwLhx45599lkpgBMnTnSkaLGfplNw9+JgqfgQJbBidCkvlP8YTWJr3aCTvl+/ftIEV1555Xnnndc5xSEEIAABCNSIAEpgjcAiFgIQgEBVBLSw6plnnpHbT0fKXHPNJTs6qX9szO2QqfIQJbBKgCkv13ygVEFZNY8fP965RE5EV1llFS1ndeI5hAAEIACBzAmgBGaOFIEQgAAEKicwYcIE6X76ffLJJ44UrffThMnQoUOdeA4zIYASmAnG9ELefPNNTXFr3aBzyaBBg6QK6te/f3/nFIcQgAAEIJAVAZTArEgiBwIQgEBVBLTfw1NPPfX00087HvZnn312Wcrpx9RfVXxLXYwSWIpQTc5rYlAGz/p98cUXdgZaJbjqqquuttpq7CphYyEMAQhAICsCKIFZkUQOBCAAgQoJaKeHJ598Mr5WarHFFtN8iCYAK5TLZeUQQAksh1b2aTUlqAnwt99+2xGtta+rr7669pZw4jmEAAQgAIFqCLRXczHXQgACEIBANQTkNVGzf2PGjHGESPfTNMjgwYOdeA4h0KgENNih3/vvv6/JcGmDpppTd6B/5ZVFFllEs4LygmviCUAAAhCAQDUEmAmshh7XQgACEKiQgHq6TzzxxEcffWRfP+uss0r304+9/mws9QkzE1gfzmly0R6DekD0++qrr+z088wzzxprrKEHxI4kDAEIQAACFRBACawAGpdAAAIQqJBAV1fX49N+zgoo7fInmzdNAFYol8uqJoASWDXC7AVoSlCW0tpp0BatVbLfm/ZrbW214wlDAAIQgEB6AiiB6VmREgIQgEDlBCZPnjxy5EgpgN98840tRQv/pP6x3Z/NpEfCKIE9gj1NptpgUKqgs1xw5plnliY4fPjwjo6ONEJIAwEIQAACNgGUQJsGYQhAAALZE9A+71L/9NP2D7Z0ebxQL1aLnexIwj1FACWwp8inzFdLZzWGovWBdnptIyE9UD/tOG/HE4YABCAAgWQCKIHJfDgLAQhAoHICmv179NFHH3vsMemBthTt9q6lTfh9sZn0eBglsMebIE0B5DlGi2m117ydWBrgmmuuudZaazEraGMhDAEIQCCBAEpgAhxOQQACEKiQgNb+PfLII1L/vvvuO1uEfFpo9o+tz2wmOQmjBOakIdIUQ5tqalZQnmPsxAMGDJAquPbaa7NW0MZCGAIQgICXAEqgFwuREIAABConIN1PGqCz9k8O7tVDHThwYOVyubKWBFACa0m3JrI//fRTPWvaZMWWrrWC0gP1rNmRhCEAAQhAwCGAEugA4RACEIBA5QQ0NfHwww9//vnntgjUP5tGbsMogbltmuSCeVXBOeaYY5111mEziWR0nIUABJqZAEpgM7c+dYcABDIj8NJLL0n9c3zZr7zyypqUGDRoUGbZIKhmBFACa4a2HoI/+eQTTb8/++yzdmbaeUWqoPagtyMJQwACEICACKAEchtAAAIQqIrA6NGjH3roIf21paywwgpyUzHvvPPakYTzTAAlMM+tk7Js48aNkyum559/3k4/ZMiQddddV3/tSMIQgAAEmpwASmCT3wBUHwIQqJyAvFM8+OCDL774oi1iqaWW0uzfQgstZEcSzj8BlMD8t1HKEr733nuaFXzttdfs9MOGDVtvvfXwyWQzIQwBCDQzAZTAZm596g4BCFRIQDv+Sf2TUwr7+oUXXlgTDkOHDrUjCfcWAiiBvaWlUpbzzTff1BT9u+++a6eXwxipgtpd0I4kDAEIQKAJCaAENmGjU2UIQKAqAvJN/8ADD9g7v88111xS/2QCWpVcLu5RAiiBPYq/VpnLNFSq4Pjx400G0gA32GAD7dRiYghAAAIQaEICKIFN2OhUGQIQqJDA66+/LvXvgw8+MNerQ6mJBfzRGyC9N4AS2HvbrmTJNWmvqXt74Gb++eeXKrjkkkuWvJYEEIAABBqSAEpgQzYrlYIABDImIN+D999/v1yA2nKHDx8uDVBbVNuRhHspAZTAXtpwKYv93XffSQ8cOXKknV6OQzfccEP899pMCEMAAk1CACWwSRqaakIAApUT0OzfiBEj7OuXWWaZ9ddfH+efNpPeHkYJ7O0tmKb8ch+qZ/mVV16xE+tZ1qygHUMYAhCAQMMTQAls+CamghCAQOUEXn75ZU0A2guKtPOYuoxLL7105UK5MpcEUAJz2Sw1KdSrr74qVdDe1VPLejUluOyyy9YkP4RCAAIQyB8BlMD8tQklggAEckDg008/vffee6UEmrK0t7erm6jd/0wMgUYigBLYSK2Zpi7aUVBDPFOmTDGJpQRuvPHGAwcONDEEIAABCDQqAZTARm1Z6gUBCFROQJuMSQPs7u42IlZaaSVpgLPNNpuJIdBgBFACG6xB01Tnyy+/lB743HPPmcQtLS3SA7XVp4khAAEIQKAhCaAENmSzUikIQKBCAqNHj77vvvvGjh1rrh88eLDUP3b/M0AaNYAS2KgtW7Je2lFQquD7779vUi644IIbbbTRkCFDTAwBCEAAAg1GACWwwRqU6kAAAhUS6OzsvPvuu7UHoH295gTWWWcdO4ZwoxJACWzUlk1Zr4cffljz/3Zi7SW46aabtrW12ZGEIQABCDQGgfbGqAa1gAAEIFANAXkLlAb42WefGSHy/ykNEN/xBggBCDQ2AQ336KmXHmh8h2pISFuDSg9UfGPXndpBAAJNSICZwCZsdKoMAQgUCGj3sLvuusteFKSFf5tsssnyyy9fSESoCQgwE9gEjZyqii+88MI999yj5YImtZYEb7bZZuwIaoAQgAAEGoAAM4EN0IhUAQIQqJCAenvSAL/++mtz/eqrry4NsG/fviaGAAQg0FQENAC01FJLSQ988skno4prkEjrBqUHMjbUVHcClYVAYxNACWzs9qV2EICAn8C333575513Pv/88+b0PPPMI7svHMAYIAQg0LQENAy01VZbLbHEElIFP/roI3HQUNENN9wgVXDzzTefaaaZmpYMFYcABBqGAEpgwzQlFYEABNISePHFF6UB2hOA8givCcC015MOAhBoAgJSAiM9UHvGRNXVsNHbb78tPXDYsGFNAIAqQgACjUwAJbCRW5e6QQACDoHJkyffcccdzzzzjImfb775ZOWFL3gDhAAEIGAT0PDQ4osvLrvxDz/8UPEaPLr++uu1l8wWW2zR0dFhpyQMAQhAoBcRwDFML2osigoBCFRFQI7+pAHaLkCZAKwKaGNdjGOYxmrP7Gsj01AzJSjpc845p/TAJZdcMvuckAgBCECg9gRQAmvPmBwgAIEcENAOEI8++qgpiFYAqgPHBKABQgAlkHugJAFNAGogKVolGCVea621tJa45IUkgAAEIJA3AiiBeWsRygMBCGRM4P3337/99tvHjh1r5A4fPlyreswhAQiIAEogt0FKAtIDtYWgSbzgggtuueWWgwcPNjEEIAABCOSfAEpg/tuIEkIAApUTGDlypHzAmOu1B6C6a0svvbSJIQCBiABKIHdCegKvvvqqhpbsvQQ1rqTRpfQSSAkBCECgZwngGKZn+ZM7BCBQKwLaBOLWW299+eWXTQba40saIDs+GyAEIACByghoIGmRRRaRHqi9RiMJGmx67733tt56azaQqAwpV0EAAnUmgBJYZ+BkBwEI1IPAG2+8ccstt5hx+tbWVu36teqqq9Yjb/KAAASagICGk7bffnupgrfddltXV5dqrCEnmZ1vs8022liiCQBQRQhAoHcTQAns3e1H6SEAgTiBBx54YMSIESZevTRpgPIEY2IIQAACEMiEgIaWFlpoIemBY8aMkUANPF155ZXrr7/+BhtskIl8hEAAAhCoEQHWBNYILGIhAIEeIKAemCYANQ1o8l5nnXU23nhjc0gAAiECrAkMkSE+DQFnAwlNBmpKUIuQ01xLGghAAAL1J4ASWH/m5AgBCNSEgLYBvPnmm7WVcyR95plnVicMHzA1Yd2IQlECG7FV61oneYvRINQ333wT5TrLLLNsu+22bCRY1zYgMwhAIDUBzEFToyIhBCCQYwIPPvjg/fffbwrIMLxBQQAC/8/eecBJVV0NnO0NlqVXqUsTKYIICiIKimLBiL33aNSoUWOiMYmJX2KKiVFjj72CWMCOIoggoCAKgvQivS0s7LJ9v4N3Pft2dnZ2dubNzHtv/vz2l9x3373nnvO/6z173m0QiA4B+eQkF0XoYgT5IPXKK68cd9xxI0eOjI4CtAIBCEAgeAKJwRelJAQgAAEHEigqKpo4caI1ApQNORdccAELsRzYWagEAW8TkGFHBh8ZgtRMGZpkgJJhSnNIQAACEHACAWYCndAL6AABCIRIYMOGDVOmTNm1a5epzxLQEDlSDQIQsI+AnArTtm1bXRq6bNmy7du3n3766Z06dbKvESRBAAIQCIsAQWBY+KgMAQjEkMCCBQvkzyxVoFu3brIDJycnR3NIQAACEIgJAVkaKnGg7FJes2aNKCAfqp555hnZpcxFNTHpDhqFAARqE2A5aG0m5EAAAi4g8MEHH1gjwGHDhl188cVEgC7oOVSEQHwQkOFIBiUZmtRcGbJk4NJHEhCAAARiSICZwBjCp2kIQCAUAnL43ltvvbVq1SqtLOusDj/8cH0kAQEIQMAhBMaOHSuXlMqqdaPPvHnzZFbwjDPOkLXrDtEQNSAAgfgkwExgfPY7VkPArQRkE+D//vc/jQBbtmx55ZVXEgG6tTvRGwJxQEAGKBmmZLAytsrwJYOYDGVxYDomQgACziVAEOjcvkEzCEDAh8CiRYtkX01eXp7Jl103V111VceOHX2K8QgBCEDAUQRkmJLBSq8tlUFMhjIZ0BylJMpAAAJxRYAgMK66G2Mh4GICM2bMePvtt9WA4cOHn3vuuWlpaZpDAgIQgIBjCchgJUOWDFyqoQxoMqzpIwkIQAAC0SRAEBhN2rQFAQiESODNN9+cOXOmVpZTQMeMGaOPJCAAAQi4goAMXDJ8qaoyrMngpo8kIAABCESNAAfDRA01DUEAAqEQyM/Pf+ONN9avX28qy13McqZC165dQ5FFHQhAAAKxJjBo0KBmzZrJ6VYyuIku33777d69e88880wZ3GKtGu1DAAJxRICZwDjqbEyFgOsIbNy4UXbOaAQoVy1fccUVRICu60cUhgAErARkEJOhTO+OlyFOBjoZ7qxlSEMAAhCIKAGCwIjiRTgEIBA6gWXLlj377LN79uwxIvr163f55Zc3bdo0dInUhAAEIOAMAjKUyYAmw5pRRwY6Ge5k0HOGdmgBAQh4nwBBoPf7GAsh4EYC8+fPnzhxYnl5uVF+xIgRslzKjYagMwQgAIG6CMiwJoObeSvDnQx6MvTVVZh8CEAAAjYSIAi0ESaiIAABewhMnz79/fffV1njxo0bPXq0PpKAAAQg4BkCMrjJEKfmyNAnA6A+koAABCAQIQIcDBMhsIiFAARCJDB16tSFCxeaysnJyRMmTNDLtUKUSDUIQAACDiYwZMiQJk2aTJ48uaysTNScNWtWQUGB9RBRB+uOahCAgFsJMBPo1p5Dbwh4j0BFRYWshtIIMCcn57LLLiMC9F5HYxEEIOBDQAY6Ge5k0DP5MgzKYChDok8xHiEAAQjYRYAg0C6SyIEABMIiIF++n3/+eT0XoUOHDpdeeqn8b1hCqQwBCEDAJQR8Bj0ZDGVIlIHRJeqjJgQg4DICBIEu6zDUhYAnCezcuVP+3NGrIHr06CERoH4U96TJGAUBCEDAh4AMejL0yQBo8mVIlIFRhkefYjxCAAIQCJ8AQWD4DJEAAQiERWDTpk0vvPDC9u3bjZQBAwZccMEFKSkpYQmlMgQgAAEXEpChTwZAGQaN7jIwyvAog6QLTUFlCEDA0QQIAh3dPSgHAc8TWLt2rfyJk5+fbywdOnToGWec4XmrMRACEIBAAAIyDMpgaArI8CiDpAyVAcrzCgIQgEBDCRAENpQY5SEAAdsILF++XP64KS4uNhKPPfbYk046yTbpCIIABCDgWgIyGMqQaNSXQVKGShkwXWsNikMAAo4jQBDouC5BIQjECYElS5a8+uqrlZWVxt6xY8eOGjUqTmzHTAhAAAL1EpAhUQZGU0yGShkwZdistxYFIAABCARDgCAwGEqUgQAEbCbw9ddfy6VYKvTUU08dNmyYPpKAAAQgAAEhIAOjDI+KQoZNGTz1kQQEIACBkAkQBIaMjooQgECIBL766qspU6ZoZbkOfvDgwfpIAgIQgAAElIAMjzJI6qMMnjKE6iMJCEAAAqERIAgMjRu1IACBEAnMnTv33Xff1crnnnvuYYcdpo8kIAABCEDAh4AMkjJUaqYMoTKQ6iMJCEAAAiEQIAgMARpVIACBEAl88cUXH374oamclJR04YUX9u7dO0RZVIMABCAQNwRkqJQBU4ZNY7EMpDKcxo31GAoBCNhPgCDQfqZIhAAE/BKYM2fORx99ZF6lpqZedNFFubm5fkuSCQEIQAACPgRkwJRhUwZPky/DqQyqPmV4hAAEIBAkAYLAIEFRDAIQCIvA7Nmzp02bZkSkp6fLbchdunQJSyKVIQABCMQZARk2ZfCUIdTYLYOqDK1xxgBzIQABewgQBNrDESkQgEAAAvK5+uOPPzYFMjIyZFFT586dA5TnFQQgAAEI+CUgg6cMoTKQmrcytDIf6BcUmRCAQGACBIGB+fAWAhAIl4BsXNE5QPnDRT5jd+zYMVyh1IcABCAQrwRkCJWBVONAGWDZHxivvwvYDYHQCRAEhs6OmhCAQL0E5Ag73QdIBFgvLgpAAAIQCIaATxwowyznhQbDjTIQgIASIAhUFCQgAAGbCchlVnoWqNkHyBygzYgRBwEIxCsBEwfq/kAZbLk/MF5/F7AbAqEQIAgMhRp1IACBegl8/fXXeh+gHGd33nnnEQHWC40CEIAABIInIIOqDK16XqgMuTLwBl+dkhCAQDwTIAiM597HdghEisCSJUumTJlipMvFVueffz4nwUSKNXIhAIE4JiBDqwywen+gDLwy/MYxD0yHAASCJUAQGCwpykEAAkESWL58+eTJk7WwfKjmNgilQQICEICAvQRkgJVhVmXK8CuDsD6SgAAEIOCXAEGgXyxkQgACIRJYu3bta4I1KHEAAEAASURBVK+9ppXPPfdcboRXGiQgAAEIRIKADLMy2KpkGYRlKNZHEhCAAARqEyAIrM2EHAhAIEQCmzZtkj8+KisrTf0JEyb07t07RFlUgwAEIACBoAnIYCtDrikug7AMxTIgB12bghCAQNwRIAiMuy7HYAhEiMDOnTsnTpxYXFxs5J966qmHHXZYhNpCLAQgAAEI+BCQIVcGXpMpQ7EMyDIs+5ThEQIQgIAhQBDIbwIEIGADgYKCgkmTJuXn5xtZY8eOHTx4sA1yEQEBCEAAAkETkIFXhl9TXAZkGZZlcA66NgUhAIE4IkAQGEedjakQiBCBiooK+VNj+/btRv6xxx47bNiwCLWFWAhAAAIQCEBAhl8ZhE0BGZZlcJYhOkB5XkEAAvFJgCAwPvsdqyFgJ4HXX399/fr1RuLQoUNHjRplp3RkQQACEIBAQwjIICxDsakhg7MM0Q2pTVkIQCAuCBAExkU3YyQEIkdg6tSpy5YtM/IHDBhw0kknRa4tJEMAAhCAQDAEZCiWAdmUlCFaBupgalEGAhCIHwIEgfHT11gKAfsJTJ8+feHChUZujx49zjjjDPvbQCIEIAABCDScgAzIMiybejJQy3DdcBnUgAAEPEuAINCzXYthEIg0gfnz58+aNcu00qFDh7PPPjvSLSIfAhCAAASCJyDDsgzOprwM1zJoB1+XkhCAgLcJEAR6u3+xDgKRIiDri95//30jPScn56yzzkpJSYlUY8iFAAQgAIGGE5BhWQZnGaJNVRm0dfV+w4VRAwIQ8BQBgkBPdSfGQCA6BDZu3Dh58mTTVnJysvWPjOgoQCsQgAAEIBAMAfORTgZqU1iGbhnAg6lIGQhAwNsECAK93b9YBwH7CcjdU/JnRHl5uRE9YcIEXW5kf2NIhAAEIACB8AjIEC0DtZEhQ7cM4Hqna3iCqQ0BCLiYAEGgizsP1SEQEwJvvPHGnj17TNPjxo3r3bt3TNSgUQhAAAIQCJKADNQyXJvCMoDLMB5kRYpBAAJeJUAQ6NWexS4IRITAm2++qVcCjhgxYsiQIRFpBqEQgAAEIGArARmuZdA2ImUYl8HcVvEIgwAEXEaAINBlHYa6EIghgRkzZnz77bdGgX79+o0ePTqGytA0BCAAAQg0iIAM2jJ0myoymMuQ3qDqFIYABLxEgCDQS72JLRCIIIFFixbNnDnTNNCpU6czzzwzgo0hGgIQgAAEIkBAhm4ZwI1gGdJlYI9AI4iEAARcQIAg0AWdhIoQiDmBDRs2vP3220aN7OxsIsCY9wgKQAACEAiNgAzgMoybujKwy/AemhxqQQACriZAEOjq7kN5CESDQEFBwVtvvaUtnXHGGU2bNtVHEhCAAAQg4CICMoDLMK4Ky/Aug7w+koAABOKEAEFgnHQ0ZkIgdALyJ0JeXp6pf9ppp3Xt2jV0WdSEAAQgAIFYE5BhXAZzo4UM79bPfLFWjfYhAIEoESAIjBJomoGASwl88MEHq1atMsoPHz580KBBLjUEtSEAAQhAQAnIYC5DunmUQV6Gen1FAgIQiAcCBIHx0MvYCIEQCSxYsGDevHmmslwzNWbMmBAFUQ0CEIAABBxGQIZ0vehVhnoZ8B2mIOpAAAIRJEAQGEG4iIaAqwnIaQHvvPOOMaFly5bWPSSutgvlIQABCEDAEJCBXYZ3k5YBn0Ni+MWAQPwQIAiMn77GUgg0gEBRUdGUKVO0wvjx49PS0vSRBAQgAAEIeICADOwyvKshMuzL4K+PJCAAAQ8TIAj0cOdiGgRCJyB/CuzatcvUP/300zt27Bi6LGpCAAIQgIBTCcjwLoO80U6GfevnP6eqjF4QgIANBAgCbYCICAh4jMBnn322bNkyY9SwYcMOP/xwjxmIORCAAAQgoARkkJeh3jzK4C8uQF+RgAAEvEqAINCrPYtdEAiRwIoVKz799FNTuVu3bmPHjg1RENUgAAEIQMAlBGSolwHfKCsuQByBSxRHTQhAIEQCBIEhgqMaBDxJID8/f+rUqca0rKwsvUjKk8ZiFAQgAAEIKAEZ8GXYN4/iCMQd6CsSEICA9wgQBHqvT7EIAqETkNPh9u/fb+qfeuqpOTk5ocuiJgQgAAEIuIeADPgy7Bt9xRHo6dDusQBNIQCBBhAgCGwALIpCwNsEZsyYsXLlSmPjscceq/dHedtqrIMABCAAAUNAhn0Z/E1a3IE4BchAAAJeJUAQ6NWexS4INIyA+PuZM2eaOj169Bg1alTD6lMaAhCAAATcT0AGf3EBxg5xCvpl0P2WYQEEIFCDAEFgDRw8QCA+CRQWFurKH9kToiuC4pMGVkMAAhCIZwLiAnRzoLgGcRDxTAPbIeBVAgSBXu1Z7IJAAwi8++67egaAuP/s7OwGVKYoBCAAAQh4iIC4AP0UKK5BHISHjMMUCECgigBBIL8KEIh3AnPnzl26dKmhMHz4cLYCxvsvBPZDAAJxT0AcwYgRIwwGcRDiJuIeCQAg4DUCBIFe61HsgUCDCGzevPnDDz80VTp37jxmzJgGVacwBCAAAQh4ksDo0aPFKRjTxE2Is/CkmRgFgbglQBAYt12P4RA4SOD99983IBITE8eNGwcUCEAAAhCAgCEgTkFcg0mrswAOBCDgDQIEgd7oR6yAQCgEpk2btnHjRlNTnH3r1q1DkUIdCEAAAhDwIgFxCvpxUJyFuAwvWolNEIhTAgSBcdrxmA2BFStWzJkzx3Do16/f4MGDYQIBCEAAAhCwEhDXIA7C5IjLEMdhfUsaAhBwLwGCQPf2HZpDIHQCpaWlH3zwgakvB8GdfPLJocuiJgQgAAEIeJeAOAg9Mloch7gP79qKZRCIIwIEgXHU2ZgKASUgjjwvL888ioPPyMjQVyQgAAEIQAACSkAchH4oFMehHxC1AAkIQMCNBAgC3dhr6AyBsAgsWbJk4cKFRsTQoUO5EyIsmlSGAAQg4HUC4iaGDRtmrBT3IU7E6xZjHwS8T4Ag0Pt9jIUQsBIoLCzUOyFk0/9JJ51kfUsaAhCAAAQgUJvA2LFj9fAwcSLiSmqXIQcCEHARAYJAF3UWqkLABgLivPfv328EEQHaABQREIAABOKDgLoMcSL6MTE+TMdKCHiQAEGgBzsVkyBQF4HFixd/++235u3w4cO7du1aV0nyIQABCEAAAlYC4jLEcZgccSXiUKxvSUMAAu4iQBDorv5CWwiETuDAgQMfffSRqd+2bdsxY8aELouaEIAABCAQfwTEcYj7MHaLQxG3En8MsBgCHiFAEOiRjsQMCNRLQBy2LgQ98cQT6y1PAQhAAAIQgIAPAXUf4lD0w6JPGR4hAAHnEyAIdH4foSEEbCCwbNmyRYsWGUEsBLUBKCIgAAEIxCUB66JQcSviXOISA0ZDwPUECAJd34UYAIF6CZSXl0+bNs0Uk+PdWAhaLzEKQAACEIBAXQTEiehJoeJcxMXUVZJ8CEDAsQQIAh3bNSgGAdsIiJPWq+GJAG3DiiAIQAAC8UrghBNOMKaLc9GPjPEKA7sh4EoCBIGu7DaUhkDwBNauXTtv3jxTfsiQIT169Ai+LiUhAAEIQAACtQnk5uaKQzH54mLE0dQuQw4EIOBkAgSBTu4ddIOADQSmT59upGRnZzMNaANQREAAAhCAQKNG4lDErRgS6mgAAwEIuIUAQaBbego9IRAKgdmzZ2/cuNHUFIedmpoaihTqQAACEIAABGoSEIeiHxbF0Yi7qfmeJwhAwNEECAId3T0oB4FwCOzevfuTTz4xEvr06dOvX79wpFEXAhCAAAQgYCUgbkWci8kRdyNOx/qWNAQg4GQCBIFO7h10g0BYBMQlV1ZWGhGjR48OSxaVIQABCEAAArUIqHMRd6OfHWuVIgMCEHAcAYJAx3UJCkHAFgJLf/xnRImTbtGihS1iEQIBCEAAAhBQAuJcNA60+h0tQAICEHAmAYJAZ/YLWkEgXAKffvqpEdG+ffsRI0aEK476EIAABCAAAX8ExMWIozFv1PX4K0geBCDgIAIEgQ7qDFSBgF0EZsyYsXPnTiPtuOOOs0ssciAAAQhAAAK1CaijEdcjDqh2AXIgAAGnESAIdFqPoA8EwiWwa9eumTNnGikDBw6U25zClUh9CEAAAhCAQN0ExNGIuzHvxQGJG6q7LG8gAAFHECAIdEQ3oAQEbCSgq3GSk5P166yN8hEFAQhAAAIQ8CEg7kacjslUN+RThkcIQMA5BAgCndMXaAIBGwisWLHiu+++M4LEJetNvjaIRgQEIAABCECgDgLibvSzo7ghcUZ1FCQbAhBwBAGCQEd0A0pAwC4Cuhmjbdu2Rx99tF1ikQMBCEAAAhAITECcjrgeU0adUeAqvIUABGJFgCAwVuRpFwL2E5g3b96WLVuM3GOPPdb+BpAIAQhAAAIQqJuAuh5xRuKS6i7IGwhAIMYECAJj3AE0DwG7CBQVFemX1z59+vTu3dsuyciBAAQgAAEIBENAXI84IFNSXJI4pmBqUQYCEIg+AYLA6DOnRQhEhMBnn32m7la/xUakJYRCAAIQgAAE6iCgDkhckjimOkqRDQEIxJgAQWCMO4DmIWALgR07dnzxxRdG1LBhw9q0aWOLWIRAAAIQgAAEGkRAHJC4IVNFHJO4pwZVpzAEIBAdAgSB0eFMKxCILAH92pqenj5y5MjINoZ0CEAAAhCAQN0ExA2JMzLv1T3VXZw3EIBADAgQBMYAOk1CwF4Ca9euXbJkiZEprjcjI8Ne+UiDAAQgAAEIBE9A3JB+jhT3JE4q+LqUhAAEokOAIDA6nGkFAhEkMGvWLCO9ZcuWRx11VARbQjQEIAABCEAgCALijMQlmYLqpIKoRxEIQCBKBAgCowSaZiAQIQJyJ69+ZD3mmGMi1ApiIQABCEAAAg0ioC5JnJS4qgbVpTAEIBBpAgSBkSaMfAhElsDnn39uGujUqVP//v0j2xjSIQABCEAAAsEREJckjsmUVVcVXFVKQQACESdAEBhxxDQAgcgRWLBgwdatW418/eYaueaQDAEIQAACEAiegDomcVXisIKvSEkIQCDSBAgCI00Y+RCIIAH9ttqrV6/c3NwItoRoCEAAAhCAQAMJiGMS92QqqcNqoAyKQwACESFAEBgRrAiFQBQIyP1Le/bsMQ0NHz48Ci3SBAQgAAEIQKBBBNQ9icPS+2wbJIHCEIBAJAgQBEaCKjIhEHECFRUVs2fPNs3IvotDDjkk4k3SAAQgAAEIQKCBBMQ96X51cVvivBoogOIQgEBECBAERgQrQiEQaQLiSgsKCkwrRx99dKSbQz4EIAABCEAgNALqpMRt6efL0ERRCwIQsIsAQaBdJJEDgegRKC0t1UU1hx9+eJs2baLXNi1BAAIQgAAEGkJAnJS4KlNDnJe4sIbUpiwEIBARAgSBEcGKUAhElMCcOXMOHDhgmtDtFhFtEeEQgAAEIACBkAmoqxLnJS4sZDlUhAAE7CJAEGgXSeRAIEoEiouLdRrwiCOOaNGiRZQaphkIQAACEIBASATEVYnDMlXFhYkjC0kMlSAAAdsIEATahhJBEIgOgblz56r7POqoo6LTKK1AAAIQgAAEwiGgDktcmDiycERRFwIQCJ8AQWD4DJEAgegRkK0U6jvlq2rz5s2j1zYtQQACEIAABEIlIA5LJwPFkbEzMFSQ1IOAPQQIAu3hiBQIRIeAOM6ioiLTln5VjU7TtAIBCEAAAhAIh4C6LXFk+kEzHIHUhQAEQiZAEBgyOipCINoE5HqlefPmmVYHDx7MNGC0O4D2IAABCEAgDALitsR5GQHizrgzMAyWVIVAuAQIAsMlSH0IRI2AuEy9G3Do0KFRa5eGIAABCEAAArYQUOcl7kw/a9oiGSEQgECDCBAENggXhSEQSwLqLwcMGNCqVatYqkLbEIAABCAAgYYTEOclLszUU6fWcDHUgAAEwiVAEBguQepDIDoEFixYsHfvXtPWkUceGZ1GaQUCEIAABCBgLwF1YeLUxLXZKxxpEIBAkAQIAoMERTEIxJjA/PnzjQZ9+vRp3759jLWheQhAAAIQgEBIBMSFiSMzVdW1hSSJShCAQOgECAJDZ0dNCESNwJIlS7Zv326a0w0VUWudhiAAAQhAAAI2ElBHJq5NHJyNkhEFAQgESYAgMEhQFINALAl89dVXpvlu3bp17tw5lqrQNgQgAAEIQCA8AuLIxJ0ZGergwhNJbQhAoGEECAIbxovSEIg+gbVr165fv960O2TIkOgrQIsQgAAEIAABewmoOxMHJ27OXuFIgwAE6iVAEFgvIgpAIMYEvvzyS6NB27Zte/fuHWNtaB4CEIAABCAQNgFxZ+LUjBh1c2FLRQAEIBAsAYLAYElRDgIxIbBjx45ly5aZpvW7aUw0oVEIQAACEICAjQTUqYmbE2dno2REQQAC9RIgCKwXEQUgEEsCulmiSZMmgwYNiqUqtA0BCEAAAhCwj4A4NXFtRp46O/vEIwkCEAhEgCAwEB3eQSC2BIqKivQOpcGDB8dWGVqHAAQgAAEI2EtAXZs4O3F59gpHGgQgEIAAQWAAOLyCQIwJLFy4sLy83CihnjLGOtE8BCAAAQhAwCYC6trE2YnLs0kqYiAAgfoJEATWz4gSEIgVAfWIsmamcePGsVKDdiEAAQhAAAKRICCuTXc6qMuLREPIhAAEfAgQBPoA4RECTiGwdOnSXbt2GW30W6lTlEMPCEAAAhCAgB0E1MGJyxPHZ4dIZEAAAvUTIAisnxElIBATAvpNVG7Ubd++fUx0oFEIQAACEIBARAmIg9OL49XxRbRFhEMAAkKAIJBfAwg4kcC2bdtWr15tNNOlMk5UFJ0gAAEIQAAC4RFQNyeOT9xfeMKoDQEIBEWAIDAoTBSCQJQJfP3116bFpk2b9u3bN8qt0xwEIAABCEAgagTEzYmzM82p+4ta6zQEgfgkQBAYn/2O1Y4mIIekLVq0yKh4+OGHO1pXlIMABCAAAQiETUCdnbg/PRY7bKkIgAAE6iRAEFgnGl5AIFYExAUWFxeb1tUvxkoZ2oUABCAAAQhEmoA6O3F/+hk00o0iHwLxTIAgMJ57H9sdSkD9n6yQyc7OdqiWqAUBCEAAAhCwiYA4O937oE7QJtmIgQAE/BAgCPQDhSwIxJDAxh//GQUGDhwYQ01oGgIQgAAEIBA1AuryrH4waq3TEATijQBBYLz1OPY6ncA333xjVGzZsmVubq7T1UU/CEAAAhCAgB0ExOWJ4zOS1BXaIRgZEICAHwIEgX6gkAWBWBGoqKj49ttvTesDBgyIlRq0CwEIQAACEIg+AXV84grFIUZfAVqEQPwQIAiMn77GUhcQkG+fJSUlRtH+/fu7QGNUhAAEIAABCNhEQB2fuEImA22CihgI+CdAEOifC7kQiAmBxYsXm3b79OnDkTAx6QIahQAEIACBWBEQxyfuz7SuDjFWytAuBLxNgCDQ2/2LdW4isGPHjrVr1xqN9WuomwxAVwhAAAIQgEB4BNT9iUMUtxieMGpDAAJ1EiAIrBMNLyAQZQL61VM+hfbu3TvKrdMcBCAAAQhAIOYExP3pQhh1izHXCgUg4D0CBIHe61MsciuBJUuWGNX79evnVhvQGwIQgAAEIBAeAXWC6hbDk0dtCEDADwGCQD9QyIJA9AmsXr06Ly/PtHvYYYdFXwFahAAEIAABCDiBgDpBcYviHJ2gEjpAwHsECAK916dY5EoC+r2zY8eObdu2daUNKA0BCEAAAhAIm4A4QXGFRow6x7ClIgACEKhBgCCwBg4eIBATAuXl5d99951pWr+AxkQTGoUABCAAAQjEnIC6QnGO4iJjrg8KQMB7BAgCvdenWOQ+AuLkSktLjd59+/Z1nwFoDAEIQAACELCPgLpCcY76kdQ+8UiCAAQaEQTySwCB2BNYunSpUaJnz56NGzeOvUJoAAEIQAACEIgdAXGF4hBN++oiY6cOLUPAgwQIAj3YqZjkLgKFhYXLly83Ouu3T3eZgLYQgAAEIAABewmoQxQXKY7SXuFIgwAECAL5HYBAjAksW7bMaJCUlHTooYfGWBuahwAEIAABCDiAgDhEcYtGEXWUDtALFSDgEQIEgR7pSMxwLwFd6CIOLzk52b2GoDkEIAABCEDALgLiEPXDqDpKu4QjBwIQIAjkdwACsSSQn5+/Zs0ao0GfPn1iqQptQwACEIAABJxEQN2iOEpxl05SDV0g4HoCBIGu70IMcDWB77//3uifmpqq3s7VFqE8BCAAAQhAwBYC4hbFORpR6i5tkYwQCECAIJDfAQjEkoAeCUMEGMtuoG0IQAACEHAkAXWO6i4dqSZKQcB9BAgC3ddnaOwZAvv27dO1oL179/aMXRgCAQhAAAIQsIWAOkdxl+I0bZGJEAhAQAgQBPJrAIGYEdDvmrLcRf1czLShYQhAAAIQgIDDCIhz1BWh6jQdpiPqQMCVBAgCXdltKO0NAurPevXq5Q2LsAICEIAABCBgLwF1keo07ZWPNAjEJwGCwPjsd6yOPYGioqJVq1YZPdTDxV4tNIAABCAAAQg4iYC6SHGa4jqdpBq6QMDFBAgCXdx5qO5qAvpFMzExUT2cqy1CeQhAAAIQgIDtBMRFiqM0YtV12t4KAiEQbwQIAuOtx7HXKQRWrFhhVOnZsyd3xDulV9ADAhCAAAQcRkBcpDhKo5S6TofpiDoQcB8BgkD39Rkae4BAZWXlypUrjSHq2zxgFyZAAAIQgAAEbCegjlJcpzhQ2+UjEAJxSIAgMA47HZNjT0A2NpSWlho9evToEXuF0AACEIAABCDgVALqKMV16nZ6pyqLXhBwBwGCQHf0E1p6jIBOA3bq1Klx48Yesw5zIAABCEAAAjYSEEcp7tIIVAdqo3xEQSAOCRAExmGnY3LsCeiHTP26GXud0AACEIAABCDgVALqLtWBOlVT9IKAOwgQBLqjn9DSSwS2bt2al5dnLMrNzfWSadgCAQhAAAIQiAQBdZfiQMWNRqIJZEIgrggQBMZVd2OsIwisXr3a6NGsWbO2bds6QieUgAAEIAABCDiYgLhLcZpGQXWjDtYX1SDgdAIEgU7vIfTzHgH1Xt27d/eedVgEAQhAAAIQiAQBdZrqRiPRCjIhECcECALjpKMx0ykESkpK1q5da7RRf+YU5dADAhCAAAQg4FQC6jTFjYozdaqa6AUBdxAgCHRHP6GlZwhYv19269bNM3ZhCAQgAAEIQCCiBKxO0+pMI9oowiHgVQIEgV7tWexyKIE1a9YYzbp27ZqamupQLVELAhCAAAQg4DAC4jTFdRql1Jk6TEfUgYBrCBAEuqarUNQbBHQtqPWLpjdMwwoIQAACEIBARAmo61RnGtHmEA4BDxMgCPRw52Ka4wjs3r17165dRi31ZI7TEoUgAAEIQAACjiSgrlOcqbhUR+qIUhBwBwGCQHf0E1p6g4AuX8nKymrfvr03jMIKCEAAAhCAQHQIiOsUB2raUpcanaZpBQIeI0AQ6LEOxRxHE1i/fr3Rr0uXLo5WFOUgAAEIQAACjiSgDlRdqiPVRCkIOJ0AQaDTewj9vERg3bp1xhzd2u4l67AFAhCAAAQgEGkC6kDVpUa6ReRDwJMECAI92a0Y5UQC27Zt279/v9FMP2Q6UVF0ggAEIAABCDiVgDpQcaniWJ2qJnpBwOkECAKd3kPo5xkC+s0yJyenRYsWnrELQyAAAQhAAAJRIyAOVNyoaU4da9RapyEIeIYAQaBnuhJDnE5gw4YNRsXOnTs7XVf0gwAEIAABCDiVgLpRdaxO1RS9IOBcAgSBzu0bNPMYAd3C3qlTJ4+ZhjkQgAAEIACBqBFQN6qONWpN0xAEPEOAINAzXYkhjiawffv2goICo6J+wnS0xigHAQhAAAIQcCQBdaPiWMW9OlJHlIKA0wkQBDq9h9DPGwR++OEHY0h2djYbAr3Rp1gBAQhAAAIxISBuVJypaVrda0w0oVEIuJcAQaB7+w7N3URA9y3oIhY3aY+uEIAABCAAAScRUGeq7tVJ2qELBFxAgCDQBZ2Eih4gsHHjRmNFx44dPWAOJkAAAhCAAARiSECdqbrXGCpD0xBwIwGCQDf2Gjq7jEB+fv7u3buN0uq3XGYD6kIAAhCAAAQcQ0CdqbhXcbKO0QtFIOAaAgSBrukqFHUvAf1OmZKS0qFDB/caguYQgAAEIAABJxAQZyou1WiiTtYJiqEDBNxCgCDQLT2Fni4msGnTJqO9frl0sTGoDgEIQAACEHAAAXWp6mQdoBQqQMA1BAgCXdNVKOpeAuqfmAZ0byeiOQQgAAEIOIqAulR1so5SD2Ug4HACBIEO7yDU8wIB9U/qsbxgFTZAAAIQgAAEYkdAXao62djpQssQcB8BgkD39Rkau4vA5s2by8rKjM7qsdxlAtpCAAIQgAAEnEZAXao4WXG1TlMPfSDgcALJDtcP9SDgdgLqmXJycpo0aWKjOau3Ld+Ud/AO+oyUjCHdh9so2UWiikoPrNz6fWHx/p7tDm2W1SKA5vNWzSouK5YCQ7odnZGaGaAkryAAAQhAwPkExKWKY92zZ4+oKq62ffv2ztcZDcMiUFZWunC+kZDUvUdii1ZhSQuicsWO7eU/rEts1iKpU5dGSUl11ThYbO0qeZvYomVS9551FXNaPkGg03oEfbxG4IPFb82u+FCsSitI2zP5hz9M+KctFu4p2H354z8r+TGq6XfI4cEHgTvyt13y6Gml5SVJiUkPXvp8r3Z9g9dn+ZbvFq6du3rbilXbvt+yZ2NOZovctr1z2/Tq3f6wYbkjExISghe1c9/2d75+fe32lWu2r9yevyUjJbNtToce7fqMH3xubpvewchZu2PV7yb+UiJhLSyh3W2n3nPKwDM1RxPb9m656fnLzOO4gT/7/Zn29ILKJwEBCEAAAtEn0K5dOxMEbtmyJfqt+22xdP7s0m+/Lt+wtnzNqsrCwqQOHRNbt005+tjUEaMS0tL9VvFYZmXRgf333lWZv9fYlXn9rcm9DrXFxgMvP13w4N+NqJyXpwYIAsPthYryotdfLnj4n5WFBap52rjxWb/6XWJOM83RxIEXnjzw8jPmsfm7sxLbtNNXTk4kVFZWOlk/dIOA2wlM+MuYTUVrjRUdm3d+/ebptlh020tXf768StRL17/XvU2vIMVe9/QFX6+bZwrff9FTw3seF0xFiTn/8e4fP1nybl2FRYE/nf1A99b1fwArLC54asaDL89+qi5RPdr2+dv5j7ZvdkhdBST/3UVv/PmN2/0WGNHr+H9c8ETtiPT/3vrN1IWTTJVHLn95UNehfquTGbcE5n1TMWxCkY/5cyenDx3AvgkfKjxCwCkEPv/8808++US0kWnAq6++OrZqlS35puA/95V+/aVfNRIys7Ju/V36+LP9vvVSZvmGdXlnjlGLmj7yfMqRR+tjyIny9WvyJpxoqqefNqHxH/7mV1T4vSBBbP5NV5UuqPpLydpKYvMW2Q88mXxof2umpCt2bt99UpWNqSOOkzI+BZz5iG9zZr+glUcIVFRUFBcfXIJo77+Zy6ZpBDi2//jgI8DnPntUI8DgVfrs+49P+cewABGgiJIZuQsfPvnRj+uZYcs/sOecB8cEiABF1Mqty87+z+i5Kz+rS8MNu9ZaI8BOLbrKVKRMbJryQublOX4izOtPvEPL3DXxRjOJWlcT5EMAAhCAgPMJyEygUVJmAsXhxlDh4nff3HPZhLoiQFFM5pT2//m3+377y0bl5THU061NV5Tv/9NvVfnM627RtDVhSy8UPvIvjQAl6ks9dkxy76o1UxW7d+377U2VBw5YG5V0YsvWWdffZjJLPv+0+MOpPgWc+UgQ6Mx+QSuPENi6davtlhQU7//j5F8ZsRLV3HTSnUE2MWnu8/UGabVFbdq94bev/qK8IiinJUHmR4vrHPtKy0pkHlIWgtZuxSdHmrv1patkwadPvnnUCFDWfz56xSsTb/r42Wvffuf2L/p2HGgKPPThfXsLD+4Ssf7LyWx29fE3m5y8gl1SxvqWNAQgAAEIuI5A27Ztjc6yri0SDjdIIKVzP9/3B/+LU3wkFE97T2YLfTJ5rJdA0Ruvln6zwBTL/PlNssK2dhVbeqFsxTJd2JlxweXN3vks+/7Hcl58W/7XtFi+6YcDL/r50Jx+/qUSMZoy+//vdxIu1tbQaTkEgU7rEfTxFIFI+KS/T737QEmhwXTRiGuaN24ZDLIXPn/i/vfuCaaktYwEY7e8cIVPBHjxiGte++VHc/644p3b59x95j98Dlm5Z/KtsgHPKkTT9025y7qFT/LPGXaprMycfte3j1356qUjr9OSkpBGb3ru0opK3y+74umXbvrWlLzvvEcO73KkScupMA9e+lzj9Kqjd77buMgqzaQvHH61Fpg07/mlG7+pXYYcCEAAAhBwC4GsrKxmzar2aEXC4QbDQQ4F2XvDZdaSslywyd8fbv7e7OYfzZOErA+0vpUYQyaLrDmkAxOo2LJp/31/MGVkVW3GhVfWLm9XL5R9s9AITxk6IuuWOxNS08yjzAc2vvPPJl361dzaCiSkZ2Te+GuTL7O+Bf+sKly7pHNyCAKd0xdo4kECtvukZZsWf/jtFENKpgEvOebaeqlJxCiB3H8/8r96PnD12Ss+lbWXWkZafOEX78i6ys4tuycmJrVs0kZOYZly2+xurXtoGQneHnj/Xn3UxM5922Qjnz5K4t5zHvzVuN/L3rzMtKyBnYdcN+a2x698TVdsSoHt+Vvf/+YtaxVJb9u72QSlqclpQ3OPsb7NSms85rBTTM6yzYutr0w6JSnl6uOqJgMl54+Tb61dhhwIQAACEHARgTZt2hhtbXe4QUI48Opz1pKpRx/b9PGX0o4/KbF1G5kakoRMIvlsBSz87/2NgltfY5Uct+mCB6v/gMm85pcJmZm1UdjVC2VrVhjh6aec0ajmcXdpJ403rw4uFvV3okr6yeOTOhxiyhR/9I6uKa2trUNyCAId0hGo4U0C27Zts9ewpz79jwqUaUAJe/TRb0J2AJ7571FfrJzp9229mV+tmWMtc8fp98qpLdYcSTdJz5aDWKzB26L1frbFPzPzEWvFO8f/RQM2zR/Q+Yinf/6mPkri0Wn/sD5KOiEh0KiVnJRiypeVl/pUNI9nHnmhTl1KfBvCDkm/YsmEAAQgAIGYENAg0HaHG4w5lfl7Djz3uJZM6pab/a/HEzIyNOdgIimp8V3/l3569ZEwZSu/L/k8RL9cQ3IcPJT/sF7W0BpDZRow/czzaxttYy8k/HS+QGXtrZtJlj8//AWBjZKTM666QdU78IKfVaP61gkJiz1OUAcdIOAtAvb6pK17NsnUnBL62ZALNF07sX7nmhufvVj24Mn+t9pvg8z5et18LSlh3umDztFHa6JD807H9BqtOdKiLlg1maXlpW999YoWkKWbpw6qdoeaLwm5ssJ6x4NsIJRzYqwFWjVpbR7lZBeZF7W+kj2HnyypchV9Ovge3mVKymTgaZamn5heHVRbRZGGAAQgAAFXENBtgfY63CBtL3q3xnKVrGtvkUjAT93ExMzrqzbzm7cyU+SnGFm1CBS99rzmpZ16pt9pQBt7IfGnqbzSOb5Resmsqj/AUgYMbpToP4BKG32yaiuLfstXV80raqajEv5tcJSKKAOBBhGQ28PlNEtZeSg7viQdoK7EDBJFzFkxQwq/8eXL7y16UyrWtZ8tgBx5ta8o3yzUnLLgNTnWcuvezZK5e/due48GffazR1QNWZDZtml7ffRJ7Nq/49wHT/iy5jyelPFZP+lTq/bjxt3rNVN302mONZFbc4Zw1dbvrW+Xb15i3Vg44ciLEuue0LtgRI1jvn1WhMoyVD0N9VcvXimxrmlI+vruSTdpxHtoHUGgFD55wM9UN5kJXL9ztT6SgAAEIAABdxFo3brqy6A4XHG7UVZe7y6XdmWeSnaO1aWAXGqXNu4MfVv8wRS5ikAfw0zIpXwlM6aVzJkp82aNAp6SWrl/X9n338k1esUfvy+BaMln0+XAlcqC/Q1WoKK8YvtWOQ31oJDPPy1bvrRRWVmDhdRXoXLvHus6z7Qx1SGWtaqNvZDct+oLskw/HnjpaYVZ9t03+//0G9NosgSBdfyTGDXthHH6Us+Y0RxHJfx9rnCUgijjPALyd/NvXv1FJPT67el/GXXo2OAl3zP5tjkrqz7M/PPCp7q07Hb36zdbrxaQySs5euSykdc3zcxRsTKD9Pq8FyS08Jli0gKyXPDI7sOvOu6m2ksftYwmvlrzxeOf3L/4h681xyQkUDm3/xU+meE8Spyp19yJHLnxPIC0snLfsVhCuP8756HsjJx5q2YFqOjzqmlGjs7plZSV+Ly1Pu49kGd9TEtJtz5+s+Er6+PRPY61Pvqk5bJB2e+nVzh8uXq2T4G7xv/1iifOlEwJ+STWlchWlsXOX/35/qJ9pqQcANPypwlDn7ry2KdDP/l90ONDn57x8D1n/bt2MXIgAAEIQMD5BJo3b56WlmY+ue7YsUMeo6lz6bxqD5V69EhZ+Rmg9ZQhRxW/Vz1zKAdRpvQfFKB87VeVJSX5N11ZsW2redXsjWlyJf3+++8tnfe5Fk7q1DXzquvTxp5mVUaurZdoSgLFsqXfaklrIrlH79TjTsw495KEptV/L1kLaFrCyKIprx949jGfAzBlA2T6WRdmXn6dlgw/IYeCqhCJsQ9Owfn7Z2MvSBMSxZkFqAX//kvx+2+nDDyiYvu24ukfmJbFzMxLr/GnRVVe6uiTdf1q0duTMq+9JbFV1XeKALVi8oogMCbY3d1oUWmR/gFtryUFJQUNEvjlmtmqiVxAd/njP7POXIkomX16Zc7TAzsfeWyfE4zkaYvf+fObv9YAw29zEvbIRXzyc95Rl9900l21rx03tUTIrS9eVXu2zbyVYzD/Mu2OfolH+20ihEy54ME6mTZ2wPjghZw19OLrT/i1BLc+6yfrlXBIiy5mVlNKCpY121daz4DR6nJi5xcraiyckIr6VhI+y0p7d+hnfVs7PaDTYAWrc31a7NCOA+SyhyenP2ByfMJaCd3ljBkt7DdxYr/T5XRQ80oO2rnl5LtzsqL6d4NfrciEAAQgAIEQCLRq1Wrjxo1Scfv27b169QpBQmhVyjdvlHMgtW7KoKGa9ptI6TfQml++bk1Dg8BGBwpLv/xChZRv3LD32gt9grHyDWv3/f42mZNMyPrx1IDKSpmsK7j/Xp9iKsQkZJui/BQ+8WD2g/+Ts2183uqjzLnl33y11Wp9JfKleuk3C7N+cYtmhpOoLCkufOZRlSBrQa1hrebb3guNf/OnsqWL5SoIaUJmTeVH25JEkz/dHzhOPvgtwPKvaPLLmdfebMlwUJLloA7qDFQJh8CDH/zVJwI00mQyUOedJI6SFYOBI0CrDq9+8cwbX75kzdH0vgN7L3tsvAYqmu+TWFwxZ2flwaWh4f/7wHJOZuC1oNqW2H720Eve+/W82075o56Gom+DSYyw7PST8r955bradzZIvlzOboUvt7f7NPf95iXaXIvGrQKsBTXFOrXspuWlv/YU+K7wuXLUjQ9c/IxPK1LlilE3PHft28lJ9XzeOnnAGSpfEp8t/9j6SBoCEIAABFxEQIJAo63MBEZT7fJVy63NJXasOhnSmmlNJ7atsYmjfF24mxHk9nm/oZ3M6WkEuO/uW/fddYvfYlbdNJ3/yytN/KM5mij59KO911zgNwLUMjInuefSCfoYTqJs8SJrW3WtBbW9FyTGy3n1vYzzLvVRPrnfwGZvfJwybIRPvs+jzFjKkbCaWfzRu5p2WqKeP5Wcpi76OIFAekq6z/YwmaHSRYOioazlS01O9auqLtgzb+WPeAlUtGRWapamG5qoa2eXzPmk/KiM3Dxe+6I8uV48t03vFk1aymLLH3atW7h2nk+I+NSnD5455MLak4G/f/0WmRazKilW/yit15rtK2R1qI8ca8kQ0oXFBdarGgKvBRX5cumChEPnDLtMbkgPoTmtcuaQCx775H7tXNHhisd/JstK5SQYU0ZOfHnik3/JJYRaRRJyh4T1UdL5B/ZqTofmnTVdV6J9s47WVz/sXl97pm5Yj5Gf3Llo3c41chtEYfF+OVFG5gBrh4VWOZqWuUT5HdbfxjnLP63rzButQgICEIAABJxJQLcFRjkIrNi7xwokqU0762PttFwlJxGCBjYH9++F96+uSwjST6sKw2Tnofz4NCJvE9t1SGjcpGLXzopNG2RzoE8BOYsl61d3+WSWr1+Tf7vvViC5ETHl8CNkgk42B0rM5lMlzEerdQHWgkaiF+R816zb7pYZvLLVK8o3rEts0TI5t5ffG+r92pg65iRdPioTs7J5Mvi6fgVGKJMgMEJgvSz28C5DP76zxn/qcmrlGf+qnv6+/dR7rAcwWlnI0SaPfXy/5nz0mwUmQtOc8BOyGe+k/uObNW4xY+mHny+fLmGMkfm3Kb+zCpfZqn9f/LQGM+aVRDvPz3rsmZn/1ZKy62zW8k9G9h6jOZKQXZE+ly4M73nc/537UHpK1anQEhXLxejWLXzW6iGkv1pbvfxDqh/dc1RgIXJtwzXH27AeQ3rnwUufv/Z/5+pKVJnTm/DAcQK5c8tueQW7v9+8WENEo9LY/uN18a0qaQ2J2+d00Py6Em1qnnkjMZ7fknJIjCxP9btC1W95a+ZRPY6VtcEmZ97qz62vSEMAAhCAgIsItGzZ0mgb5SBQwznTemKrNvVCS+rURZcXyj69essHWSBt3PiDV9KXlck5mWWLv04ZdoxUlA2EsqvNKiHjgsszf35T1SThTy+ydm6XZZzW3XdynEnmVTckZDf9qcjB/y/491+tjxKVycJR2S+nmbKaNP+mqyTg0ZwwEzV2+o0c7XctqDQRuV6QOFm2CNa1ETGAdSlHDLO+lQj54BZN5/0jCHRen6BRGARkDuriEVUbdk89/CyJT8zUkOwYtF5eJ5mPX/WaXFTg05Tk/3z0r6SWLATVV9+s/8onCLxvyt36VhJnD7vk1nF/sObI9OZ1I3+96ut1yyr93JhnLRlkeo7lZgip0qVVbpAVwy/W75DDn7p6siyjtS74lB2P8uMjXObWfjv+L6P7Vp+LZQrIbKG1ZGZ9dxtKYQ2nTUWfONMqLeR07/aHaRAo8mWSU74LhCyNihCAAAQgECsCuhy0vLxcDgiN2tkwlfvya5icnl7j0d9DQkamZlcW+v++qQWCTOS88o4c62IKywGkcuhoQurB1Vhli760rgKVNaJZN/+29t0GiS1bN/7tn2Va0rrbsGzdaut+RdkKKEeAqj4yr5Xz9ESf1a2iQ87LU/NvuEyjXC0fQkIOLJVjS7Vicm5PTfskHNILVq0Sm7e0TvmWzp/jzCCQPYHWXiPtbgI92x160fCrrTbo4sBZy6db8y855traEaAWuKjmFQV5BTv1lSR25G+zLj2VVaA3nlh1arC12M6dO7sk9slqVONDmrVAg9LWI0/l3Eu57K5B1cMsLGCvGHVjvUJO6Hfq4K5H1S5W8NOhneZVWkpa7TI+OT5BYOCrPnzqBvnYs11fa8n5q5gMtPIgDQEIQMA1BJo2bZr6Y9gjGovzjZrePnNQCSkHQ6/A/xIsgWIoFzPUkp514+0aAZqXsujUJOT6B2vxzGt+WTsCrCqQkJBxzsXWwpV7aqx0LZn+ofWtzBP6RIDmbWJOs6xf1Vh1Za3VoLTP4tKkbnUHgZazeaSJmPRCbdNSBgzSzJIvZmnaUQlmAh3VHSgTFgE5ALP25j0jUW6Nu3bMrRt2rlm/c+22vZvHDz43QEstm9RY0eFzNcLMZR9Z61428hcSB1pzTHrXrl2S6JU4aGFF9cez2sWCzNmxb5uWzG1b9cFPcyKaWLxh4S0vXqHb5wK09eaXr0xZMFEmA2UO1lqsslGl9bG4rNj66Dfts6f0QMkBv8XCyezRpgbGTXkbwpFGXQhAAAIQiCGBFi1abNmyRRQwzjdKmvhceJuQUH+7qZY/GIrr94b1Csy48Mq6yqSeME72/pVvXF++Yb0Enz6xok+txPY1tuJX1rwUqtgSBModCWmnnOFTXR9TBg2R9ZPWSTx91aBE+ZZN1vJJXbtbH2ukHdALNfT58SFJ5mZ/iv0OLpEtL69rOWvtulHLIQiMGmoaijiBrq171NVG11a58lPXW2u+3HawctsyWc+pu+DKaq5mnF1zZaasBbVW17TxQ20SDslMblxYFtaSD9FElRH50Vy1KLsfb3j2YmvrooBsCu3fadDBWdbKStkiKHsmtYAk7n3zDgmbdSumlC8uLVIskshKa2J99Jv2OYM0KdH+NQty0oy1l3fvj97HY78mkwkBCEAAAiETiEkQGMp6zsqKkG2sXVGuBGyUXOdf8g3Yz1ZWpncPVrViufldVopad/qljT87IS3QwteMC68IPwisyKtxKnhSuzpPE4h5L9TuF8lJ6tjJmi+n10jwbM1xQrrOXx0nKIcOEGgQgVY1Z/CCrGv2g63dvlKOD1266VvZAWg9xaS2EJlI1EyJIuQIFn20JmRbgnls07jD2j3Lra8ampbDaaxVmoZ34KdVVOC03Dh/+8s/1wBPCssd6/ee89CQbkdbK8pFgne9duN3G6vPCvr71Lt7t+srJ3CaYukSLlr+ldb8vmh5U530iRsb1wG5ukJIKYljdYaTIDAkhFSCAAQg4AgCEgQaPdT5RkGthIyaR5pXVjaqbzKwsrhEFUtoGtbx3SIn0PyYNuMvUZm/V+4YPDhJuH5t2XffWvf71S5esXO7NTOpQ43wxvrKpJO6VF/yVPttkDmVe2oEgQFi3Zj3gl+L5FAZa36lHCRLEGglQhoCNhJond22rrWgPq1IbPPJd+/JHJeEfOt2rA4c8vnUlcdd+3doplx5p2mfhK5Iade0vb1BYOMgZtJ8lAnt8c0vX9YYSSRIyDTppk+yM3J8pLVt2v5/10y+7aWr5SxWffXQR3979IqXzaPPzR/BAPdZMtokw56tlaqeSWSmZqmB1m71KcYjBCAAAQg4nIAeBqPONwoKy0UC1lYqS0sSrKs9re80XVS9uyGxabiuLalL3YsktcUfE5X79xV/+lH58qVly5bIMZ4+uxlrlvV9qsir8SU6sXWNLTO+pRs1kpNmamc2NMd6pE3gObSY94Jf0+RgGGt+xd68JOuzM9LMBDqjH9AibAKHtOhSrwy5bW/i3Gefm/VYOKdNatggzckZLX4bLS0tzc+vOjSsY8sujcK7Cshnkqpxhv+5R7+ahJP50uwnrdX/cOY/a0eAWuD3Z/5j/P3HKFiJsfW8TZ9bQKx3Bmp1n4Rc22jNiVDcK8eZbs/fahqS6y6sLZKGAAQgAAEXEdAgUJyvuOCUlGgcn+bzh35lQUG9QWDFvupbc32uagiBdlKHQ+qtVbF924GJLxRNfKFBgZ9VbGXNlZmJzepZ1uhzt4RVVPBp63LQhMaB/uyJeS/4Ncp3JnBPnt9isc20f6dNbO2h9bglUO/FAxKfXPLoaY998i8NVPyykhWecoOc31e1M30mrLRAXl71f+1tmrXVfFsSlbbuKAigkqzz1Lcy3Tfq0LH6WDsh8eHlx15vzV+5Zak+Ws/O2RzEESxb8jZqXUk0iUzcW15RvTejorLc2iJpCEAAAhBwEYFmzaqXVlpdcERN8Il2KnZUH+FWV7vla1bpq4QmgWIbLRYg4TMJVrukbOfLO+vEA88+FjgClCsf5AKJ2tWrcipqnO7WqKJ+dxl47q7OhqwvgmjFFI95L1i1rk77Qqv+e6O6TKxTzATGugdoPyoEZGPbL5+7xHrTnTYr8Ulum165bXrLRQgDuwzp1rpnYkLiyD8dWteqRZk+2ltYdXTyvgPVn/RUoCT2/HS2cnp6+p6iGusorMWCTLdoUmPRaXTmrHbuq7EHQDf4BdC5b8eB1rdyEKs+ys3yK7cuM4/b9h48wC3wP59AMcCy28ByAr+V2yO1gM+RsJpPAgIQgAAEnE8gKytLHG5R0cFzyMQFt27tf52OvYYk11yNefD0lJ59AjRRmV/tdKRYMJfLB5BW76uK3Tvl1j6/4Z+cKJPcu29S9x7Jub2SD+2f2Kp1+YZ1JZ/WOPxc5Sc0a65pScgZJ9ZHP+mKcutiTj8FgsgSlbSUz6ZEzTcJZ/aCT18ntGjpo7YTHgkCndAL6BBxArIKdPEPX1ub6d6ml9wWOLT7CDkl0ppv0tYI0OeGAwlINAisayOZbkzPycnZsOe72vIblOMTn/icE9MgUcEX9mklO4hdeT4rcq3BXo+2vTUIlBWYcn184KsOV1luopfdnnrfY/D6B1PSGgS2yq5nk0MwAikDAQhAAAKxIiAOd+vWgyv81QVHWpOkzl2sTZSvXd1oxHHWHJ90+fp11pzkQ/tZH21PFzxwX/mmH6xi08++MO2k05N7Hap3Cerbyv01dmHI6d/6KrFmAFOxtZ4vuRU/XpGl1UNLJLasdsoH41iZGEz0v6vOmb3gEyrL9fGhcYhoLZaDRhQvwp1CYM6KGVZVxg382fPXTR3b/3S/EeCemtvDKixDoQhplV29vFMmGDUgtMrfu7dqhlAWqGzaHd6OQDmTs+ZZLHn7w51atKpaV7pj887WVxWWlZPWfGvaGvVJfosm1UNej7aHWksu+WGh9dEnLceHrrAsJe3fabBPAVse5RYK68GnrZtUd6st8hECAQhAAALRJKArQtUFR7r1hOwc67rH0gXzArdY+vWX1gLJfQ6zPtqcrqwsmTHNKrPJfQ81vuMeuTeidgQoxSp21bwnyeL0E1vUWI7kE1hamzDpiu31RIm1q9TOSWxZo9HKfftqlzE5zuwFn9NNrb8ndRkS/XyCwOgzp8VoE5Cr/xauqx6aZdffnePvk/+tS495q2dZX1XUXJg+oufx1rcyx2h9NGn1QEmZjeQmvdoFGpQjp57KGlStsrug5kitL2xNyORbs6zqzd9yGWC94r/fvNhaZkCnI/TxqB4jNS2Jz77/2Prok56/ZrY1Z2DnIdZHu9I+59O0btrOLsnIgQAEIACB6BOQmUDTqLrgKOiQOqL6TwK5aKGysDBAoyWzputb2YbnE1zpK1sS5evXWBeCph47Jm3MyQEkl341t8Zby+fvpEM6i7b6tnjq65WWM041XxPF0/0vK9UCwSR8gkCfiTUfCQ7shYqfJgOMquEfAuRjsi2PBIG2YESIownIzX7WOR/Z9ZecVOdCaJkgen7W41Z7Ssqrb/WR/NGHjbO+ffazR+TQUWuOpHVP4GebP/B5Fdpj86zqWbUfdq0LTUhDa/VuX/2RUlaHTv/u/QASZAHt0zMethbod8ggfezSKleOltHHiXOfqw1N3z7+yb80LYkRvapdrDU/zPQPli2LIqo1y0HDBEp1CEAAAjEl0PSnGxfUBUdBndQxJ1lbKXrzVeujNV225BvrTGDa8YHOWrNWDC1dtmqFtWJK/8Otjz7pij15RW++Zs2sLC2tfkxIkEWk+ij7/YreqNPMil07DjxX448ordighM/6yYrNNY6L8xHlwF6QIFyVDOYQVy0czQRBYDRp01ZsCPgcKyLHw1hjQh+d/vfpg6stG9LkbVFJjQ97zRu3tEZHIuqB9+/1EWI+Q+6r3DNv40yfV6E99mhXvZxyc94PgQ84Da2J2rWO7D7Cmnnnazd8ubrGHJ31rUCwbiOUkC8zrcYlOScP/JmWF2h3TbzRby8899mj1rWgEgG2zemgFW1MLFhX46unnAxko3BEQQACEIBAlAloEBjNmcCUI46yXlFQ+Ph/ypZ+W9twCZz2/ekOa376+ZdZH21PWw9WEeHl66pjEt+2yssL/nK3ddrwYIHiYmuxtNE1QtbCxx6o2LLJWqAqXVlZ+MRDfvIbnpXUuZu1Uum3gXaROK4XKipKv/xC9Y/sul9tpuEJgsBL8B04AABAAElEQVSGM6OG2wjIPXXWaSiJoO5/94+1jZC5rHsm3/a/Gb7jV0Hxfp/Cd5xWI+qbsnDizS9croGZ3FBUWFi4rXLD7IqpPhVDfjy+5vUMi9bX2FcQstjAFc8ZdqnPzsAbn7tkwdoasZNIkONVfvvq9W98WXU1vJH5+zP/6SP8gqOvtF4U8cXKmTc8e7Fs/7MWe+zj+x/9uEbFn4/+lbWAjekFa6oHaFn72qdDfxuFIwoCEIAABKJMQINAccHiiKPTekJqaua1N2tbEkrtueRM64yfvJKb+vZedZ71coi0ceMjPTuU3L2naiWJoqmTS+d+bs0xaZm423vDZcXTfVctVezfZy2c3HeAdTJQzMw7d1zpwhp/ishS2H133lQ0ucYfA1YhDUpLECvnl2qVwPstndYL5evXWoPq1JGj1RBHJZIdpQ3KQCBCBIb1GPnWV9WrFyRiWbB23qUjr+vYvJNcCLG7YNfs5Z++8/Ukv3NTep+46tanQ78JR140ef6LmjN35Wen/fPoY3qNOeyQgeu3rZtb8X5e5Q59G37i6J41DhxbsPaL4C8zDLl12TZ5/0VPnvvgiVYJ1z9zoUyEju0/vk3Tdjvyty3fsuTjJe9ZD1OVwucffcWgrkOttSTdJKPpLSff/bepv9N8uVD+5L8fKdDaNeuwv2ifHN7jc4fH6MNO6dG2j5a3N/HNhgUqcGTvMbLxUh9JQAACEICA6whkZ2erzjIZ2LJl9TYKzY9EIuPsi4pef7l8Q/WtSHuvPl/24KUMPKJRUlL5yu+LP/nAGhLIzGHmVTdGQhOrTLmsXO5+sE5LSrCXPv7stLGnykkqjRIT5ZDPkk8/lODQWkvTB6+7qPkv61d3lnz2iRoiib3XnJ92/EnJhx+R2LRZ2fdLSmZ+XO+ZMTVF1vOUevzYsu+/M4UOBoES2Kek1FXHUb1QurjGcfQpw2qsq6rLhOjnEwRGnzktxoDATSfd9enSD6wnea7fufpPb9xWlyoyNaQzexKfrNr2vc9ywRvH/kZWjVpn5KTY+9+8KT91yQwnX/SRW/i+27jICPnKMosVjth663Zu2f3WU/5w/7v3WEvKUTcBTruRuzduOPE31vKaPuOI8z77fprMAWqOgaaP1oSEmvdM+Jc1x8a09L41cJVo00bhiIIABCAAgegTkKsCk5OTy8rKpOl9+/ZFLQiUyKTJX/8jgZ8GSKKARETy4xdC9gNPJnXq4veVvZlN7vlH3tk1lnEWvT1Jfvy2IsdXWi/3K5G5wV//3norg2zSy/73E3t/fqG1ukwh1p5FtBYIJ506fFThI9V/BpStWCoTknUKdFIvlC2q/sosx7H67G+s04Sov2A5aNSR02AsCEgQ9cDFz1qXI9alhRyJ+eRVkx6/ssYO6bcX1HiUuukpGY9c/pJcMlGXHJMvy1CvGHVD4DJBvh1jCVQkBtMYNcjqIRc7e+glT179unU9bQBR14659YXrptZ18qrMtt1/4ZPHHXpSAAnmlUSS/738pQDn99QrIXCBL1Z+Zi0wLPcY6yNpCEAAAhBwI4EmTZoYtfPza956F2Fj5Oa9po+/FMw1AE3+/nDKoCMjrE6V+KSu3Zv8+f5g2pJ5y5xX32t8571aWAJCn9We8ipl8NCcV96p10wJPustow0FSCT37GOVE3hFqMhxSi9UVJR8Xn0MrLANYGNsXxEExpZ/3LXeNKOZ2iyhQl3RgpYJPpGTWS3Zby1Zw/n+HfPPHnaJ37eSKfvf7hz/l3dv/6Jfp0GyCtEaMc5f5edAlMTEpHvO+vdDl71wqL/tZAmNEvpmHzHppk+aZbbQFoO5cl0L+ySO61sjdvpo8RSfAiE8piWnB1Or3yGHT75lhmzPszLxqTik29Fv/eqzy0b+QrD4vLI+ytu/nvfff174ZPtmh1jzNS1B+L3nPPjS9e9lpTXWTNsTr897QWUO7josgF1ajAQEIAABCDicgAaBMhMYZVXl8I9mb36Scck11nNirDpkXHB582nzZf2kNTPMdEKT6hWwfkWlnTy++TufpY07w+9bUTX1uBNznnk9+/7HJNxKGXKUtVjpN9XTWZqf3KN3szc+zrr5t9bwrPptv4E5L7yVdkr1OXDyql4ltbpvIiEhdUz1eexFk1+xXmHvW/jH55j0go8mEqxa51RTR9TYzuNTOLaPCXKFWmw1oHUIRJmAHPSyfsfqDbvWrt+5Ri6EkHWePdv1OaR5l8DRS2AlN+3esHLrsnU7V+8tzNuxaffuH/a0TGjfv++As846K3DFBr2V/Xh6Lku31j1evsF3J3eDpIVWWJbUrtm+QtbHCkCJb3Pb9u7eume7Zh1la2VDBQo02dy4PX/bnsLdcgdGl1bdO7fq3rVl93A6IhgdpKcufuRULfmfS54dykyg4ojjxLxvKoZNKPIBMHdy+tABDf7d9hHCIwQgEB0Cr7/++nffHdxFNnTo0JNOsjPcaoD+ZWVylGX5xvUVO3c2qqxI6tgpqUMnWf+ZkN20AULsLlqRt7ti8w+yZ09O9UzIyErqlivzhOFcVFhZUly+akX5xg0VWzY2Sk758RyXw2xf5lq+ZmXeOScrjKZPvXpwp2Uw/2LXC/t+96viD6o+06cMHdH0v88Go29MyrAnMCbYaTSWBGSK6dCOA+THRiU6NO8kP0bgpEmTliYslXTjxjbPZV1/wq+veOJM08qa7SvX7Vgl9+/ZaEUwoppm5hze5Uj5CaZw4DJWaIFL2vt20tznVaBseiQCVBokIAABCLiagLrd6M8EVnNLTpYFn1Fb81ndbsBUYrPm8hNoT13A6rVfJqSmJR/aT35qv7IxJ6lbD7njvvjjqmuKi9+eFGwQGKNeqNy7RyNA4ZB55S9spGG7KD5w2o4UgfFOoKCg6u549UZ2EZHAVVZmqrTXLceTaiaJwATkUop3F03WMjeOrXFxk+aTgAAEIAAB1xFQt6uO2HUmoLAPgYzLr9McOcu0cl9Ud3tq00Emij98R0vKkTBO+xagupkEQaAPEB4hEC4B9T1yUlm4smrVv/7E6qBlyoKJPvfs1SpOhi+Bj5a8oxeByL7EEb0cenuPr948QwACEIBAfQTU7aojrq8G751OQI57SR15vGpZPO1dTTsuUVl54PUXVavMq2/UtDMTBIHO7Be0cjEB9T36SdJGYwZ2HtKz3aFGoFxy8NKcp2wU7nlREv49/OF9aub1J9yuaRIQgAAEIOB2Aup21RG73SL0FwKZl1cvqix87IHKogPOxFI8/cPyNauMbnJJo2OvB1R6BIGKggQEbCBQXl5+4EDV8JSZmWmDxFoifnfG3zTvyekP7DuwVx9JBCbwxvyX8gp2mTJyDyHXAwbGxVsIQAAC7iKgblccsbhjdymPtnURSO43MO3UqgMR5ODNoonVs211VYlBfmlp4YPVf541vv33MdChgU0SBDYQGMUhEJBAYWGhvtd1KZpjS0JmAuUmBiNKpraemP6ALWI9L0RuVnzoo6ppQLmb5L7zHvG8yRgIAQhAIK4IWN2u1R3HFQRPGtv4V3fppRSFTz0s5684zcyitybK4atGq4zLrpXA1Wka1taHILA2E3IgEDoBq9fRT5Khi6uj5tXH3yy3GpqXk+Y9v3Xv5joKkl1N4OmZD8sCWvN888m/a5vTofodKQhAAAIQcD8Bq9u1umP3WxbvFsgFG43/+HdDobKwoPCZRx1FpLJgf8FDVeoldeqaefUNjlKvLmUIAusiQz4EQiGga0GTk5NTU1NDERFEHZnI+tv51SPgA+/9OYhKcV1k9/6dL8+u2j/Zt+PAs4deEtc4MB4CEICAFwmI2xXnayxTd+xFQ+PRptSjj03/2blVnfvi/8o3b3QOhQMvPS2hqdGnyb33J6SlO0e3AJpU/acSoASvIACB4Amo18nIyAi+Vgglu7fpJQsa5d5zqdvhp1nBEOTESRVZC2rW0GZn5BzXN0Y3CMcJa8yEAAQgEDsC4nzNJYHqjmOnCy3bTCDrpt/IzYFGaEJams3SwxCX1KV71q2/EwFylqkcCROGpKhWJQiMKm4a8zwB9TqRDgKF5KhDx8qP55HaYqBcTC9raG0RhRAIQAACEHAsAYJAx3ZN+IolNG6Scf5l4cuxXULaiafYLjMKAlkOGgXINBFHBIqKioy16enuWAwQR32DqRCAAAQg4HUC6nzVHXvdYuyDQIgECAJDBEc1CPgloF5H/ZDfYmRCAAIQgAAEIGA7AXW+6o5tbwKBEPAGAYJAb/QjVjiFgHod9UNO0Qw9IAABCEAAAl4noM5X3bHXLcY+CIRIgCAwRHBUg4BfAsXFVZcQpDlpy7JfVcmEAAQgAAEIeIyAOl91xx4zEHMgYBcBgkC7SCIHAgcJlJSUGBCRux8C0BCAAAQgAAEI+CWgzlfdsd9iZEIAAgSB/A5AwE4C+ulRP0baKR1ZEIAABCAAAQjUTUCdr7rjusvyBgJxTYAgMK67H+NtJ6CfHvVjpO1NIBACEIAABCAAAb8E1PmqO/ZbjEwIQIAgkN8BCNhJoLS01IhLSUmxUy6yIAABCEAAAhCoj4A6X3XH9dXgPQTilACXxcdpx2O2vQS+Wf/V/NWfL9/y3ZLt35aUFyc1St48f9kRe4Yd2X3EgM5H2NsW0iAAAQhAAAIQ8CFQuuir0nmz28yfe97aVcnlZZWpafnLv07u0zdl6PCUgThiH1o8QqBRQmVlJRggAIGQCUxZOHHi3OdWbf2+Lgm5bXufM+zS0wedU1cB8iEAAScQmPdNxbAJRT6azJ2cPnQAS2Z8qPAIAWcRKHp7UtGrz5WtrNMRJ/fonX7epenjz3aW3mgDgZgSIAiMKX4adzOBdTtW/fPdP3615otgjDii21G3nfLHLq1ygylMGQhAIPoECAKjz5wWIRAmgfK1q/f//Y+lXwbliFOGHNX4139M6to9zEapDgFvEOADpzf6ESuiTWDeqllXPXlWkBGgKCclpbzUiraitAcBCEAAAhDwIoGSuZ/vufysICNAASAlpbzU8iIMbIJAgwkQBDYYGRUg8M2Gr2596ar9RfsahELKSy2p26BaFIYABCAAAQhAwIeA7ADMv/nqyv0Nc8RSXmpJXR9pPEIgDgkQBMZhp2NyWAQOlBT++c1fl5WXhSBFakldkRBCXapAAAIQgAAEICAEKgsL999zR6OyquO4G8akrFTqioSG1aI0BDxHgCDQc12KQREm8PBHf9u4a33IjUhdkRBydSpCAAIQgAAE4pxAwUN/L/8hdEcsdUVCnDPEfAgQBPI7AIEGEJDDYCbPf7EBFfwVFQkix98b8iAAAQhAAAIQCERADoMpmhSuIxYJIidQM7yDgNcJEAR6vYexz1YCUxdOskWeXXJsUQYhEIAABCAAAbcQKJpijyO2S45buKEnBHwIJPs88wgBCAQgMHPZtABvg381bfE7x/c9OfjylIQABCJNYP3uisYtSkwr+3f1N4my1StLk3wvD4y0JsiHAAQCECj+6J0Ab4N/VTJjWtZNvwm+PCUh4DEC3BPosQ7FnAgS2Lpn0xn/GhnBBhANAQg4g8C8lxcbRT5ocuHgpKq0M1RDCwjENYHKRo0S7APQbOrMpHYd7JOHJAi4iQAzgdHurRkzZrz00kvRbpX27CCwP213o+Z2CEIGBCAAAQhAAAKxJnD/LTetbNIs1lrQfigELrzwwlGjRoVSkzo/ESAI/IlEFP//qaeeimJrNGUbgRaHNc79WWvbxCEIAhCAAAQgAIGGELBxGlCanTftwzd2729I+5R1CgEJAp2iimv1IAh0bdehOAQgAAEIRIbAjpyqPYGREY9UCEAAAhCAQIwJEATGoAOuuuqqGLRKk2ETkOWgaxstClsMAiAAAQhAAAIQCIWAvXsCh54wtjnLQUPpB+p4gQAHw3ihF7EhOgQ4GCY6nGkFAjEn8M579i46i7lBKAABjxCwNwjkYBiP/FpgRkgEmAkMCRuV4pJA25wOHZt33rh7ffjWt85u+9fz/hu+HCRAAAL2EvjLX/4yZcqUsXsSTj/99DvvvNNe4UiDAATCJ7Dvjusrtm0NX07SIZ05GjR8jEhwLwGCQPf2HZrHgMCxfU54abYN5/qc0O/Uvh0HxsAAmoQABAISyCxtun9T8cJGjQZlZaccNiBgWV5CAAIxIJB24qkHXrDBEaeOOiEG2tMkBBxDINExmqAIBFxA4LRBZ9uipV1ybFEGIRCAAAQgAAG3EEg/3R5HbJcct3BDTwj4ECAI9AHCIwQCEejSKnfCkRcFKhHEO5EgcoIoSBEIQAACEIAABGoQSOraPf3scB2xSBA5NeTyAIE4I0AQGGcdjrlhE7jhxDs6tugcshipKxJCrk5FCEAAAhCAQJwTyLrx17KjL2QIUlckhFydihDwBgGCQG/0I1ZEj0BGaubdP/t7clIo+2mlltQVCdFTl5YgAAEIQAAC3iKQkJnZ+A9/S0gOxRFLrYN1M3HE3vqdwJqGEyAIbDgzasQ9gQGdjrj/wqcapzdpEAkpL7WkboNqURgCEIAABCAAAR8CKQOPaPLAUwmNG+aIpbzUkro+0niEQBwSIAiMw07HZBsIDM095qmrXz+i21FBypKSUl5qBVmeYhCAAAQgAAEIBCCQOmxEzjOvpwwJ1hFLSSkvtQLI5BUE4odAKDPp8UMHSyEQgIAc7vLwZS9OWThx4tznVm39vq6SuW17nzPs0tMHnVNXAfIhAAEIQAACEAiBgBzu0vTRF4renlT06nNlK+t0xMk9eqefd2n6eHuOFQ1BT6pAwIEECAId2Cmo5CYCEt3Jzzfrv5q/+vPlW75bsurbkvLipEbJ3drnHtFz2JHdRwzozLITN3UoukIAAhCAgLsISHQnP6WLviqdNzvvy7n716xKLi+rTE1rfVj/5N59U4YOZ/2nuzoUbaNDgCAwOpxpxeMEJNIzwd6jjz66fft2sfa0I08bNGiQx83GPAhAAAIQgIAzCEikJz/fDzlm6tSpolHr1q2vu+46Z6iGFhBwIgH2BDqxV9DJvQRSUlKM8qWlpe61As0hAAEIQAACbiSgzlfdsRutQGcIRIEAQWAUINNEHBFITU011paUlMSR2ZgKAQhAAAIQcAABdb7qjh2gFCpAwIkECAKd2Cvo5F4CaWlpRvni4mL3WoHmEIAABCAAATcSUOer7tiNVqAzBKJAgCAwCpBpIo4I6KdH/RgZR8ZjKgQgAAEIQCCmBNT5qjuOqTo0DgHnEiAIdG7foJkbCeinR/0Y6UYr0BkCEIAABCDgRgLqfNUdu9EKdIZAFAgQBEYBMk3EEYH09HRjbVFRURyZjakQgAAEIAABBxBQ56vu2AFKoQIEnEiAINCJvYJO7iWgXkf9kHttQXMIQAACEICAuwio81V37C790RYCUSNAEBg11DQUFwTU66gfiguzMRICEIAABCDgAALqfNUdO0ApVICAEwkQBDqxV9DJvQQyMjKM8gcOHHCvFWgOAQhAAAIQcCMBdb7qjt1oBTpDIAoECAKjAJkm4oiAeh31Q3FkPKZCAAIQgAAEYkpAna+645iqQ+MQcC4BgkDn9g2auZGAep2ysjI9qNqNhqAzBCAAAQhAwF0ExO2K8zU6qzt2lwloC4GoESAIjBpqGooLApmZmWpnYWGhpklAAAIQgAAEIBBRAla3a3XHEW0U4RBwKQGCQJd2HGo7lIDV6xQUFDhUS9SCAAQgAAEIeI6A1e1a3bHnDMUgCNhAgCDQBoiIgIASSEpK0iUo1k+SWoAEBCAAAQhAAAKRIKBuVxyxuONINIFMCHiGAEGgZ7oSQ5xCICsry6iyf/9+p+iEHhCAAAQgAAGvE1C3q47Y6xZjHwRCJ0AQGDo7akLALwH1PdZ1KX5LkgkBCEAAAhCAgF0E1O2qI7ZLMnIg4D0CBIHe61MsijEB9T36STLGCtE8BCAAAQhAIA4IqNtVRxwHRmMiBEIkQBAYIjiqQaAuAk2aNDGv1BvVVZJ8CEAAAhCAAATsIqBuVx2xXZKRAwHvESAI9F6fYlGMCTRu3NhosG/fvhirQvMQgAAEIACBuCGgblcdcdyYjqEQaDABgsAGI6MCBAIT0A+Q6o0Cl+ctBCAAAQhAAALhE1C3q444fJlIgIBXCRAEerVnsStmBLKzs03b6o1ipgoNQwACEIAABOKGgLpddcRxYzqGQqDBBAgCG4yMChAITEA/QJaVlelJZYGr8BYCEIAABCAAgXAIiMMVt2skqCMORyB1IeBtAgSB3u5frIsBgaZNm2qr+fn5miYBAQhAAAIQgECECFgdrtURR6g5xELA7QQIAt3eg+jvOAIpKSmZmZlGrb179zpOPxSCAAQgAAEIeI6AOlxxweKIPWcfBkHAZgIEgTYDRRwEhIB+g1SfBBYIQAACEIAABCJHQB2uuuDItYVkCHiAAEGgBzoRExxHICcnx+ikPslxKqIQBCAAAQhAwEME1OGqC/aQcZgCAfsJEATazxSJENDPkHv27IEGBCAAAQhAAAKRJqAOV11wpFtEPgRcTYAg0NXdh/IOJaAeKC8vz6EqohYEIAABCEDAQwTU4aoL9pBxmAIB+wkQBNrPFIkQaN68uYGgHyZhAgEIQAACEIBA5Aiow1UXHLm2kAwBDxBI9oANmAABpxHQDQlFRUVyc1FWVpbTNEQfCEAAAhCAgGcIiKsVh2vMURfsGeswpDYBuRHkpZde0vzu3bufeOKJ+mhNvP/+++vWrTM5nTp1OuWUU6xv4zlNEBjPvY/tkSLQrFkzFS0LVAgClQYJCEAAAhCAgO0EdC2oSLa6YNsbQqBDCMhfVq+88sqsWbNUn6VLl/bp00cfTWL+/Pnjxo3TzNtvv50gUGmwHFRRkICAbQTkhqLs7Gwjbvfu3bbJRRAEIAABCEAAArUIqKsV58slgbXweDAjKSnphRdeaNKkidp2xRVXlJeX66Mk9u3bd/7552vOkCFD7r33Xn0kQRDI7wAEIkKgRYsWRq56pog0g1AIQAACEIBA3BNQV6vON+6ReB9A586dH3/8cbVz7ty5Dz/8sD5K4uabb16zZo3mvPzyy6mpqfpIgiCQ3wEIRISAbkzftWtXRBpAKAQgAAEIQAACPxJQV6vOFzDxQEAm+i644AK1VKK+1atXm8dJkyY9/fTT+krWjubm5uojCSFAEMivAQQiQkA/RqpnikgzCIUABCAAAQjEPQF1tep84x5JvACQ2b/WrVurtddcc01lZeXGjRuvvPJKzZT0eeedp48kDAGCQH4TIBARAuqH1DNFpBmEQgACEIAABOKegLpadb5xjyReAMg5QK+99ppaO3369BdffFH2B8qGQJPZs2fP//znP1qAhBIgCFQUJCBgJ4GWLVsacSUlJXv37rVTNLIgAAEIQAACEPiJgDhZcbXmSZ3vTy/5f+8TGDVq1B133KF2XnLJJdOmTdNHWRfKIe1Kw5ogCLTSIA0B2wjItgQ5usqI27Fjh21yEQQBCEAAAhCAgIWAOllxu+wJtICJo+Q999zTv3//2gY/+uijfvNrl4zDHILAOOx0TI4SgVatWpmWdu7cGaUmaQYCEIAABCAQZwTUyarbjTMAmNsoLS1NDv/0ATFhwoSf//znPpk8KgGCQEVBAgI2E1BvtH37dptFIw4CEIAABCAAgR8JqJNVtwuYOCTQt2/f448/3mr4iBEjEhISrDmkrQQIAq00SEPATgLqjXSlip3SkQUBCEAAAhCAQKNG6mTV7UIlDgm88847ciqM1fBbbrlFb4yw5pM2BAgC+U2AQKQI6JnF6p8i1RJyIQABCEAAAvFKQJ2sut14JRG/dm/bts16YaCCuPTSS8vKyvSRhJUAQaCVBmkI2ElAP0kWFxfv3r3bTtHIggAEIAABCECgUSNxr+JkDQl1u4CJKwJyMeDVV1+td0JYvwXMnj37vvvuiysawRtLEBg8K0pCoGEE5Iwy2als6uiOhYaJoDQEIAABCEAAAnUTUPcqDpejQevm5OU3Tz755NSpU9VCuR/iqaee0se77777yy+/1EcSSoAgUFGQgID9BNq0aWOEbt261X7pSIQABCAAAQjENwF1r+pw45tH3Fm/fPly6xGgf/rTn+ROCLks/oQTTlAW5513XkFBgT6SMAQIAvlNgEAECahPktXqEWwG0RCAAAQgAIG4JKDuVR1uXGKIU6NLS0svvvhiNV7CP3NrvBwK+sQTT2j+mjVrbrvtNn0kYQgQBPKbAIEIEmjbtq2Rrl4qgo0hGgIQgAAEIBBnBNS9qsONMwBxbe69995rXer5/PPPp6amGiJdunR55JFHlM5jjz0mx4fqIwkhQBDIrwEEIkhAfVJeXh5LESIIGtEQgAAEIBB/BMSxins1dqvDjT8McWrxnDlzZPGnGi/pAQMG6KMkZJnoqFGjNEeOD9VPBpoZzwmCwHjufWyPOAHxSXpRqe5biHirNAABCEAAAhCIAwLqWMXVEgTGQYdXm5ifn3/uuefqsy4E1RxJJCYmypkxmiPHh8ohonKUqObEeYIgMM5/ATA/sgRkAGrXrp1pY8uWLZFtDOkQgAAEIACBeCKgjlVcrTjceDI93m194IEHNm7cqBSsC0E1UxK5ubkPPfSQ5sghoh988IE+xnmC/2Di/BcA8yNOQL9Nbt68OeKN0QAEIAABCEAgbgioY1VXGzemx7uhv//972VOT//5LAS10rnhhhu0mCROPvlk69t4ThMExnPvY3s0CDATGA3KtAEBCEAAAvFHwDoTGH/WYzEEwiJAEBgWPipDoF4C7du3N2X27Nkj69HrLU8BCEAAAhCAAATqJSAuVRyrKaautt5aFIAABAwBgkB+EyAQWQLimZKTk00bmzZtimxjSIcABCAAAQjEBwF1qeJkCQLjo8+x0k4CBIF20kQWBPwS6NChg8lXj+W3GJkQgAAEIAABCARJQF2qOtkgK1IMAhAQAgSB/BpAIOIE1D+px4p4kzQAAQhAAAIQ8DQBdanqZD1tLsZBwGYCBIE2A0UcBGoTUP9kPc64djFyIAABCEAAAhAIkoC6VHWyQVakGAQgIAQIAvk1gEDECXTs2NG0UVpaql8uI94qDUAAAhCAAAQ8SkCcqbhUY5w6WY/ailkQiAgBgsCIYEUoBKwEsrOzmzdvbnL0y6W1AGkIQAACEIAABIInoM5U3Ks42eArUhICEDAECAL5TYBANAjod0r1W9FolTYgAAEIQAACXiSgzlTdqxetxCYIRJAAQWAE4SIaAkqgU6dOJr1hwwbNJAEBCEAAAhCAQAgE1Jmqew1BCFUgEM8ECALjufexPXoEDjnkENNYfn7+rl27otcwLUEAAhCAAAS8RUDcqDhTY5O6V2+ZiDUQiDgBgsCII6YBCAiB1q1bZ2VlGRTr16+HCQQgAAEIQAACoRFQNyqOVdzr/7N3HnBWFWcf3r4LLL2qKFJEQUABFUSRYsPYe6JRY2KMX6JJjKkaS4zGfNEk5tMUW6JGjRqxF1RUUJoiXQUEQRAREKSzfff7w8Ds7Lll79579957zn3Ozx/OmTPlfZ85O3PeOzPvxFcIuSCQ5QQwArP8BUD91BHo0aOHqcwuYkld3dQEAQhAAAIQCAoBO4zagTUomqEHBFJHACMwdaypKcsJ2H0L9ifMLAeC+hCAAAQgAIE4CNhh1A6scRRCFghkOQGMwCx/AVA/dQT2339/U9mmTZvYFpg67tQEAQhAAAIBIqABVMOoUcgOrAHSD1UgkCICGIEpAk01EOjatWtpaanh8OmnnwIEAhCAAAQgAIGmErADqIZUDaxNzU56CEDAEMAI5E2AQOoI2N8sly9fnrpaqQkCEIAABCAQFAJ2ALVDalA0Qw8IpJQARmBKcVNZlhOwW9jtD5lZDgT1IQABCEAAAk0iYAdQO6Q2KTuJIQABQwAjkDcBAqkj0KtXL1PZ9u3bV69enbqKqQkCEIAABCDgfwIaOjWAGj3skOp/tdAAAmkggBGYBuhUmbUEOnTo0LFjR6P+smXLspYDikMAAhCAAATiIGCHTg2mGlLjKIEsEICAIYARyJsAgZQS6Nmzp6nPjmQprZ7KIAABCEAAAr4lYIdOO5j6VhUEh0CaCWAEprkBqD7bCNjlK9raXllZmW3qoy8EIAABCEAgPgIaNK1XGDuYxlcUuSAAAYxA3gEIpJRA7969bX32F00bQwACEIAABCAAgbAE3EHTHUzDJiYSAhCITgAjMDofnkIgyQSKiorsIpZPPvkkyaVTHAQgAAEIQCCgBOygqWFUg2lAtUQtCKSIAEZgikBTDQQsAfv7pR3P7CMCEIAABCAAAQiEJWAHTTuMhk1GJAQgEAsBjMBYKJEGAskkYEevjRs3rlmzJplFUxYEIAABCEAgiAQ0XGrQNJrZYTSIiqITBFJEACMwRaCpBgKWQLdu3dq3b29uly5dauMJQAACEIAABCAQloAdLjWAahgNm4ZICEAgdgIYgbGzIiUEkkagT58+pqwlS5YkrVAKggAEIAABCASUgB0u7QAaUEVRCwIpIoARmCLQVAMBl8ABBxxgbleuXLlt2zb3EWEIQAACEIAABFwCGig1XJoYO4C6CQhDAAJNJYAR2FRipIdAEgjoh8zCwkJTkP11MwnlUgQEIAABCEAgcATsQKmhk5nAwDUvCqWHAEZgerhTa5YTyM3Ntb9lfvzxx1lOA/UhAAEIQAACUQjYgVJDpwbQKCl5BAEIxEgAIzBGUCSDQJIJ9O3b15Sosa26ujrJpVMcBCAAAQhAIBAENERaI9AOnYHQDCUgkE4CGIHppE/d2UzgwAMPNOrX1tYuXrw4m1GgOwQgAAEIQCASAQ2RGijNUzt0RkpMPAQgECMBjMAYQZEMAkkmUFJSYjc2YAQmGS7FQQACEIBAUAjYIVKDpobOoKiFHhBIMwGMwDQ3ANVnMwH7i6Yd4bKZBrpDAAIQgAAEQgnYIdIOmqFpiIEABJpKACOwqcRID4GkEbDjWWVl5aJFi5JWLgVBAAIQgAAEAkFAg6OGSKOKHTQDoRlKQCDNBDAC09wAVJ/NBFq3bt2rVy9DACMwm98EdIcABCAAgbAE7OCo4VKDZtg0REIAAnEQwAiMAxpZIJA0AvZ3zYULFyatUAqCAAQgAAEIBIKAHRztcBkItVACAukngBGY/jZAgmwmcNBBBxn1tdzFDnXZDATdIQABCEAAAoaAhkW7FtQOl8CBAASSQgAjMCkYKQQCcRJo06aNXRGKERgnRLJBAAIQgEAQCdhhUQOlhssgqohOEEgbAYzAtKGnYggYAv379zeBjz76iFPjeSsgAAEIQAACIqABUcOiQWEHSshAAALJIoARmCySlAOBOAn069fP5KypqbEDXpxlkQ0CEIAABCAQCAIaEDUsGlXsQBkIzVACAhlBACMwI5oBIbKZQMuWLe1+9w8//DCbUaA7BCAAAQhAwBCwA6KGSA2UYIEABJJLACMwuTwpDQLxELALXT7++ONt27bFUwR5IAABCEAAAkEhoKFQA6LRxg6RQVEOPSCQEQQwAjOiGRAiywkcfPDBhYWFBoL97TPLmaA+BCAAAQhkLQE7FGpw1BCZtRxQHALNRwAjsPnYUjIEYiWQn59vB7kPPvgg1mykgwAEIAABCASRgB0KNThqiAyiiugEgTQTwAhMcwNQPQQMgQEDBpjAqlWr1qxZAxYIQAACEIBAdhLQIKih0OhuB8fsRIHWEGg+AhiBzceWkiHQBAK9e/du3769yWB/AW1CfpJCAAIQgAAEAkHADoIaFjU4BkInlIBAxhHACMy4JkGgrCVgf+9csGBB1kJAcQhAAAIQyHICdhC0w2KWA0F9CDQHAYzA5qBKmRCIh8DAgQNNti1btixatCieIsgDAQhAAAIQ8DMBDX8aBI0Gdlj0s0LIDoEMJYARmKENg1hZSKBz5849e/Y0is+fPz8LCaAyBCAAAQhkOQE7/GlA1LCY5TRQHwLNRwAjsPnYUjIEmkzA/uq5cOFC+1Nok0shAwQgAAEIQMCHBDTwafgzgtsB0Yd6IDIEfEAAI9AHjYSI2UPgkEMOKSoqMvraX0OzR300hQAEIACBbCZgBz4NhRoQsxkFukOguQlgBDY3YcqHQBMI5OXlDRo0yGSYN29eE3KSFAIQgAAEIOBzAnbg01CoAdHn2iA+BDKaAH9gGd08CJeFBOxvn+vXr1+6dGkWEkBlCEAAAhDIQgIa8jTwGcXtUJiFHFAZAqkhgBGYGs7UAoFYCXTfdZnUc+fOjTUb6SAAAQhAAAJ+JmCHPHcc9LNCyA6BjCaAEZjRzYNw2Ung0EMPNYp/+OGHuIfJzncArSEAAQhkFQENdhryjMp2EMwqAigLgRQTwAhMMXCqg0DjBDT+FRcXm3Rz5sxpPAMpIAABCEAAAn4mYAc7DX8YgX5uSWT3DQGMQN80FYJmD4H8/Hw7BNpxMXvUR1MIQAACEMg2Anaw0/CnQTDb1EdfCKSeAEZg6plTIwQaJzB48GCTaPPmzXaFTOPZSAEBCEAAAhDwGwENcxrsjNR2+PObEsgLAZ8RwAj0WYMhbpYQ6Nq1a+/evY2ys2fPzhKtURMCEIAABLKQgB3mNPBp+MtCAqgMgdQTwAhMPXNqhEBMBIYMGWLSLVu2bPXq1THlIREEIAABCEDAVwQ0wGmYMyLbgc9XGiAsBHxJACPQl82G0NlAoH///h07djSazpo1KxtURkcIQAACEMg2AnaA05CngS/b1EdfCKSLAEZgushTLwQaJ2B/E9VSmW3btjWegRQQgAAEIAAB/xDQ0GbXgtohzz/iIykEfEwAI9DHjYfogSegEdE6SbO/lQZeaxSEAAQgAIEsIWCHNg12GIFZ0uiomSEEMAIzpCEQAwJhCJSUlAwdOtQ8sCNlmHREQQACEIAABHxIwA5tGuw05PlQA0SGgF8JYAT6teWQO0sIHHbYYUbTrVu32jUzWaI7akIAAhCAQIAJaFDT0GYUtINdgPVFNQhkFAGMwIxqDoSBgJdA586d+/XrZ2Jnzpzpfcw9BCAAAQhAwJ8E7KCmYU6DnT+VQGoI+JUARqBfWw65s4fA4YcfbpRds2bNokWLskdxNIUABCAAgaAS0HCmQc1oZ4e5oCqLXhDIQAIYgRnYKIgEgQYEevbs2aNHDxNlfzdtkIIbCEAAAhCAgK8I2OFMA5yGOV/JjrAQCAIBjMAgtCI6BJ6A3SyhE3VXrFgReH1REAIQgAAEAkxAA5k9IN4OcAHWF9UgkIEEMAIzsFEQCQJeAgMGDOjSpYuJfffdd72PuYcABCAAAQj4h4AdyDS0aYDzj+BICoHgEMAIDE5bokmwCRxxxBFGwYULF65evTrYyqIdBCAAAQgElYCGMA1kRjs7tAVVWfSCQMYSwAjM2KZBMAg0IKAzlNq2bWui3nvvvQbPuIEABCAAAQj4hIAdwjSo2bNwfSI7YkIgOAQwAoPTlmgSeALDhg0zOs6bN+/LL78MvL4oCAEIQAACASOgwUtDmFHKDmoB0xF1IOALAhiBvmgmhITATgIaL1u1amVY2A0VoIEABCAAAQj4hYAdvDScYQT6pdWQM5AEMAID2awoFUwCeXl5dsicNWvWV199FUw90QoCEIAABIJIQMOWBi+jmYYzDWpB1BKdIOAPAvz5+aOdkBIChsDw4cNLSkpMePr06WCBAAQgAAEI+IWAHbY0kGk484vYyAmBQBLACAxks6JUYAkUFhbagfP9999nMjCwLY1iEIAABIJFQAOWhi2jkwYyDWfB0g9tIOAzAhiBPmswxIWAxs7i4mLDwf6qChYIQAACEIBAJhOwA5aGMPtrZiYLjGwQCDYBjMBgty/aBZCAhs8jjzzSKKZfVTds2BBAJVEJAhCAAAQCREBDlZ0G1BBmf8oMkIqoAgGfEcAI9FmDIS4ERGDEiBEtWrQwKKZOnQoTCEAAAhCAQCYTsEOVBi8NYZksKrJBIEsIYARmSUOjZqAIaCuFnQycM2fO2rVrA6UeykAAAhCAQIAIaJDSUGUU0uDFbsAAtS2q+JgARqCPGw/Rs5nAUUcdZc8MnDZtWjajQHcIQAACEMhkAnaQ0rClwSuTRUU2CGQPAYzA7GlrNA0UAR2vZIfS+fPnf/bZZ4FSD2UgAAEIQCAQBDQ8aZAyqmjY4mzAQLQqSgSBAEZgEFoRHbKTgBbVtGvXzuhut1tkJwq0hgAEIACBzCRghycNWHYjQ2aKilQQyCoCGIFZ1dwoGzQCRx99tFFp8eLFS5cuDZp66AMBCEAAAn4moIFJw5PRwA5YflYI2SEQHAIYgcFpSzTJQgJDhw7t1q2bUfydd97JQgKoDAEIQAACGUvADkwaqjRgZaycCAaBLCSAEZiFjY7KgSJgf1tduXKl3XcRKA1RBgIQgAAEfEhAQ5IGJiO4Hap8qAciQyCYBDACg9muaJU9BA4++OCePXsafe1vrtmjPppCAAIQgEBmErBDkgYpDVWZKSRSQSBrCWAEZm3To3hwCIwcOdIos379+unTpwdHMTSBAAQgAAF/EtBgpCHJyG4HKX+qgtQQCCYBjMBgtitaZRUB/cg6YMAAo/Lbb79dVlaWVeqjLAQgAAEIZBQBDUMajIxIGp7scpWMEhJhIJDlBDACs/wFQP2AEDjmmGOMJuXl5XboDYhuqAEBCEAAAr4ioGFIg5ER2Q5PvtIAYSEQfAIYgcFvYzTMBgKdO3e25y/NmDFj7dq12aA1OkIAAhCAQKYR0ACkYchIpYFJw1OmSYg8EICACGAE8hpAICAE9GtrSUmJUWby5MkB0Qo1IAABCEDAVwTsAKQhiWlAXzUdwmYXAYzA7GpvtA0wAQ23o0ePNgouXLhw0aJFAVYW1SAAAQhAIAMJaOjRAGQE05Bkf5rMQFERCQJZTgAjMMtfANQPFIFhw4bttddeRiX7W2ygNEQZCEAAAhDIYAJ26NFgpCEpgyVFNAhkOwGMwGx/A9A/YATsZOCaNWumTZsWMO1QBwIQgAAEMpaABh0NPUY8OxhlrLQIBoEsJ4ARmOUvAOoHjUDfvn3tmbxvvfXWli1bgqYh+kAAAhCAQOYR0HCjQcfIpWFIg1HmyYhEEIBAPQGMwHoWhCAQDAJjxowxilRXV9shORiqoQUEIAABCGQmAQ03GnSMbHYYykxRkQoCEBABjEBeAwgEjUDHjh1HjRpltJo7d+7SpUuDpiH6QAACEIBAJhHQQKPhxkikAUjDUCZJhywQgEAYAhiBYaAQBQG/E9BmjE6dOhktmAz0e2siPwQgAIEMJ2AHGg097AbM8MZCPAgYAhiBvAkQCCYBuxpn9erVU6ZMCaaSaAUBCEAAAukmoCFGA42Rwg496RaK+iEAgUYIYAQ2AojHEPApgf67LiP8G2+8sWHDBp8qgtgQgAAEIJCxBDS4aIgx4rnjTsYKjGAQgIAhgBHImwCBwBI49thjc3NzjXp2kA6stigGAQhAAAIpJ2AHFw03GnRSXj8VQgACcRLACIwTHNkgkPkEOnToYIfkhQsXLliwIPNlRkIIQAACEPALAQ0rGlyMtBpuNOj4RXLkhAAEMAJ5ByAQZAJHHXVU9+7djYYTJ06srKwMsrboBgEIQAACqSKgAUXDiqlNA42Gm1TVTD0QgEASCGAEJgEiRUAgkwmMHTvWiKeTfO2AnckCIxsEIAABCGQ+AQ0oGlaMnHagyXyxkRACEDAEMAJ5EyAQcAI9e/YcNmyYUXLmzJkcGxjw9kY9CEAAAs1PYMmSJRpQTD0aYjTQNH+d1AABCCSTAEZgMmlSFgQyk8Dxxx/fvn17I9vrr7+emUIiFQQgAAEI+IWAXVeiwUVDjF/ERk4IQMASwAi0KAhAILAE8vPz7SC9bt06O3gHVmEUgwAEIACBZiOgQURDiSleg4uGmGarioIhAIHmIoAR2FxkKRcCGUWgX79+hx56qBFp6tSpy5cvzyjxEAYCEIAABHxBQMOHBhEjqoYVDS6+EBshIQABDwGMQA8QbiEQWAInnHBCaWmpUe+1114LrJ4oBgEIQAACzUbADh8aUDSsNFs9FAwBCDQvAYzA5uVL6RDIHAItWrSwA/aaNWtYFJo5TYMkEIAABHxBQAOHhg8jqgYUDSu+EBshIQCBUAIYgaFMiIFAYAkMHDhw0KBBRj0WhQa2mVEMAhCAQDMQcBeCaijRgNIMlVAkBCCQIgIYgSkCTTUQyBACJ554ol0UOmHChAyRCjEgAAEIQCDDCdghQ4OIhpIMlxbxIACB6AQwAqPz4SkEgkagZcuWdvCWe7dXX301aBqiDwQgAAEIJJuALEDrEVSDiIaSZNdAeRCAQEoJYASmFDeVQSATCAwYMGDIkCFGkhkzZixatCgTpEIGCEAAAhDITAIaJt59910jm4YPDSKZKSdSQQACsRPACIydFSkhEBwC48aNs8fHv/LKK2VlZcHRDU0gAAEIQCB5BDRAaJgw5Wng0PCRvLIpCQIQSBsBjMC0oadiCKSRQGFhoR3It2zZYgf4NIpE1RCAAAQgkIEENEBomDCCaeDQ8JGBQiISBCDQVAIYgU0lRnoIBIRA3759R4wYYZRZsGDBrFmzAqIYakAAAhCAQJIIaGjQAGEK05ChgSNJBVMMBCCQZgIYgWluAKqHQBoJHH/88d27dzcCvPzyy3bTfxpFomoIQAACEMgQAhoUNDQYYTRYaMjIEMEQAwIQSJwARmDiDCkBAj4mcNJJJxnpa2tr7WDvY30QHQIQgAAEkkRAg4KGBlOYHSySVDbFQAACaSaAEZjmBqB6CKSXwN57721PjFixYsUbb7yRXnmoHQIQgAAEMoHAxIkTNSgYSTRMaLDIBKmQAQIQSBYBjMBkkaQcCPiVwPDhw/v372+knzJlCidG+LUhkRsCEIBAkghoIJg6daopTAOEhokkFUwxEIBAphDACMyUlkAOCKSRwMknn9ymTRsjwIsvvmgdwaVRJKqGAAQgAIG0ENAQoIHAVK2hQQNEWsSgUghAoFkJYAQ2K14Kh4A/CLRs2fKUU04xsm7fvt0O//6QHikhAAEIQCB5BDQEaCAw5Wlo0ACRvLIpCQIQyBQCGIGZ0hLIAYH0EjjggANGjRplZFiyZMmkSZPSKw+1QwACEIBA6gmo89cQYOrVoKChIfUyUCMEIJACAhiBKYBMFRDwB4HRo0fb8X7y5MlsDvRHsyElBCAAgSQRULevzt8UpuFAg0KSCqYYCEAg4whgBGZckyAQBNJIQCt/SktLjQBaEbRp06Y0CkPVEIAABCCQMgLq8O1eAA0Edo9AygSgIghAIJUEMAJTSZu6IJDpBOQD4NRTTzVSak/ICy+8kOkSIx8EIAABCCSDgDp8uxVQA4H1FpaMsikDAhDIOAIYgRnXJAgEgfQS6Nu375gxY4wMy5Yte/XVV9MrD7VDAAIQgEBzE1BXrw7f1KIhQANBc9dI+RCAQHoJYASmlz+1QyATCRxzzDH9+vUzks2YMWPOnDmZKCUyQQACEIBAMgiok1dXb0pS568hIBmlUgYEIJDRBDACM7p5EA4C6SJw2mmndezY0dT+/PPPr1q1Kl2SUC8EIAABCDQfAXXv6uRN+er21fk3X12UDAEIZA4BjMDMaQskgUAGESgpKXE/BZ577rmKiooMkg9RIAABCEAgYQLq2NW922LU7avzt7cEIACBABPACAxw46IaBBIisN9++1nvcOvXr3/22WcTKo7MEIAABCCQYQTUsat7N0Kpw1e3n2ECIg4EINBcBDACm4ss5UIgAASGDh06bNgwo4jOj5o4cWIAlEIFCEAAAhAQAXXp9jxYdfXq8MECAQhkDwGMwOxpazSFQDwExo0b16dPH5Nz6tSps2fPjqcU8kAAAhCAQCYRUGeuLt1IpE5eXX0mSYcsEIBAsxPACGx2xFQAAb8TOOOMM9q3b2+00EFSy5cv97tGyA8BCEAgmwmoG7fHwKp7VyefzTTQHQLZSQAjMDvbHa0h0AQCrVq1cj8RtIdk8+bNTchPUghAAAIQyBgC6sDdPd7q3tXJZ4x0CAIBCKSIAEZgikBTDQR8TUDeAk4//XSjwpYtW55++mlfq4PwEIAABLKWgDpwdeNGfXXsOIPJ2jcBxbOcAEZglr8AqA+BWAkceuiho0aNMqlXrlyJHRgrONJBAAIQyBgC6rrVgRtx1KWrY88Y0RAEAhBIKQGMwJTipjII+JrA6NGjBw0aZFRYsGDBG2+84Wt1EB4CEIBAVhFQp62u26iszlxdelapj7IQgIBLACPQpUEYAhBohMCZZ57Zo0cPk2jKlCkzZ85sJAOPIQABCEAgAwiou1anbQRRN67OPAOEQgQIQCBtBDAC04aeiiHgUwJnnXVWu3btjPAvv/yyPWbKp+ogNgQgAIHAE1BHre7aqKkOXN144FVGQQhAIDoBjMDofHgKAQh4CbRp0+bss8/Oz883D8aPH//55597E3EPAQhAAAKZQUBdtDpqI4u6bnXg6sYzQzSkgAAE0kYAIzBt6KkYAv4l0L17d31GGPmrq6ufeuqpTZs2+VcdJIcABCAQVALqnNVFq6M2CqrrVgceVGXRCwIQiJ0ARmDsrEgJAQjUE+jXr99JJ51k7s1HRlVVVf1jQhCAAAQgkG4C6pbdH+nUaavrTrdQ1A8BCGQEAYzAjGgGhICAHwkcccQRI0eONJJrudF///tfP2qBzBCAAASCSkDdsl2ur+5anXZQNUUvCECgqQQwAptKjPQQgEA9gbFjxw4ZMsTcL1my5Nlnn61/RggCEIAABNJHQB2yumVTvzpqddfpk4WaIQCBjCOAEZhxTYJAEPAXgVNPPdWuL5o3b96ECRP8JT/SQgACEAgeAXXF6pCNXuqi1VEHT0c0ggAEEiGAEZgIPfJCAAI7CZxzzjn28MB333130qRJcIEABCAAgXQRUCesrtjUrs5ZXXS6JKFeCEAgYwlgBGZs0yAYBHxDIC8v79xzz+3SpYuRePLkyTNmzPCN9AgKAQhAIEAE1P2qEzYKqVtW56wuOkD6oQoEIJAcAvQLyeFIKRDIcgKtWrXSp4Y9e+rVV1+dNWtWljNBfQhAAAIpJqCOV92vqVQdsrpldc4ploHqIAABXxDACPRFMyEkBHxAoFOnTuedd15xcbGR9cUXX/zggw98IDciQgACEAgEAXW56niNKuqK1SGrWw6EZigBAQgknwBGYPKZUiIEspbAPvvsc/755+fm5hoC48ePX7RoUdbSQHEIQAACKSOgzlZdrqlOnbC6YnXIKaudiiAAAd8RwAj0XZMhMAQymkDPnj318WFFfOKJJ5YuXWpvCUAAAhCAQNIJqJtVZ2uLVSesrtjeEoAABCAQSgAjMJQJMRCAQEIEDjzwwLPPPtsW8fjjj3/66af2lgAEIAABCCSRgDpYdbO2QHW/6oTtLQEIQAACYQlgBIbFQiQEIJAQgQEDBpx22mmmiJqamv/85z8rVqxIqEQyQwACEIBACAF1repg1c2aJ+p41f2GpCICAhCAgJdAgTeCewhAAALJIDB48GB9l7z00ksqrLKyUj9UX3jhhd27d09G2c1Yxpo1a6644goJbOooLS2V5PE5WJej9ptvvtnKOmbMmJ/97Gf2NpHArbfeOnXqVFOCvvkkcCKlkTdGAjfddNN7771nEn/jG9+46KKLYszY1GS0b1OJZW36VatWqYOy/dXJJ5+sjjdraaA4BCDQJAIYgU3CRWIIQKAJBA477LDq6mrjr7y8vPyxxx674IILMtwObNGixXPPPecqedVVV40cOdKNiTF8zz33vPLKKzaxdLfhBAP//Oc/ly1bZgo56KCDEiyN7DES+Pvf/75u3TqT+IgjjogxVxzJaN84oGVhFlmA6lTVtRrdTzzxRHW5WcgBlSEAgfgIsBw0Pm7kggAEYiIwfPjwE044wSQtKyvTJ4s+XGLKFiwtIAAAQABJREFUmaZEbdu2/c53vuNWLpnd2xjDW7duffDBB23i1q1bn3nmmfaWAAQgAIFECBgLUJ2qKUTdrDrbRAokLwQgkG0EMAKzrcXRFwKpJnDkkUcef/zxplZf2IHf/va3XUaPPvqo/a3djY8e9kwnXnLJJRzZHJ0YTyEAgRgJeCxAdbDqZmPMSzIIQAAChgBGIG8CBCDQ7ARGjBhx3HHHmWpkB8qsymQ/Mfqc6tu3r4WiOT2zotXGxBJ44IEH3GSXXnqpe0sYAhCAQHwE1HmqC7VzgOpa1cHGVxS5IACBbCaAEZjNrY/uEEgdgaOOOsrOB5r9gRl7boTOWf7e977notEnl3vbaHj58uWTJk2yyYbsuuwtAQhAAALxEVC36e4DVKeqrjW+osgFAQhkOQGMwCx/AVAfAqkjoJ+r7f5AubN75JFHMvYcefl+dLn897//3bhxoxsTPSyP7W6Cyy+/3L0lDAEIQCAOAuow1W1aX6DqTpkDjAMjWSAAAUMAI5A3AQIQSB0BrbSUCztTnw6Q0AzbokWLUld9zDXttddeHj8uzz77bIy56+rqPGtBzzvvvBjzkgwCEIBAWALqKtVh2vMA1ZGyDzAsKCIhAIEYCXBERIygSAYBCCSHgFzYFRQUmPMDVeITTzxx9tlnZ+DpxvIR+swzz1idH3744Rj39U2fPt2e36Ds3/rWt9q3b2/LcQP6RX/x4sVf7bq0RFanU8iJaP/+/WWCusmSEt6xY8cnn3yyZMmSwsJCVbH//vvn5+fHV7JEnTJlirZK9u7dW5snS0pKopSjGlevXv3ll1+q0Q8++OBevXrFUa/q0gpbLYQTsQN2XS1btoxSaSKPrBMgVffuu+/269evTZs2cReYFPXjrt1mlOWgVpBGn3/+eefOnQ888MB99tlHy55tgtgDydVIgn388cfmDenSpcugQYM6deoUuzA2pY6ikXaSbfv27XonpWBxcbF9GoDABx98MH78eKuIzgPkNAhLgwAEIBAnAf1ozQUBCEAgxQRmz56to7ft9f7776dYgEarq6qq0lep27HKH0OjuZTAc3T7O++848klM+P++++3M6JuFSasoxS1gnThwoWejPZWppTNdfXVV9v40MCaNWuuvPJKN73NqK1Ev/jFL7TMNTSXjfnJT36iT2pzqck2b94sN6e2BAVktd5yyy2hhcjYuOaaa8KeCal6r732Wtl1tpZIgc8+++w3v/lN2EKk0emnn/63v/1N7jEiZW9SvJr7ySef1OZNVzsTlhkvK0Wlue/DjTfeGKX8BNV32yt6+0aRQY9kYr3wwgsyGEKVUox+jvmf//mfefPmRS/EPE1Qo+eff37Pe9T3rrvuUpl6Z66//noXqRFSza2Zc/3KEItU+lO6/fbbZTqGKqhfOtRwmj2LXs7UqVOtYAr8/ve/j54+LU/VPdquUgH9JaZFDCqFAAQCRiAnYPqgDgQg4BcCCxYscL9sNIGWaZLfcMMN7sflHXfc0aiEmohws+izsra21s314osvhn74ulnc8G9/+1tPdlNULEZCRUXFn//8ZxlpboGhYQnz+uuvuxK6Yffz+q233orkgsItQQL/8Y9/DK3IEyMVZsyY4dblCcfokVXy6zvek7ept7I2ZTN4JHRvZZloKsZtuEhGYFLUj6V9G9VRL8BJJ53kahEprJ8tNMUaqcCkaOT+KemvXk0W1rZ3JdSPFzJiI0mleP0puaDcvG74//7v/zRPGKkc/Y7gJtYvF5FSpiteHaPbT6rbTJck1AsBCASMAHsC3f6fMAQgkDoCWgL69a9/3a5J00e/61EzdXJErumb3/ym+/Cf//ynexs2rIkXN15eRq2Citea0lNOOWXdunVumihhTZXEd1S95se0X0iTSJpwi1K+HkkYORj8wQ9+IJshekpNyunbPTSN7MxjjjnGxOtrWyrrSzo0mSdGK2Y1EyUrV2Oq55Fu58yZE2Wm1E0v+WWazpo1y41sUliTRWL10UcfRcmlY9mUptGGS5b6USSJ8ZGoajL5lVdeiSX9P/7xD8+rbnM1h0ayatRkQmprCRu4++67b7vttrCPFHnVVVfpT8lddx0p5Q9/+MMxY8Y0Wl2k7OmNV5dofw1RT6IOMwNXzqcXEbVDAAJxE2BPYNzoyAgBCCRKQFt3LrroIm0LNBbI5MmTtb5r3LhxiZabpPzafTZ69GhrmspOmD9/vjs5FlrPQw895EZeeOGF9lae/TxrKfVIaxo1B6Uppi1btuiLVl/tHkvjd7/73QUXXOBakrbAKIGf//znWjPmJpCpJqNL+4g056MpOI85p/mQvffe+7rrrnOzeMKWgyf+u9/9blFRkYm8995777vvPk8C6XjIIYfk5eXNnDnz7bffdu1STRAddNBB5557rptFFqznHZDwQrfvvvuWlpZqgeubb77pkf9HP/qRFhC6hcQY1oun1ZJhLYTBgwd369bN2lGu2JEKT4r6kQpvUrwa1PMqjh07VqZX165dhVe7Q+VixNVIS2HVjvYwT1tXc2hkrRpTi/6g9A5ouamnTfX0f//3f7UgWXtlrTwmIG+9MhE9kYcffrgM9bZt2+rN97xmWpKt92fixIlN/TvyVJHi2wkTJmhXqqlUWxzPP//8nj17plgGqoMABIJMIGAzm6gDAQj4joA+wf/0pz/ZJU9yx5I5Kngm4n71q19Fkc1jS8i2cRN7TJ2RI0eGbjKU+xah8Aw57mJLU6C7Ci50z9jTTz/tKUFVe7btqWrZhJ5kMlNdgRUOa/Fq5vCee+556qmn5DtHJdgdSuvXr/esPj311FP1ce+WKcPD4ytVBrDW0Lpp9MnuCqZlgZ4ESuwxJJRek4FuITGGtcTXrUth63P/sssuUyEbNmyQvp40ug1dDpos9VVp9PaNRTWZfFZmNYrMb08ueSPyNIRsdU+aJGrkLge1gun1cF857TjVBj/71AT+/e9/e6TSbyWe10w/o3g20OqFkU3rKUoHt3iK0m3GLgdVN2i7RPUJ6ltChScGAhCAQCIE2BOYCD3yQgACySEg75H6GrMfPZqmiLJJKTlVxlaKvibdL05ZLFH2F3k+YTWJZCvZtGmT+0mqDVGyLuxTT0CLJN3EWhTnSRDFSFCxrsAqR9MpYTcWahLM86GsOTFPRaFGoKaG3DSueSZrzRU71Do1GSWMfMm4KW+++Wa3TE1+2qfSNBJwz2GM+lB2C4klLMPYVmQCb7zxhmw/EzZGoMqRzxgPKCUINQKTpb5qjNK+seiluT5XL/2QETaXfnHw7ISUpm7KJGoUagRG2n3nWUsc+k7q1xNXO/3A4b6Ervye9dv649WfoZtAYb0Dck9qL83DexKk/lZdnzpA2xmqY1T3mHoxqBECEAg8AYzAwDcxCkLAHwS2bdv2r3/9y376aFWhZ/IqXWp4PoW1KjKSJHIDYz9P9cXpflK77t2VRovZIhWi+LVr19pyFAj9XI5iJDz33HNuXq2RC2sBmtrFXHK66T2zjh4jUI5GIpUmfxVuOUIhGyOSjipEgrnpv/jiC5vYnTKVpjbeE9C3sjV3Jeedd97pSdDoradRtOFKWUKNQEXqVbR1GbE9RmAS1Vd1Udq3UaWUQA4/XbZa6hkpl5ymmJR6DbTyWS+eTZlcjTxGoKrTvJ+tyw3I5nffSb1I7lOZQ65qCmt5sJvAE9b0ppteYngSZNqt3jR1fbYbVJeoP9JMExJ5IACBYBDAMYw7QBCGAATSRqBVq1YXX3yxjmUzEmgZoTY16d+0CbSnYjma3xPc+X/PAlH7SCvuNJ9gb2U66mQ8eysrRb/oy5zTV6nCsjfso9CA+xGsp7J2QtNEivFsrNIsYpR9UGLumXWUFpFKVrw2DUYqTfs53YyalwvdymUTqBAZUfZWgblz59rbjh072rDW/snXqIxGG2MDOvBQK1F1eIOeyuzRtkD7KMbAyy+/7Kb85S9/6d664Xbt2mlzmhvjCSdRfU/Jcdx6zqXUvKtWXYYtR0dfyi+OZtJk/sn7q/viNatGMnIinb6oYyRHjRplpfVMods9ciaB3iLtcrSJQwOeOWf5pAlNkzkxnk5PnaG6RP2RZo6ESAIBCASJAEZgkFoTXSDgbwLyHaJ9SvasNn3/Pfjgg/pITa9WQ4cOdSfEtArRs9zOiPfII4+4currzb3t06ePzmTTDrRnn31WFotr57jJFNbvi9rg5M47aUbRkybKrT7l7VOJfeyxx9rbsAGZAW5dqjpsMhOp0+EjPXUNYKWxO+sipZcPD/eRXJXYW50pb8MK/PSnP5X3UU2JeLZc6pGo7rXXXpHsUreQsGHXlatmJuW9JmwyE6nmi/I0iepHqSXGR2Litqm8GcnFkc6ElLsUzw8KcrQj50wtW7YMLblZNYru4lLyW3k8f2se9z/y/GlThg2oIu08tI88c6Q2PhMC6ujU3VmjV92gOkN1iZkgGzJAAAKBJFD/Q3Ug1UMpCEDAdwT00aYfv413EK0Nk+/Qr33ta57VgylWSgepff/73zeVyrWJvPadeeaZrgxyaiorxcZo2WSPHj3sbfSAlk0uX75cczVLlizRR+prr73mcRAaPbv7VLK5U3mu7eomc8OaT5NvRpvrww8/dJ96wlFmXRYvXuwmlv9G97bRsDtVpWlSHQDgZtH0ppnh1B42vR7y1CIjM8pMo5s3UlivlstZZlKklCZeusuycj1quumTqL5bbHxhTUHrzA+de+5m/8OuSzF6dfV+6tcBd9Gpm9KEm1Wj6IcERpoklGCui1o1R4cOHUIl98ToNwVr7avFtQxVHkQ9adJ+qz9Ad15a+x5d1z5pFw8BIACBQBLACAxks6IUBPxNQB9AmqOw3vn1eaQTFBqd1Go+nfWTvDUCVYs8FnqMQJmFrnlg95WFFUnmh1TTOQ06DU8+LV1TJGz62CNdU0q5YnQor/k9awRqgaVWV4adf9DURJQ5N4/1qNMCYxdbKV2To1OnTnLp8e1vfzu0BJ3SoUuubvTo7F2XDotzZ71Cs0SKketL95HOn3Bvw4bFU7NqYR8lUf2w5Tc1Uktbn3/+ebEKzSi3k7oUr+12srfPOOMMHYYRmqxZNdpnn31Ca7Qx+mHChj0B/dXYGM+MsY33BDx/Bfob0dy+J016b+WOyJ3hlIl+xBFHpFckaocABLKBACsNsqGV0REC/iOgzyCZXtogZETXR1LoyQcp00qrN93TtPUNLQ/7bu1ax2VvZZPIMrG3bkCbr7QzUF+lp512mnxgyhRMogWoijwLR91lda4YnrDnKzmSSK7bG08JmswMXavpSRP91uOGRItUH3jggehZ5NZFJyhq1uj++++PnjLsU48RqCMBwyZzIz2g7KOkq29LjjugyS5NKZ944olRStCCT/lllW2vs9S1tdJN2awa6Q/EHizpVtpoWCul3TSx2O1Kv99++7m5Pv30U/c27WF1a9YCVHenTg8LMO2NggAQyBICGIFZ0tCoCQH/EZBfBDllkU8OI7rsBC251GqutGgis8St18ylmBg51XB9cmrOMOw3rj6s9VGudXrR7SV9Intc0bj1Rg9r+tRNUFNT495GCnvcruhY6rApo0y4ybgNmyX2SM9eNWXUTKD8ZPzmN7+JvnRQKXV+gzbs6cSL2KtTSo/WWtDbaHaPwxWbvjnUt4XHHdBsm35lePHFF91NcWFL0xpLTQa6k2yZqZEmot2XUDPqYdXxRHpMx0ivtydXCm7VlalDsz9/qKPTH771jJUCAagCAhDIcgIsB83yFwD1IZDRBGQAyPrSj+U63FyCrly5UgsFtYAt0pxM8ykjj4USxtpv8lxqjkpXjZ79b2FNOH2wai7RbGzzCCmXjMOGDdPaNl3a+qjNaVqNqRWwkWbkPNnd286dO7u3nulK95Eb1o5E9zaOHVNawOmWII10nKAb02g47Kf53nvvLZ/+119/vXyHasGtTBrPOfK22H/84x/yqOE5OdA+DRvwyGwdcoRNbCJ1jkXYp56ikqV+2LqaFCmrSefs6ZJ2Ovzj1Vdf1e64sO+VIuWqR1tSzT7SjNVIs392jatnLjcSGXUa7iOPau6jVIb1RycfUVrlbirVFuKzzjorymbIVMpGXRCAQJYQwAjMkoZGTQj4lYA+jGRWaebNbMfSZ9PDDz+syQ3rRDQ1immllqabdEaCqU7WiOxS4/1F53pZGY466ij5WbG3NiCZ3clDxcu7idyfHH300WHnl9wvdc+clS0zNCAjUFMldneix7oLTW9i3GQyYMJuCIyU18TL2FBzaD+huZW17DmfLXr26E9VuOapdP3qV7+SanJxKWNG7oJcRCrh8ccf1+LGRv272LqkqQ0rYH5lcGNCwy4o92mzqu9WFHdYs0w6fVGX8T2rTWgvvfSSMHoK1MEeZmFzxmqkH0qsEejuI/Uo4t56WjYTjED9pVhfNRJVhrdnj7ErP2EIQAACzUSA5aDNBJZiIQCBZBLQR5J7epg+oSZOnJjMCmIoy90WqORyvKF/9SXqOguRH9GwJemz243XgYGa65MpG9YC1IHRbmLPejb3UWjYNUHlbjQ0gSdGS0bdQzhi2RrnKcHcym+njdc3bujyTvvUBho1bsXBk0Ymrua1dMS5VopqfthdHKhi33vvPVt4owG50HTtQM+JCKHZJUmUNM2hfqgMTY3REln7i4DJK+tOourXB82saorMc16l+5Zmpkauka9fAbTEulEmHm9JUU5nabSopCRQx+VagOrWsACTApZCIACBphLACGwqMdJDAALpITB69Gh3fklLKzUd1NSdYImILg8TskBsCapdYa3psjGyScJ+z8mKcz/7lEzu+92j5G0JJuBZ9Bjj1j6T1/12FyI5IPUU7rnVWlbXTmj0fD9PdnvrcRsTOstkU5rAmjVrND2laV65ajz//PPvvvtuE68Ft5px1cGAeqQDAKzbUk920RNqj/OYzz77zJMs+q3rv0eGq64o6aNrlCz1owgQ+yNhOeecc3QAYElJidhGyqillfJz674wgm9ftozSyKrgGoGK9LwANpkNaPLWXa2tUzHC/uxi0zdrQJ2VOg13Tbg6NHVrzVophUMAAhCIRAAjMBIZ4iEAgYwjcOihh2qLoP2M0xSWPEPafXopENfuA1Rd+pjTJrHHHnvM1nvJJZfohEN7awNK5jG0oliAmnGyFpEpIZZZNVuXENmwAnb9qhtpw/Im6kmgYxfs0yYFPCetyztO9FmaO++8U0x0yfR68sknbSNqekcb/GQG65EE0D7AKGLIznGfyuZxbxsNaxeWm+amm25yb92wzPhf//rXbownnCz1PcXGd6tfHOQ61cxbCqAhGbYovYceTyR2MXBGaWSFHzhwoA0roLc3inZKcOutt7rpL7zwQvc2lWG94eqs7Ky7OjF1ZZ6/1lTKQ10QgAAEMAJ5ByAAAT8R0HScLLE+ffoYoeUcQrMBjc53JUtDHVvvLkG844473LWgHg+itlLPNiSdwBbFseFdd90lHx42rwJNctUoV5nuKkfZALIH3NLcsORftmyZjZFq7ppbGx9LQLNq8mpjU+qTV4497a0nMG3aNHPWn4235wpq7597iLl2qX3yySc2mSfgmZ3zTBN5Eofe6jhKtzVlO0WyObXhMPo8YbLUDxUyjhjP7J+c60QqRAtu3Wln9yjIjNLIyq95Y+1stLeyAG+88UbPmmH7VKp5pgpDJ+o186kfWexl8yY3oA5KklhPNuq+1Il5zq5Ibo2UBgEIQKBRAhiBjSIiAQQgkFkENNumX/TlUdOKpe15HnvAPkpuQE4stVjRlikTxYb1Aa3L3roBnRjhMZDkwsRNYMJaLaa9gj/+8Y89j5p0Kobg6ChCtwStDJSDTY/ZKcPy4osvvvbaa92Uv/3tb6Oc0+2mDA1rBumvf/2rG/+HP/xBU21ffvmlG6nwm2++OW7cODdS04/W3as2ren0P/tUX/k6U9FzcLl5qoW4P//5z21KBZq6lrVFixZuC6oEGfnW74gpWXOAUsQVya3RhpOlvi0wkYBOG3eza9JVJnfowukNGzZ84xvfcP3ruMutM0ojV53bb7/dvf3zn/+sN0S6uJFqNWmtRcVupLTTTwxujMJyY6s/ant53mFP4vhu1TWZ/cMmuzoudV9hlwzEVz65IAABCMRHAO+g8XEjFwQgkGYCMiTkDFPHoBk5dMqZPmflakU7zZpVsosuukhWQWgVl19+eWikjZEvUHd7m8wtTVP86Ec/0myA/I5qikA+ObQKNOzatqYeby2bSnNcsrVs7bfccovcqOiUQi0/0xLQ999/X9zsCkyTTJaD/IXYLHEEZOjKL44Wc9q8cogqNxjyPqKPb51cb7y5uIIppebiPGv2dELgX/7yF4tCVtmAAQNkhsnG0zY2ya+9f0899ZS7t0rlaLmmXSdsBWg0oLrkD9MtSrOUJpdmIDWZKQcq7gF6UQpMlvpRqojxkf4Err76allHNv0vf/lLvV2aJTab4mSZ63g6jwGsxDrE0mZRIHM0cqWSS169z+7qXHk61c5GM3Wp10mT82+99Zb756bsmh7Xaky3nLDhSA5gwyZuNFInc2h62Z1sl5CazGw0IwkgAAEIpIKAfjDjggAEIOBTAvL/rvWT2s1lLs0SLFy4sLl1GT58eGjvrEP5otSrmTePp43QEtwYzwnp2krkFu4umNTnvvvIhOUX1HX44ZYcNqzPfR15H1qOOTXOZJEJEZrAEyNrtqmOLmSRegrRbVNdv44cOVKEQ8uJJUZOMpvUNIaGViGGFp4s9Rtt39CqPTEylfW7Q9i2jhT53HPPeQrRbbI0cpekyk4LrciNcRcSh02s7abupGUkjWy8LEBZ8m4VNuyZNtdUvH2UYEAdkbqjPT3TTeqm1FklWCbZIQABCCSRAMtB7TBBAAIQ8B8BzaRddtll1rmFLAH535s0aVKzahI66aeTDKNPQ7Vs2VKTV+5uvUgSynjT9jPP6lbjiTRSltB4bTqaNWuW5n9CH4XGaAGqpiVjkS00rydG/vfNlKYnPuytTB0d+hd2YuTYY4/917/+FTZXaKQ2emkuSIRDH8USo9lFWQgyI6MnVqOrlaOnSZb60WuJ5ak8vuid0amVsSSWoaW1tVpUGZo4czRyZdM6Xgks16aS3I0PG9avEnPnznVXj4dNltxIdUHir+7IFKsOSt0UmwCTC5nSIACBBAlgBCYIkOwQgECaCcgn5HnnnTdmzBgrx+TJk+W0U8fK25jkBkJdaLpeQyPVJceGZoVhpAT6ZJefTC1m0+JJfTW6VpmWt0XKFSleWG677bbp06dHmZrT6k2tmtO6Qe2JilSOjdeBDTYcJaC9ZFpVqKlI2WaRvtFl/j300EOa3oxiesni0kYvbZ6MVIhk0BJWWcuhBwZGES/sIxnwWqQq+O7Mp02pWdlHHnnknnvukWo2MtKq42SpbyuKOyClZNtr3W+kraoqWappX6hmqKJMrKVeo+i/p1ggOrdTs21aJ+z+pdinCmhxuDbjyc2SliK78c0aVrejzkddkK1FXZM6qKa6rrXZCUAAAhBoJgK5mlVspqIpFgIQgEAqCcgnvnbgbNu2zVQq1wvageMenp5KYaLUJQm1TUi7j/SvnBPK3tOlnU7aHBglVyKP5D5Rix71xaz9derzVZemvw4++OAo9lUi1bl5tf1Mxp7qlUWnmZD9999fte+9996xK1teXq7ti/ZSRp1o37VrV83ttG3b1q0r8bDgyPmk8aeqJbJXXnmlVooeccQRrvnXpFoSV79J1UVKrM1pagW9ADqeUa+c5vdkOEk1bbaUJ55IucLGZ4hGHtkkld4xORCSFyVZtnq9dXxIKm0/I48gy+q2E4ClpaUyRONYbOzRjlsIQAACzUEAI7A5qFImBCCQHgL6GV4fYZqGstVreu24446ztwQgEJ2Atj4aDyJav3ffffdFT8xTCFgCWgg9ZcoUe6sDS/QjVJs2bWwMAQhAAAIZRQDvoBnVHAgDAQgkRECfXFoepg05djmWHD9qEkmu/yOtGUuoPjJDAAJZT0B+iV9++WWtqrUkdN5mlGXYNhkBCEAAAmkkgBGYRvhUDQEINAsBfX7ts88+mhI02wL1caYNXbIDw/ogaRYJKBQCEMgOAvLAJAvQHliv36E0AahpwOzQHi0hAAEfE6jf5u5jJRAdAhCAQEMC+gj73ve+Z49J0CeabEJ5ECkrK2uYkDsIQAAC8RBQZ6IuRR2LtQDV4ajbwQKMhyZ5IACBlBNgJjDlyKkQAhBICQGdGSAnH/L+b49b0AHZmhWUS8kM9BaTEiRUAgEIJIeAfMC88sorrgviE088MewJosmpj1IgAAEIJJsARmCyiVIeBCCQSQT0WSanlPpc085AyaWPNp3fJceS48aNyyQxkQUCEPANAf2upF+XrLjyR6qfluTz1sYQgAAEIJD5BDACM7+NkBACEEiIgD7OdI6fjgubNm2aKejdd9/VCQ2yA3v27JlQ0WSGAASyiYD6jQkTJsgTjFV6xIgRxx9/vL0lAAEIQMAvBDAC/dJSyAkBCCREQB9qOqFOH3AbN25UQfqMe/jhhzlAIiGmZIZANhGYOHGivA1bjXWovX5I4hhAC4QABCDgLwIYgf5qL6SFAATiJ6DPNU39yQ6cPXu2KUWfdJ988skJJ5zAlGD8WMkJgaAT0ATga6+9tmbNGqvokCFDZAEWFhbaGAIQgAAE/EUAI9Bf7YW0EIBAQgT00XbqqafK5NOunm3btqksfdgxJZgQUzJDINAEPBOApaWl8gEzYMCAQCuNchCAQPAJYAQGv43REAIQ8BDQB1yvXr1kB86fP9880pTgkiVLjjvuONy7e1hxC4GsJbB06VLtJXZ3AA4aNEgWoDwPZy0TFIcABAJDACMwME2JIhCAQBMI6DPuzDPP7NOnj1Z5mSlBfeo99thjhx9+uEzBoqKiJpRFUghAIFgEKisrNQE4c+ZMq5YmALVufODAgTaGAAQgAAFfE8AI9HXzITwEIJAQAX3SGTtw7ty5piB99i1evFh2IF97CZElMwR8S0AHisoCdM8APPTQQ2UBtmjRwrc6ITgEIAABLwGMQC8R7iEAgawioA+7008/XT5jtO7LOA7Vx9/TTz+9cOHCY489tmPHjllFA2UhkM0ENmzY8MYbb+hv30KQC1A5Fu7Xr5+NIQABCEAgGAQwAoPRjmgBAQgkREAfecYO1BGCpiB9COqSHXj00UcnVDSZIQABPxCYMmWKLEBX0mHDhskCzM/PdyMJQwACEAgGAYzAYLQjWkAAAokS0KeefL4feOCBb7755qpVq0xxZlpgzJgxWjWaaAXkhwAEMpKAHMC89dZbq1evttJ179597NixnBxjgRCAAASCRwAjMHhtikYQgED8BPTZ953vfEfOQmX+1dXVqSB9Gj766KPaFCRTsE2bNvEXTU4IQCDDCGjtt8w/uyVY0uXm5mr+/6ijjsowSREHAhCAQJIJYAQmGSjFQQACASCgT0AtEJUd+NFHHxl19Jn4wQcfyA4cMWJEABREBQhAYNq0abIAq6urLYr+/fvLAuzQoYONIQABCEAgqAQwAoPasugFAQgkREAfgueee66MQH0mrl+/XmXpY1HOY+Q5cNSoUQcddFBCpZMZAhBIH4FFixZNnjx5zZo1VoROnTrpJx4ZgTaGAAQgAIFgE8AIDHb7oh0EIJAQAX0U6po0aZI+GU1B+nB84oknNE8oU7Br164JlU5mCEAgtQTWrl2rv2X5fHKr1d/y6NGj3RjCEIAABAJPACMw8E2MghCAQKIE9IGoYwM1Jfjhhx+asna5Dl04fPjwY445htPDEuVLfgg0P4GysrK33357xowZblUHH3ywJgA5CcZlQhgCEMgSAhiBWdLQqAkBCCREQJ+J55xzzqBBgzQr+MUXX5iy9EGpvYKyA4888siESiczBCDQnASmT58uC7C8vNxWstdee+nHHR0MY2MIQAACEMgqAhiBWdXcKAsBCCREQJ+MunSWoExB80Gpf1977bXZs2ePHDlSJmJCpZMZAhBINoH58+e/8847ZluvKbukpETmn84ATHZVlAcBCEDATwQwAv3UWsgKAQhkAgF9Ph5yyCGaWND0gpFHn5jPPPPMrFmzZApyomAmtBEyQECn/8n8W7lypYtCk/aaupcd6EYShgAEIJCFBDACs7DRURkCEEiUgD4iTzjhhMGDB8sU1NERpjh9bupEQR03rxMm9t1330TrID8EIBAXgc8++0xHfS5evNjNPWDAAJl/nTt3diMJQwACEMhaAhiBWdv0KA4BCCRKQB+UZ5999pAhQzThsHz5clOcPj11aWmoThTEfWiiiMkPgaYQkPNPnf6nJaBupp49e2qKXv+6kYQhAAEIZDkBjMAsfwFQHwIQSJSAPi51yXHolClT7Mlj+gzVpalCzQriezBRxOSHQGMENmzYoNm/OXPmuAm7det29NFHywWoG0kYAhCAAAREACOQ1wACEIBAEgjoQ1OXtgXKFNy0aZMpUZ+kug477DDtRNLp80mohiIgAIGGBL766ivtzn3//ffd6Hbt2sn8Gzp0qBtJGAIQgAAELAGMQIuCAAQgAIFECeijU5c+STUpsX37dlOcPk91YQomCpf8EGhIIKz516pVK02/c2pLQ1TcQQACEPASwAj0EuEeAhCAQIIE9AEqD6KyA2UN6ohqU5oxBWUi6hHeKRIkTPYsJ/Dll1/qpBZNvLscWrRooT89WYB5eXluPGEIQAACEAglgBEYyoQYCEAAAokS0GeofFEMHz5cbipkClZUVJgS9dmqSydMHHHEEXvvvXei1ZB/F4HqD+bV7dg575rXuWt+z95Jp1JXXlY9f9dms8LCwsGHJ718CoydwOrVq99777158+a5WYqLi2X+yRWT2seNJwwBCEAAApEIYARGIkM8BCAAgUQJ6JN01KhRMgVn7LrM+fIqVJ+wuvr166dZwR49eiRaTbrzVy9ZtOOu260UrX5+Y373/extcweq5s/e/O3zTC2lP78pihFY88nHldPervns05rln9RuWJ/XsVPeXnsXDhxSdNxJee2j7disenfqlmuuMFW0+dO9RceMbW6lUlN+XWVl5VuvVi9ZXLNimf7LzS8QkPzuPYrGnFB4yNCcDJtPW7FihWb/Fi5c6MLRYS36+9IlO9CNJwwBCEAAAtEJ5NbV1UVPwVMIQAACEEicQFVVlSxBfcXavYKmzF69eh1++OEHHXRQ4lWkq4Sq2TM3X/4NW3u7/7xYcECK1KmrrNj09VNqVu48nyN/n33b/ffV3KIiK4kN1K79Yse9/1f+3H9tjCfQ4oJLW/7gmtziku9+97v333+/nl522WX33Xff7mS1tZu+dU71RzsPHsjr0LH9+NdzW7fxlOCz29raiomvbL/zttp1a8JKLpilv/1j4aAhYZ+mOHLRokUzZ85ctmyZW6/2/uk3FJl/zP65WAhDAAIQiJEAM4ExgiIZBCAAgYQI6FNVC0S1YUl2oK7Nmzeb4vRpq0u+7GUK6sjBhOrIvsxl//y7sQClequrrw1rAWqicvN3zjfrRSMRKnvsX5Uz3mn7t4fDJ8jLa3XNdSpET2u/2rD9rj+UXntL+JS+iK2r23brdVFMYilR8/lnml9t9bMbWpx/cRp1mj17tsw/e/KKkaRt27Yy/3Sx9y+NTUPVEICA3wlgBPq9BZEfAhDwEwF9tmrzki7tDNTWpnXr1hnp9Zn7wgsvTJo0aZd70aGlpaV+0ipNslYv/mjH/XebyguHDisafXyoIJoD3PKDS6JbgCZXzbKlW35yRUFhu9BCFKPlkcXHnaTZM4XLn368+PiTCw8/MmzKzI/ccd9d0S1Aq8L222/O79JNq0NtTGoC27Zt27V5dtbWrVvdGrt06aLNtPobcSMJQwACEIBAHARYDhoHNLJAAAIQSA6BDz74QF5DtdnJU5ymBPWl6xfPMVVz39982detCilaDlpTs+mSs6oXfWjqbffg+IIBh1gZdge0jPPiM20aRea2bNXqml9rlWNe125yJ1M55S3NAbq5JnfZ75xX3lJMg+Wgu1LUrPx041nHmcR5XbrtXBTaooWb1xfhynfe3HL15a6oxV87o+SUMwv6DazdtLFqzntlD95rJ1dNsg4TpuV16uJmab6w/L7I/NMEoKcKbZ3VISsDBgzwxHMLAQhAAALxEWAmMD5u5IIABCCQBAL6qNW1fPlyrXlzPV7oI1iXtgvKGtQZ9EmoqTmLKDz4kDZ/vtfWkL/XPjbcfIHyZ5+w1l3R0WPCWIA5OZXTJts0kkSWW9t7Hs3ft4eRqvCIEfovv8+B227+pZVz1LqVexcVrK6stjE2kL/f/iWnnl3+wnjFaCtd2SP3t/zuVfapXwI77vmLK2rLy3+4U4vcXEXmt24jOEXHHLflym+53MoevKfVT693czVH+MMPP9Q7r6XRnsLlP0krpXv27OmJ5xYCEIAABBIhwExgIvTICwEIQCBpBHT0mWYFNQ1SU1PjFqodUIN3XW3a+NwZiatVguGaGk3Kad+aKSb8NGBOjnbxVc2rP0qu/fOT8vfuHlqz7Lptv/mFjf/b2k03rtoQOhOoBO5koCYVO7w2I7fET5OBVe9N3fz9S6ymJedeWPqL39hbG6jbtnXTt8/V+lgbI03zOnSyt0kMbNmyZc6uy+6SNYXn5+drMlyzfxyqmUTaFAUBCEDAEmAm0KIgAAEIQCCdBPSxe9JJJ40ZM2bXLODsDRs2GGn0cay9gro0JXjooYf26dMnnVJmRt2VkydaCzB/v55hpwE1l+VagC2+fklYC1AKlZxyVvkTD9u5r/M6tr75893wPepqMlCbD6tmvat47TOsePnZkrPq3aJ6EmfgbdkT/3alannp991bG84tbd3qqp+7q0Yr336z5Izd53DYZAkGli5dOnfuXE0Aesrp2LGjJsB16fgHzyNuIQABCEAgWQQwApNFknIgAAEIJIGAPnx15rWujz76SNbgJ598YgvV57KuTp066az5QYMGNdPEoGwb2Ve1X3xeV1WlxYEye5pvsku11Kz9onb9l7nFxQV9DszrtrdZl2hVjhTY8eA99lHx1063YTew+3j3PVHFp569Jxjy/9zckvMusotCOxXkD20V0fwoPuFkYwSqlLKH7i05/byc/PyQEjMyora2auZ0K1nRqOPyunS1t56AVtjqMAy5QjXxFa+/nCwjUFN/8+fP1zmZ69ev91Tau3dv2X79+/f3xHMLAQhAAAJJJ4ARmHSkFAgBCEAgCQT0Kaxr7dq1WiunCZOKigpTqD6d39h1aa+UTMFkHTCoTW7yGFn+zBOhB8fpyDhtnCs6cmTxaefkFoU5krv6w3lbr/+p1bnNn/6Rv39ve1uzetXWa66o2yV/Qf+BrW/5U05tTflzT5WPf8xOvpnEWmBZeMiQ4pNOLx53ak5eRMtK83vmyD6TqziC70odIm9lUMkFBxxob0MDhYMPdyOHl5bscO+dsLbM5dx2g4mQtVz59hvxOc+U21Kd1e4U3LRgXpu2uW3DOzKNVJDcvbheUouGj4yUcmd8bm7hiFEVLz5t0lS9OyVHq5QTM3d13J/MP3fvqylc57xriltLnrt2jWiUmpT8CwEIQAACySKAEZgskpQDAQhAIPkE9Fk8bty4448/XnagrlWrVtk69DGtS/OBAwcOlHcZnTRoHzU1UDVjyuYrvxUpl0ydndbO5Ik6b731HX8PPUC8rqLS9SepKUS3qNpVK3RSn4nJa9+hdt3ardf/xE6muSllolROf0f/lY//jzzN5LZp6z614bJHHrBhrQXN793X3rqBqtnv2dvCYUdFsSqVTHOeMhStjXRgSdEcm7lhIK9zFx0XYRea7nj43jiMwOqlizd9/eSGBTftbqdDl8t/2KQ81R994KYvOKSRQykLDz3MGoHKqHdA08JuCTGGdfyJvOAuWLBAc4CeLN27d5f5p0s7AD2PuIUABCAAgWYlgBHYrHgpHAIQgEASCBgnGfKTISNQ6+g0nVK5ZxJJH9ZTd136npYpqH2DTT1jUKftRbEAXem1OFAHiLf797MF/eL01F+78avNV17iehxxy7dhmVhbfnFl27//28bYQF15WeVbr9nbSGtB6zZvcqc0ZSvaLJECBQccZE27AS2LIxmByl584qk2ZfWCubVfrpNlGKnYsPHW2gz7tJkiqxc32H0XaYekrT1/7wZeXmtWLGuSEaiz/rR6Weaf+8uFKbyoqEiT2FrVrJfWVkcAAhCAAARSSQAjMJW0qQsCEIBAQgT00axL/mNkCmpqRWdL2OL0qa1rwoQJffv2lSmopaQFBY338HUV5VuuutQWooAmxIpPOSu/2165LVrVbvhSu8iswWOSbb/jt20feMLNEnvYnTBUrp0LTfv2y6mo0FkOnkJUb/XCD0KtTRldbspIa0Frt2x2k3nsGfeRDefpZIs9rkT7tyiy8aGBotHH5fzhJhuvs/WKTzjF3mZsoHbzJiubWlneX+xt2IBO1HDjtYHTvY0Urq6u1nZWmX8ff/xxaBqd9KCJa5l/eXl5oU+JgQAEIACBlBFo/BMhZaJQEQQgAAEIxEJAH9Dm0AidKiFTUJMtGzdutBn18a3r+eeflx2ofYO67KPQgAwt6/xDT+UfpdUPf97AE8wVP/YsFpVNqL18BQcldHphfq8+OpxAnjZ3i1RdXfnetC0//LYrYflTj5Zef5sbo7C7yFOWTKS1oJ6pNo894ynT3OZ13cuN1wFK7q0bVmmaWrQGbdX7M3xhBNZtrV+NKfPb1ShsOK9jZze+bvt29zY0bNYnywL0nHGilO3bt9c0tcw/znsI5UYMBCAAgbQQwAhMC3YqhQAEIJAEAvqkHrvrkhNRmYKafqnasx9PH+KyD3Vp6Z3sQPmPCetCpnrO+1YOGQalP/116N65wuFHt/7dnVuv/bFNKUssESOwoP+gdv98MsedqCwoKBpxTJs/3bPlJ9+ztchRTel1t3jkqZxaP2dYMHCwTewJ1G3f5sY0MGvdB044t+GBBIWRjUBlkocbawRWTpnkFBNTsHDAIR3fnh9T0giJcgsLIzyJGK3T/+wz2c82HDFQ3MBFqhbihk0pdy+6ZAHaJco2WWFhoSalZf7J7aeNJAABCEAAAplAACMwE1oBGSAAAQgkREAf2bpOOeUU2YGailm8eLEtTp/mWjuqS9bggXsuu1LUs0/MY3HZQorHjtu2x2+K9s7FeJCDze4JlP7ypgYW4J7HRcccqym1itde3BORoz2E7nyUTDvXL2gUh58eIzCnOIxTU1uLCeiYCjemoLbGvfWEVXXFhN1x2nwoD6iNbrFrUEJefm7Llg1imv+mzlkiG0vtHjuzrqzeYarWfOodM1eo7SdV9KJpIloWIB5fmr9hqQECEIBAPAQwAuOhRh4IQAACGUhAH9zyt6Frx44dmpmRNbhs2TIrpz7WzdygVpNq36CuAw44ILdte5tA7h/leLPFBZfmhO7XKiho9+jzuS1a7DTJcnNtljgCxcedpJnASBl1VINrBNaVNZh9kmdRN2OktaA703iErK52M4YPFzbYB1hUVxs+2a7Y/F4HuE913kPTjEA3c8rCjgfOuvLyxqttyFCHfMjXy5IlS8x649raMHx69eplFiG3TLmJ27g6pIAABCAAAYcARqADgyAEIACBQBDQJ7hcieqS71At1dOMjWsN6vN91wq+ncc2jNq8wXX0uf3O2+R7s/j0c4uGH+3ZR6dDFJLCZqcnmMhXXsdODR5WNzxtYnP91kcli7KxzWPkeJZ6NqjC3jRc/1mbE83W9VRdt6mBYLbIjAq4ewJzW5U2VbZFHy9+6Y9/DJtLtp+m/rTeWAeWhE1AJAQgAAEIZBoBjMBMaxHkgQAEIJA0AvooP2LXtXXrVrN4b+nSpW7p77Zo6xqBeiS/L8YdqHy3FI08tmjYUTpQLrfh9jC3hKaG87s1OHjAk927V00HlDuXx9aKYsl4rL66WGYCdx1nb2urcObNbKQNeFxr1vrBCMxtXW+hec5ytHrZgOaNly1d6lrkG8or7FMT6NOnj1lf3Lp1I45GPRm5hQAEIACBtBPACEx7EyAABCAAgWYnoM/0w3Zd5eXlsga1ok/r+uRFpryo+I1Djjx23vRQCXSaX5n+e+gePdKewKJjTywaOdZrpIVmaywmr1sDJ5ze5K63GO+zHI+tFUWY3BYNd9w1NPBCCt4ZUVdV6cZX5kY7w8BTvvYuunkbDSt91cxpjSaLkqBw4OCdZ1o05WogcwQvL6tXr9aksS6dPpJfU32FU35lwU5XNPL1olXEWkss86+koSsdJy1BCEAAAhDIdAIYgZneQsgHAQhAIIkE9OGuU9p01dXVaVZQpuDS9u3fzM0ZOzeMHWjrrXhzgv7Tbemvf1dyxnk2Po5AXrv6XYhNzV7X0NbKbRXRxaW2L7qFe/3EuM/2hF3nmdtqausa7ojbk2r3/z32Z92mphmBNZ996npb9RQey23Ly3+o/2JJadO4E6e1W+vPUdywYcOnn34qq0//bnfOgShqOH26V+8+F1xwgWb/cqOSsdURgAAEIACBTCaAEZjJrYNsEIAABJqLgD7lNaWjSxWsWbPmk9mzal56eu95M0vL651Ahta97ZZrt815v+N1t+QWNXCjEpoycky0vXaRc+18IsO1QQLPrfMst3Vb5y7H41HGfWTD8otjw1tqwng9sU/DBMJ5SQmTLK1Ree072Po1zTt79uyVK1euWLFi06b6Q+RtAgVaNXwTBg4bXrzrbXHTEIYABCAAAZ8SwAj0acMhNgQgAIGkEeim62sn53zt5MqKihVvTdw+aWLxgtmd134evoKXnp71wYIVF1zWfde1zz5NW5QYvszYYj1uY+q2bMlpeKC5Lcbjq7NmzWr7KFKgdvUq+2hVZSPeRGud4xaUyz3HwhaSaYFtHTq5Q/5r45+qKGpwKoYRuGPHjj179pSvlx5ffLbj7ZesFnmdutgwAQhAAAIQ8DsBd0Twuy7IDwEIQAACCREoKi4+YNzJOfovJ+erz1d98drLNe9O7fDB7JKGW8j2X7FkyoxpH5TudDSiTWKDcmuHJ1RtrJk9RmDtlk35kbLm5+s8w+olOz2g6qpZWn9woonx/ltVZRPr0Yxt5d4EDe/rtjSYPcvt1Lnh80bu5Ghn53GLCVz5PXo2mlvegD7fc61atWqfz5bvbNc9V7vtW9fuMQJLS0v333//Hj16yPbr0GH3hGHZzCl70u78f8GB/d1bwhCAAAQg4GsCGIG+bj6EhwAEIJAcAjpJfKfHS+eEwA77dO9w6eU5+q+mZt3z43PuuDmvot406rpp/eZdRqC8y3yxYZ0rxGuvvdZm7fq99tpL84utIm/bc7PEGM7r4LqrzKnb3MAS8xSS7xiBldMm52iHW2SvM9WLPnSzz9lR3s29DwnXNqzaY52GJPdGyKBq958XvbEJ32tHn1b2fvHFF/Lvon896zw37movW0mPbZs6HnXMfvvtJ/Ova9euNt4Gqt6fYcP5+/XMbdNgha19RAACEIAABPxIACPQj62GzBCAAASSQKB23ZodD/ytZtmS6sUf1e3Y3u7B8QUDDglTbn5+lzPPq2jdeusvr7JPD2jXZn2HDl99FcYhinxLbli/+9y89u3b9yvfOthmSyzgsbU8zkI9Zeuow4qXn7WRVQvm6CR6e+sJVM54x42Zt70iuhEom9lNn67loOK/bt06GX5rd10bN+7G7spmw5tbtd7RsrTljm0mZkRhTttzz7VPPQG9Dzst5z1X4eDD9gT5PwQgAAEIBIEARmAQWhEdIAABCMRBoParDeXjH7MZ9dEf3gjclcKz/vDgwUMOu+BSHUavdYabp0zOmfaqLccNyCz5bP0XrhE4fvz4kgP7denSpVOnTp07d27btgnzS7mOaxPVUuu4cnErNeGio8e4kWUP3RvJCKzbsaPs3/fbxJ+UV33W2J5A14uMMnqmKG1RyQ1s3rz5yy+/XL9+vQw/BXRVNHb0RUFBgTZtmktbOPM7lZY9+A8jVdXM6dUfzS/oPyiskOXj/+PGFx012r0lDAEIQAACfieAEej3FkR+CEAAAnES0KLE/H32tfZM2SMPFH/tjPzu+4Utrmp6g7my/P32VzIdRt+/f/+q8u2b763P1K9fv2V1eVqO6HXmuSuJpqy+2lG/rLSoqEieSMyl3WidvvwyitfR3KJirUusWbncVOauV6yvfk9IyxeLjhlb+fabJqJyylvlzz4Z5nyLmpptv79BE1978uX88Yto82kmWfWcmTa9jovI69jR3iYloIWdsp810adLRziYSwe4N1q4nL6ahbj6d+9dl5uleuyJ1ghU/LbfXtvmbw+7XkNN4uoP5u247y6bUS9J0ajj7C0BCEAAAhAIAAGMwAA0IipAAAIQiItAbm7xuNN2PPBXk1mG0JafXN7m93fl99p5boR7VU56ffv//a8bUzhoiHvrhkeNGnXsAQfV1tZqmaKuMq0qnD7RTeCGZdjIXNRlIvdZv+YM5/G0adOK1m/UbKEuGZzaYVg05gRzfr1SVc2bVVdRLicrTo4GwZbf+YE1AvVA51tIxxYXXGoT1VVWbrvhmoqJr9iYzYXFz27cvWDSRnoDdXWV0962kcXHfS0nL6KHGpssbEDGnmZTNcVnLu3ik+2nf8vL6+3ksBltZHFxsXb06drp4nXXleds7LTJTKCg/0DXMJYvnM3fOb/tPY/mda73/Fk1+73Nl1/gZmzx7e/n5MepoFsOYQhAAAIQyBwCGIGZ0xZIAgEIQCDVBIpPP7fsPw/aeTAdH7fxvJNkGcrGy+u2V111Ve2aLyrfmCBzy5VMxlWjbkJkipiZqKrqss0P7rYzVciwYcNW5Rea1Yw1NTVusaHhefPmbVi2wsZrcWOvHVuOt/c5OR+98GzRIUNbtmwp+1D/al7ReZhTcPAhJWdf4C553f6nW6VO4Yhjclu0rF2zunLyRDsRajK+1P2AqhkfuYWEhms+W2GJ6WnRyAbrTt30MnF37NghS0//btu2TQH9q0t+O81V3fBAdjdv2HB+fr7W0JpLS2oVsM48w6YPjWz1k1+7hrGmVTeefXzxsePye/aRp1dNroqJm6vgoIOLTzrNjSEMAQhAAAIBIIARGIBGRAUIQAACcRLQeXpt7vj75u9f7OavmPC8/nNj3LB21rW49Ao3pknhoUOHHtGrj8mitY7a4WbWOpp1jznr10QpTSbT0sIWowsKC6urTLKlzz8z98P64x9kJbbYdZXsuVr1HdR/r7dLvlhli5VB67Fp7aP8y66cPWOuuZXXU83OaUWrLs1qyl7VvxJAgby3Xmth8+TkzKzOKZs4UfaeduhpBs9cZbuuptp4Tqk7g5r81EJZmXlmuax2UTbV5PMUqFst9y298X+3/eYX9pEM2vIXxttbN5DXpVubP9+nVbhuJGEIQAACEAgAAYzAADQiKkAAAhCIn0DhESM8VkGUsrQas/Vvbs8tcY2gKMkbeSSTxmPVlM2Ysn366zabjq0rKiiWMaaZNBNZm5u7rNu+B65aZm73W//F3N7159fJ6DIzbLYEBeYMGnFy+ZvdNq53I0PDs/sMmL5284IFC8wjBe68887QZIo5du60g/Y8WNlln4nTpu+5i/P/msPUetd27drtWvfaVkwUlmNVncEYZ4lRs5Wceraeu3Zg2OSyANv+9SF3pWjYZERCAAIQgIAfCWAE+rHVkBkCEIBAMgnIKigedWzZk4+UPXyfu9DRraNoxCjtpiscfrQbacK5rVuHRsYXU9jQ/+eJJ56Y37uvijLzcjLwtIMup1PbnH/dbcrfd93qTnU163Oj7VgrLyp++qgT+6/85LCP55eW7zYmXfFWdO0+vd/gDa3buZGRwkVVlQd99l/Mug0AADU5SURBVIl9KovUhqMEND2pBavmat26tQ5n17+a6NO/MvyaydiLIo9aXDO6O+6+3d0PadPL1U2rK39WfMZ5uQ2X19oEBCAAAQhAwO8EcrXQxe86ID8EIAABCCSFQF1lRe3aNTo/cNe/X8jfSV6nzjr/QEdH7DxKPjMueXPZeMpInW9hxGn5/WuKL7lcU4W6zCJM/btnVWa5lmiahZr6t6qystW6L1qvX1e8Y1teZcXWkpabWpZubtl6e4uWVrPnn39+9uzZuh0yZMhpp3n3wsn35sGffTJqzlSTvrqwaMJFP8grbS3vLNqOqH/3rEItMatS9a9m+XRpL5+tIqMCddu2Vs2ZubPFv9ogFzv5+/bI676fXL9GcbeTUfIjDAQgAAEIxEcAIzA+buSCAAQgAIG0ESh/6tFtv7/RVK9Vix1enByff06z08/8u2v3X92VV1750EMPqeRLLrnk7rvvltWnS05uZMWZfzddfJaO1zNVt7zixy0vuzJtFKgYAhCAAAQgEC+BvHgzkg8CEIAABCCQHgLFp5yV12H30Xyaxap6/9345JBpp6WYmr7TZJ3WamqVpl2ZqYBuFalHSqBbJdaZCtYCVI0tzrsovnrJBQEIQAACEEgvAYzA9PKndghAAAIQaDIBeaZp8a16D6Xlzzze5CLiylDx3H9tvljOybCJCUAAAhCAAAQyigBGYEY1B8JAAAIQgEBMBErOOF/+S0zSitdf1hxdTNkSSKRzBcse37lS1Fwl5zc4V2NPNP+HAAQgAAEI+IAARqAPGgkRIQABCEDAQyBXCzh/doON3HHX7TbcTIEd9/zFltzqx7+y61FtJAEIQAACEICAXwhgBPqlpZATAhCAAAQaECg55ayio8eYqMppk6tmJnpeX4PSG95optGeqF4w8NAW3/hWw+fcQQACEIAABPxEACPQT62FrBCAAAQgUE8gN7f0ulvtotDtf/l9Tm1t/dOkhtyZxtY3/SEnU498SKrSFAYBCEAAAoElgBEY2KZFMQhAAAKBJ5DXuUvpr242alYv+rBi4svNoXLVe9M002hKbvWT6/J79GqOWigTAhCAAAQgkDICBSmriYogAAEIQAACSSdQfNLpdVWVddu3q+T87j2SXv7OAktKWl3za/0/r2On4uNOapYqKBQCEIAABCCQQgIYgSmETVUQgAAEINAMBEpOO7cZSq0vsnDQEP1Xf08IAhCAAAQg4HMCLAf1eQMiPgQgAAEIQAACEIAABCAAgaYQwAhsCi3SQgACEIAABCAAAQhAAAIQ8DkBjECfNyDiQwACEIAABCAAAQhAAAIQaAoBjMCm0CItBCAAAQhAAAIQgAAEIAABnxPACPR5AyI+BCAAAQhAAAIQgAAEIACBphDACGwKLdJCAAIQgAAEIAABCEAAAhDwOQGMQJ83IOJDAAIQgAAEIAABCEAAAhBoCgGMwKbQIi0EIAABCEAAAhCAAAQgAAGfE8AI9HkDIj4EIAABCEAAAhCAAAQgAIGmEMAIbAot0kIAAhCAAAQgAAEIQAACEPA5AYxAnzcg4kMAAhCAAAQgAAEIQAACEGgKAYzAptAiLQQgAAEIQAACEIAABCAAAZ8TwAj0eQMiPgQgAAEIQAACEIAABCAAgaYQwAhsCi3SQgACEIAABCAAAQhAAAIQ8DkBjECfNyDiQwACEIAABCAAAQhAAAIQaAoBjMCm0CItBCAAAQhAAAIQgAAEIAABnxPACPR5AyI+BCAAAQhAAAIQgAAEIACBphDACGwKLdJCAAIQgAAEIAABCEAAAhDwOQGMQJ83IOJDAAIQgAAEIAABCEAAAhBoCoGCpiQmLQQgAAEIQCDJBBYvq121pk6FtijJHTEkbT9NzltYu35j3eqNfXNajM4pm5xcJXeU5UyfU6MyiwpzRx6eNh2TqxSlQQACEICAfwlgBPq37ZAcAhCAQBIIVNfknHZ5hS3oigsKTjs23942d2Dj5rpjvlGxbsNOI/DME/Kf/ltxc9cYqfxTvluxyxb9QU63S3KWdwtNtmFT3aQZtUtX1C75tG7Rstovv6o7YP+8gw/I69szt1/vvCMH5+XmhmbaHfP61JozrtgN+fl7i08dmzrCEWVqhgdr19eN/WZFeUVdQUGOmlJwmqESioQABCAAgSQQwAhMAkSKgAAEIOBrAq9M3jlJZa6Tx6TUPvnZ76uMBajab/tp4R4pUv1/Oxu5s+Ltz+bk7DRK7VVRmfP3R6tvuLNq6/YG8R8vr3nprd3oxh6Z/9ebCg/qHd7skdV3+KC8mfNrVeZlv6pc/HpJuzaRTUZbsd8CP7y58qOlO3XUJSPZBPgXAhCAAAQykED44SoDBUUkCEAAAhAIGIGJU2se+G+1UerqSwsO7JW2IWnitN2my05hdkx0Octy639i2dW3VnosQDeNwm9Or+l3Yvl1f6yqqTeo65Pk5eX8+boicy+j9xd/qKp/FpTQPx6rfvLlcMoHRUH0gAAEIBAkAmkbcYMEEV0gAAEIQKCpBLbtyLn0F5UmV+tWudf9IG3TgJLBnQt1NwR+talOy0SXfRbrpNbv/l5154PhDbyjhuade9LuWdZ7H6+W0dhUYpmc/uFnqv/nht2tmclyIhsEIAABCBgCGIG8CRCAAAQgkAYC1/+50viDUd03XFXQsV3alkfKa4td1dmp9aqcmnUGR11dzmXXVtrVqiZSeyanPlny5cwWlYtaLny15IHbimTBuvh+eluVfMy4MTZ86zW7JwMVc8nPKreX2Sf+Dtz3RLXU8bcOSA8BCEAgywiwJzDLGhx1IQABCDQkUJCf89ajxdu2747tnxJnHgsW1975r90LQWVEXXFBOqcBp82un5Tbr9MH6/fweeKlmmdeq38kOV+6v9j17akdgPpP/mw0pfncxPqUF1xd+eGEkj3F1P//gP1zv3V2wYPjdyouA/iP91fdcFU6Fa+XLN6Q7Ocf3FRpNIq3DPJBAAIQgEAaCDATmAboVAkBCEAgowiMHpZ/ytjd//Xat8G8VjPJeeeDuy1Ala9pwNKWzVRPTMW+PrV+4m6f9ottnpcn1dt1irz31iLXArTJ2rfNffAPRd271XOTcxQ7yWmTmcC1/1Nv9d1xf7WMKP9e782rPfzMcixA/7YgkkMAAtlMACMwm1sf3SEAAQikgcDqdXX/3OMPRtVfcFqa16Q8+3q9Rdq5zYo9RHJffafeCJTzz6+fEtFvqlx93v7L+qWeKiHSilBNBsrkNlXI08y/n62vek+9Pvj/8lV1F/6kctjZ5dYXqA+ERkQIQAACEHAIYAQ6MAhCAAIQ8DkBHWagU+xem1Lz+Is102bX6mi75lNIhWsuSMsgn5pQ8+GSWp03GOP113/XWz6yiPbuUj+HFmMJSUy24vO6j5fvpiTHLXm5u9XYvKOTuxvwxJGNDJeHDWyQYN6i+tlFj7Tnn1xvTP7h3qrYuXnKSdft+o11vUaXPfZ8fSMaSS46I83GfLqAUC8EIAABPxKgy/ZjqyEzBCAAgQYE5GnzPy9Uy0f/7A+9tod2sg0fvPMo8+9fWNC1UxhzS0bIwePqVyVef2XhN0+vHxr09JTLKpav2l3s/JdaFBfl6GgHree0zlSsKMMPzdMxgz/6VoHHV4pNoICmv+56uN5+cC0ik8wjj5s3wfDFZxZc9/361ZimNNdL54nH5M94bXclG7bt61bXr08DG899ZMId2zWIW/NlRPP7tOPy/+eG3Ynld/SFN2q0q7BB5thuPvuiTjZ/3Ff7tjnxOeOpCvF+qiXED91e3LZ1jk8nNuNmSEYIQAAC/iVQP9L7VwckhwAEIJDNBGQMjDi3PNImNBldr0+p0X8331V1zy1Fl389TLdvp8KEcfPWBiwrK3PcVZFl5XXyfnm3M5Xnpp4xt1b/ycZ7/aHiQQeFt5oefqbGPXBPFpFbggm78oQ+jTtGU1ihed3DIY49st4I7NVl9rOPXbF2fY7MuTXr644aEl4dW+CHSxoUPqBvxPSa+dRxEVNn7barNRkYhxEozzqDTi63tccRuPGHhTf90GsSx1fOz79b2LJFjkSKIztZIAABCEAgLQTCfA2kRQ4qhQAEIACBOAhs2lI37tKKSBagp8Dv/bpSxx587xvx9/w6MmH8hEbWfWoV5dHnV3w6uaRDuFMfnnipfhow7WtBq6pzJry923Tp2zN3/+4NZko1n9m6VU6fHg0iPUjtrWtMKnLIwRGNQD39xqkFU2ftnsWT2axNkk1dE7t1jzdXK0CKA4JzzXcKrrw4nWd7pFhlqoMABCAQJALxfwoEiQK6QAACEPApAVllHucc8rNyUK/cTu1ztWdv/qLa/77SwGa74vrKc07Kj28doBC5FqBZaNqudc7k92rd7XNKprk+zfj9+FLvEKOT8d6ZWT9fFLoW1LRCqIdS97h21du5Q/jmcpOFFhWq9cz5tXZa8tSxXmnD1xEuduXqOh0T7z6JMhOoZKcfl3/lTfXJ336vNorXmfp0mREqbZXz5+uKLjkrX25RM0MipIAABCAAgSYTiH/Ma3JVZIAABCAAgaQSKK9oYJVpS94zfy/u1rnBp7n8xJzy3XJ3geUjz9Zo214igsgM+9N1hZeeXZC/ay2nZhdliJ71/Qq3lrserrrq4t0JbF3TnRP5FDl6WJjpMp1b+MlbLWwWE+g9pswaeDI/7rqxgStOm9izSFLnH1pXnDaNG9AqWXt7QmOuX2zK0MCv7mhgAZ44Mr+kODRVfYzOk9DEo8X11owaHxmBav1Q875eN0IQgAAEIOAHAgl9B/hBQWSEAAQgEFgCsz6on1WTkk/e5bUAFakzCV5+oKTP2HrXL29MS9QI/OjVEvdYvNzcnIMPyFMtg08ttxNrstkk3hGHNDDz3prRQODePRo8TX07Pf9GvRF49NAwuxNjEenex6s9rjJ/e3Xje+0OG5j/8fLdK2M9BxLGUumwQ/K2zk/odMWixmWMRRDSQAACEICALwmkeQD2JTOEhgAEIJAZBDznEBRG+Fmv9365Wn9oRNZKSx1ql4j4f7quwcHotijVcsevGhgW8lhjn5rA61PrjS55jokksCdXM92uXV9nnameNCpfrk3iuGRGaqelm/GKCwoOH9T42DrowPpW0JbOT1d5WbllhoY1B1vaMqH/MAJDqRIDAQhAIHsIND5QZQ8LNIUABCDgLwIdGm7Kuua2qi3bwtsSf7+5aNmkFlWLW2ql5cN3hF9LGYvuXTrm/uCbEWzNnBytR3UL2V7mFWbRJ/Uxg/s3SOxmTE3YnZaUERhHpTok4/TvVbgZ5Q9G++XcmEhhzZ26j0INZvcpYQhAAAIQgEByCTQYhJJbNKVBAAIQgECzEjiw1/+3dx9gUhRpA8c3sYGMsktUJKogoigZIxJFRRQVEUVl9TuVoJ4HCkZOxXQYONMih6KIYAYDCEgOIoig5CxJJCyZzd/LDVdT07M7PbFnuvnz7ONT3V1d4Vc+ri9VXeWeTZKKZFFio07HX8rKk0/j5Ds9/U+1jPjaNePlc7sQ/8h+Jz5mkAznEOZ6fCgXJwcAqsWi0gyZOQyxMSG+rh990a51wL8NP/oqv2umRwQoS2Tlm0zfXwOqNtc+w6P7xR5foTKTQAABBBBAILwCAf/aC2/1lIYAAgggELSATKYZVh7KwsJ/vJAnJ8hVbXnsniG5n35fIHuEBl2+94sSSXrfVHfKlvF4mu8+DOJElv0HPFoS3b0lCwvde+rI9Oa5dQP7bTjiP/m3PeyxClQiwNnjU8+s7iGgZLwTFcp55CQI9CbiDgIIIIBA5ARKXNUTuSopGQEEEEAgXAKjnktu0rWYQ8PlzIasT/LlRyq6pFlCj85JciK5vptLcA2oVcMjdDEU4numca/nWe3ySVsU/8jnlGpasnvHRNnbxs8/crTggGG5b33kEeAK7KyPU31HyIbyDd3/a59HhGzI7H0p+afP99hlxzuP7zutLkzwPZq+X+cpAggggICtBQgCbT18NB4BBE51AdleZd6E1N4P56gTFLxF5Gi+OYtz+z8T90DvpJcfTU7x65s172JO3JFJs+If+HF3b7ZHpvJlgy/Ko6CgLjwOh2jr7zLZ7INFN/XP1d+VymUIvhudEuhp74ZZ0z0BBoFy8kfPgR6LUQNleLJ/qaf6e2zkE2gJ5EcAAQQQsK9AYAtg7NtPWo4AAgg4VaB104QV36a9+2yyYWmod39Hjs1v1/v4jt2BTTrp5fg/Y6a/5UobPlM0XHrnj+idyT+69ykt9rhC79rlRPg2N+UYIkA5EnDO+IAjQO/CC0Ka1fMujzsIIIAAAgj4EiAI9KXDMwQQQMAWAnK8QebNST99nrpldtrbw5Jl5WdJzZ63pLBF9+Nyyrz1f9JP86hzn+cngh7PInwhE3oyO+qqpM1FCf58nfjLysJm1x9fud4jVrurR9KkrJTgpjQNX0hWTY/mvGiEvSkeAQQQQCDmBFgOGnNDQoMQQACBoAVkY5J7eybJj3y6tnh5oUxbfT61YPlqj9BFNo8ZPzm/zw1W//ffsJQ0iluhzP5fBCjOV19RYsCsRmHhssJWNxo/vHxmYKmh95cKemp0n+eGPdUCDALTUk8sQ1UtDCJxdu2QXg+iRl5BAAEEEIgdAav/JyB2ek5LEEAAAccIHD4aJwev6x/7yaUsE5Uf+fTr5xWFdzySq89izV9a2OcGq3tvOKQ+0K/gwtjcKbPda0HbtzEJApf8VtjhDuPM6bgRKT2vMXnRd4MNX0gaTtfw/a48lY1hf52capqNDAgggAACCBQrwF8EFsvCTQQQQCDWBQoK4ga/lNfl7pwqLY6VO//oGx94nsqnNf/ixgk/fJCi3YjbvD34zwL1cgJKy6RZHe1wvL/2BfR2ODN/Pf1kEFiuTLzvM+vXbym6oleO2kdUGiGvzBmfGmIEKOWwHDScI0pZCCCAAAIBChAEBghGdgQQQCA2BGQrkTc/zP9uVoGcBiEt+vIH9+yWdwMNe1emhrBBqHfh/t+pUdX95du6zR6LVP0vJMScqzYUyoJYVyHd2icmljyfl5Mbd3N/YwQ495OUtheH4VenYTfXQGcCQ0TgdQQQQACBU1wgDL/JTnFBuo8AAghERSC5VJw+HyU7vnwxtcQ4UL5q0xt5br3o/Me/ifYZmzTp6DG9URalZyxwU3S4xJfDM2/kLf3dnVnaN+vjlBC/xFOdnLPYPVgyu1glhLM3VJkkEEAAAQQQ8FOAbwL9hCIbAgggEHMCN3RKfHe8+9Ty7vflTM5K8d7pROa+rrvX46u2Tpf6Cn4i188ulyfKMRWq/J9/K7y0mdUt+UY7HKJdqxLnAY/mlH/uLY8VtgK748+iHX+6gzfVEe9E9Sq+FprK8Rjfz3aHlz26+JqQ9C6cOwgggAACCIQoQBAYIiCvI4AAAlETuKJlopwNKLuAqhZ0zcyRMw9kleNZNRNkn5jtu4rm/Fw47mt33CU5W16QIC+qV6xMXNbco94FSwssDgJl7lEW0Lq6LHN61TLcy1MNDr9vv8xwR6JHPYA0PDVc9u6W9MHLJS66lU8N9e8Mu/qxQ6mhfC4RQAABBBAIRYAgMBQ93kUAAQSiKSBbgH75dsqF1xx3fRboaoqsC5Wfkpol5zSMfcVjk5iSckbivpxneN1ViV9NOxmGSYA66N5I1FNimXOXuOfxrm3nEZEa3tm+7xzDnTBeLlzmboYU26611dOhYewLRSGAAAII2FGAXzx2HDXajAACCJwUkB1fvn0vxXAEX0k6DeslzByXUq9WidNfJb0YxvsSBKrSZGLtmPH4PfUwIolp89zhcfu27pZ4VZa451BNr5thuzF9vrsZnS9LDO64+bC1hoIQQAABBE49AYLAU2/M6TECCDhL4KLzErbMThv5VLKPULBpo4S3hyX/+k3quXWN/9lPiD9x7EFYSGSnTdOiOl7qEXqp0xrC0oAK5Tw6YriUKr6a5l4Z26KJkcLdhoRy7nRQqUoVSnztwKGi9z93N0PW7paY1c4PUlM8xsLOXaHtCCCAgAMF4ovk+3T+IIAAAgg4QmDH7qLVGwpXbyySY+gSEuIkLJQfOQqvpnY2Q9Q72nNgzvjJJ9dDXtkqcfpY65anvvJe3oFDJwDOrB7f96ZiPojIzMwcNWqUZOjbt29WVlYkrEZNyM98LNdVssTM2+alMhMYCWfKRAABBBDwIVDMr0AfuXmEAAIIIBDLArI6tHpG4pWtYrmNcY/+XykVBM5YULBha1HdMy2aNXr47lJRp9E3dH0kM4kIMOojQgMQQACBU1Cg5MUwpyAGXUYAAQQQiLyAbMt5fQf3GsixX7rXRka+8ijXsHx1ob6b6wO9+avYKI8I1SOAAAKnpgBB4Kk57vQaAQQQiKbAY39zz8i99VF+rseBfNFsWKTrfm+iO+Iden+pShUsmgKNdL8oHwEEEEDAXgIEgfYaL1qLAAIIOEHg4sYJsiumqydyvsV7E9yhkRO6V0Iftu4oev19d0/73c40YAlS3EYAAQQQiLAAQWCEgSkeAQQQQKA4gZcfdU8GDnox7+Bh5+9S9uRr7hlP6b6P3VyLA+MeAggggAACYRMgCAwbJQUhgAACCPgvIIcWqjjw0JGiEaPdU2T+F2KjnPI14JjPTvax5QUJA/q4Y2Ab9YKmIoAAAgg4Q4Ag0BnjSC8QQAAB+wlIINTmopO/hp56PU/Ot7BfH/xu8eCX3NOAY15MTnLvjON3EWREAAEEEEAgTAIEgWGCpBgEEEAAgQAFJBB67/lk9dKwke4wSd10RmL6/ILvZp08GnHEkOSz6/DL1xkDSy8QQAABuwrwVbpdR452I4AAAg4QkHBoypiUVetPzAHWquHYrTLTUuNfHXoi3K1SOb5HZyYBHfBvLl1AAAEE7C1AEGjv8aP1CCCAgN0FOrRN7NDW7p0waX/rpgnyY5KJxwgggAACCFglwO8kq6SpBwEEEEAAAQQQQAABBBCIAQGCwBgYBJqAAAIIIIAAAggggAACCFglQBBolTT1IIAAAggggAACCCCAAAIxIEAQGAODQBMQQAABBBBAAAEEEEAAAasECAKtkqYeBBBAAAEEEEAAAQQQQCAGBAgCY2AQaAICCCCAAAIIIIAAAgggYJUAQaBV0tSDAAIIIIAAAggggAACCMSAAEFgDAwCTUAAAQQQQAABBBBAAAEErBIgCLRKmnoQQAABBBBAAAEEEEAAgRgQIAiMgUGgCQgggAACCCCAAAIIIICAVQIEgVZJUw8CCCCAAAIIIIAAAgggEAMCBIExMAg0AQEEEEAAAQQQQAABBBCwSoAg0Cpp6kEAAQQQQAABBBBAAAEEYkCAIDAGBoEmIIAAAggggAACCCCAAAJWCRAEWiVNPQgggAACCCCAAAIIIIBADAgQBMbAINAEBBBAAAEEEEAAAQQQQMAqAYJAq6SpBwEEEEAAAQQQQAABBBCIAQGCwBgYBJqAAAIIIIAAAggggAACCFglQBBolTT1IIAAAggggAACCCCAAAIxIJAUA22gCQgggAACCAQssHTTosM5h+S1qhWrN6jaMOD3g3ph0fo5Ofk58mqzOq3TkksHVQYvIYAAAgggEGUBgsAoDwDVI4AAAjYVWLnt1+GThqrGP3PjiLPS66nLSCcWb5zfb0xvVy33XPmgNUHgnwd2Dvigj6vSLhdc/0T3lyPdTWvKz83PmfzLZ6u3r9j017pt+7YmJiRmlK96xum1Ozfp1rxe24R4Fg1ZMw7UggACCFgnQBBonTU1IYAAAk4SOHAse+3OlapHR3OOqHSkE8fzjg2d0M9VS9nUcre1zYx0ja7yq1Sodk3THpOWTpTLb5d90fXCHk1rt7Cm6gjVUlhUOGnphFe/e/ZY7lG9ij2Hdq/cvnzK8q+E9/mb/92sbhv9KWkEEEAAAbsL8Nd7dh9B2o8AAgiccgKvf//cgaPZrm4/1OXJ5KQUywju7zBIJspc1Q2Z0E/m0CyrOuwVFRUV/WPcvc9/NcQQAeoVHT5+qN/7t4/68XX9JmkEEEAAAbsLEATafQRpPwIIIHBqCaz445fPF49z9blW5bqyLNPK/lcsXSnzyoGuGvcf2fvGlOFW1h7eul759um5a2b4U+aoH1/7Ztnn/uQkDwIIIICALQQIAm0xTDQSAQQQiDmBqHwqll+QP+STB5TFoGuGqbRliV5tMmWRpKu6iYs+kG8jLas6jBVNXTHp00Vj9QJb1LvkhZ5vTxm8ZNwD3w/o9FiF0hX1p8M+f0Q+idTvkEYAAQQQsK8A3wTad+xoOQIIIBBNgaZntXimx6uqBTVPr6XSkUt8NC9r98FdrvLPqX5eVD7JK5VYKvOKgSO+Oxl/PvXZwxMGTItclyNU8kjPOcweLW5/qMsT8fHxUp2Ef3Uy6nc4/9o73+6mtOX+yKnDh/V4LULtoVgEEEAAASsFmAm0Upu6EEAAAecIlEpK7tD4GvVTPs1j4igS/SwoLBg79x1Vcv+Oj6m0xYnuzXup8yG27t30y+ZFFjcgxOpmr56mR3dXNur88NVPuiJAVfLpZdM/vP+bSmVOV3d+WDH5r4N/qksSCCCAAAL2FSAItO/Y0XIEEEDg1BL4fvlXsk+Jq88yWxWVaUBX7TIZKNuEKv13Z9hsfuz92W+pxkuiX8fB+qVKS2D/YJfH1aUkpq74Wr8kjQACCCBgUwGCQJsOHM1GAAEEwilw6PhB+bZNjgSQ8w9+++MXH9tFhl7rtn1b5Mj1r5dOkM/SJC17VPpZZtb0ESpnx/OvU+moJDo3cW9IIzOBW/ZsiEozgqhUjoVYvWOFerFRzQuqVaypLg2J9ud11TdflYMxDBm4RAABBBCwowDfBNpx1GgzAgggEB6BHfv/+HjB6MlLP/WO+mTvE9l785Jz2t3S6s7UUmne9UnkM3j8fer+yD4f1q96rrqURZL3jb41ryBX7shJ7m/0GVtYWPDR/PcmLnxfX4goT+XEhToZDa5tetMNzXsl/O/0BVWOSkjcuOvADnWpx2Cum4b2qJwBJQ5XOXzR30983LgyZXbH4Re53n302ucub9jRUM65NRrLbKQ6qWL0zJFP3+iOUQ2ZfVxu37c1979KPvL4eFQhreJpZSv7yOD9aMOfa2Rhrbp/ydlXqrR3QtaIyozrwnWzXY/kXdmbJymR/3nwpuIOAgggYCcB/jtup9GirQgggEAYBWaunKJHcYaSZeHl79uWyY+EN6/cNqpZndaGDMfzjqsQSB7l5Z+I99SfzX9tkAPHXZc7s7fvzN428IO7ip0uk4Bk3a5VclzBJwvHjLrnMzmDQRWiJ+SUAnUp0ZfEYOrSlTC0x/DU38uEuKS0E8cAFsTlq94dyT1S7OsdGl8ru4O6Hk1Z/vWDnR+vWOa0YnOWdHPV9hV3vtOtpKf+3L+xRe+/X/2UPzlVnmVbFqu0JC72Gln9qaRl6FUQKJdb9m6sm9HAkIdLBBBAAAF7CbAc1F7jRWsRQACB8AjIaXs+IkC9DjkPvd+Y3r9u+Vm/GVD60PEDd73TvdgIUC9HlobeN7qnfkelZaJSGqwuo74W1NWSzk084rfZawLeI/Tw8YOqU5YlVm5brtd1ZuXa+qV3+ozTPTLIZKB3Hu4ggAACCNhLgJlAe40XrUUAAQTCICAx1f3/6aUXJGsyL2/YqXrFGmVSyspyzZ82zJOQTM8w7It/fDrQr4PF9bdcaTWl5rqUhaa10+vl5Oes3bnSkHnj7nUSbTapdbHh/pJNC/Q73mtB5WlqqVR1fJ8rs8wx6stc5du25KRkvRyVVvvNnHwxtzC5VHJa2slFsGWSy6iceqJhzSZSo3p3/pofZVGrniE20/uP7lUNk3E33da1WsUaKr8k/ti7Wb8kjQACCCBgRwGCQDuOGm1GAAEEQhJYvnWJzO+pItqdd/XQbsPVmQeu+4bFohITylvnn3nyMzn1bkAJOW9g6PUvtGlwheutvIK8OaunPaYd/i735RAI7yBwwf++SZMMErd4rwWV+xee1WLaY8tcJbv+uSt7e7d/XaruPNL1aX1LT3VfEmNmv/n2tFfUnaUvb7nrzruzsrLUnZISrepfJgcnuJ4u2jC3pGwxdf/QMff0o34CREmNzChfTX90JOewfkkaAQQQQMCOAgSBdhw12owAAgiEJKCHKzKXNezGEd47sshWKIOu+ecLk4aqmhasmxVKEFi1QvWJA2fI4QqqQEnLCXVP3/ivJz99SN2cu2aGbCFjaM+8Ne5JyLPS66nMUU/IgfUqCJRZR9kO50zPxZO+W3hR7ZbTh/zqO4/vp8mJxc9t+nhLTV1KnmK3/DG8m5bssS3QsRK+kDS8xSUCCCCAQCwL8E1gLI8ObUMAAQQiIiCnQejlGiIu9ahr0xtl2s11WblcRkJ8SL8ynrzhFT0CVLXIB34SC6lLSew5/Jd+eejYAX1f0LOrNdSfRjfdoFojvQE/rQ9sMlDkZf1tKD+lSljgqrfKkD6Sc/KsRblvmP415HRdlvKMM4/mHC02GzcRQAABBGwkwEygjQaLpiKAAALhEdB34JR5IVkJeU+7B71jPInZPrz/29LJZTLKV5WjAkKp+4JazS48q3lJJcj+k0s2LVRPj3ouONx5YLt6JAlD3KU/sj5dv8o5eqXb92/VL2MzrQ90Tt5x00Yahj4n75jpK2RAAAEEEIhxgZD+WjfG+0bzEEAAAQSKFajvOZkmX8Td9NpVH88fLccGGvLLDi5VKlQzhAGGPP5cFvsVn3oxvYLHV2fyraB6JIn9h90bmchlQOst9XIikZYzIdRkqZS/7/CeSNQS3jKPaus5S6cUv+eNjxpLmjf28QqPEEAAAQRiTYAgMNZGhPYggAACERfodvEthjpk35fXvn+2+4jLO7/Q/NkvB89ePU3fV9OQOYjL6pXO8PGWYftNOY5cz7zXM7Iql1ZBfxr1tL6i0hZBoEztKjRDvK3u64nCokL9slxqbPnrbSONAAIIIOCnAMtB/YQiGwIIIOAcgdPLpg/oNESiPu8u7T+yd9LSifIjj2QbmE5NurVv3LVcannvnAHdqVHpTB/5k7TdYryz7T/iMb1mOAfCO7/FdySmUlut7PX8mtG0JXsO7Z6zerppNh8ZmtVtXfO0Wj4yeD/SN4PxZzmoIU+5tHLeZXIHAQQQQMBeAgSB9hovWosAAgiER6Bn67vi4ope+/45H8XJmRDy8+Kkx/t1HNyrTaaPnKaPTi+XbpqnpAyGmcCyKbEVhEhQKicruhq//8i+knpR7P1Nu9fp+68Wm8f3zRtb9P771U/5zmN4qi8B9ee8B30jGSmqbMh/I2BoD5cIIIAAAtYLsBzUenNqRAABBGJCoGfru798eE6PlrfrCxqLbdkbU4YP/vhv+tGCxWbzcTM+Lvh9ZYqKivSSi+I8LvVHUUkXFLpXSxYWFUSlDQFVqp8NKBO/pu/u3O+xMU/o08KmNZIBAQQQQCDSAgSBkRamfAQQQCB2BeTsvoe7PDljyPKszE9vbdPXx54rM1dNfXCsTB5G4U96uQy91uyjgc226e9GIn3wWLYqtnK5Kiods4l6Vc7W25Z9dL9+6Z3ekb1NvykbBemXpBFAAAEE7CjAclA7jhptRgABBMIpIJt/Nj7jQvnp3/HRQ8cPLlw3e9aqqbI3jGHqT05x2LB7bd2MBuGs24+y0stX1XMZNgvVH0UlrQeB6eUDCwJTk0vLAYyhNLtO4MNRr+q5eo0b/1zbtHYL/Y4hvf7P1fqd885oql+SRgABBBCwowBBoB1HjTYjgAAC4RHIPrKvfOmK+sFxsthPdoKRn4LCgu+Xf/Xcl4MloSpbtvmnaASBHpFVTM0Eys6Zuk9GOY94VbmVlJDAe/IjC0p6GqH79ap6nG3404a5voPARevnqJZUKF1RP2RS3SeBAAIIIGAvAZaD2mu8aC0CCCAQqoAcBigf+MnBgG2eatDphWbLNi8utkQ5/u7qC7oPuvaf+tMd+z1WBuqPIpdO91xjuc/z2MDI1etPyQePHdCzZdhhqWSd9Pr6V6CzV/+gd8GQlpnhtTtXqpuNmQZUFiQQQAABOwsQBNp59Gg7AgggELiAHEsgH/ht3bvJNYU1Y+V3Psqol+Hx/VhKqRQfmSP0yLCz6Na9GyNUURDF/rFnk/5WRoDLQfV3LUvL6t/253VV1W3cve6XzT+pS0Piw7nv6neuaNRZvySNAAIIIGBTAYJAmw4czUYAAQSCFJDJHP2ovS8Wj9v81/qSyvpx1RT9Ue30+vqlNWk5105WIaq6Fm+Yr9JRTyzZvFBvQ70qHist9Ucxle5yYXe9PY9PHCB/NaDfcaWXblqkB4Hyr02n86/zzsYdBBBAAAHbCRAE2m7IaDACCCAQksCJiaDG7okgmQ/82+hb1+z83bvQb5d9MXbOO/r9ZnXb6JeWpS89p72qa9u+Lcdyj6rL6CaWbHR/0SdrLM+tcX502+Nn7RfUatZQa6pEgL3+3XlXtsdREPPXzrzvP7fqXzzeddkDskjYzyrIhgACCCAQywJsDBPLo0PbEEAAgYgI3NLqrq+XTFD/fy+Hxd3x1rXN6rRuWrtl9Uo18wry5LvBqcsnSbilV399s57R2hSkXaMuk5ZOVI35bdsyaa26jGLi161LVO2XnnOVBNjqMsYTT3R/6ZY3OqpGHjiafcOrVzSv21a2jUlOTF64fs7v25app5LIKF+1e/Ne+h3SCCCAAAL2FSAItO/Y0XIEEEAgSIFales8f8ub/xh3r/7+4o3z5Ue/o6flCMH+HR/T71iZvrhOa5mDUlGrzL/FQhC4Zc8G/RSNduddbaVJiHWdlV5vYOehr37n3vhHeBesmyU/3iXLJOe7mRNlXa73I+4ggAACCNhRgOWgdhw12owAAgiEKiDTVg92ftzPUuQkg/fu/VzfUtLPF8OVLSkxSeJAVdq8tT+qdBQTC9bN1mtvWe8S/TL207e0ulPiQNN2yri/0/eTqhWqm+YkAwIIIICAXQQIAu0yUrQTAQQQCLPAza36fDfop5ta3uHjQ68G1RoOv+XNrMxP5fxAQ/UV0tybtRgeBXrpT1FXafNs63at2r5va6C1+MhfIa2SelpUWCQ/6tJH4tNFY9XTi2q3TE6KwtapqgHBJSQOHN9vinwiWOzr8i/GPVc+OGXwzw2qNiw2AzcRQAABBGwqEF9U5NevOpt2j2YjgAACCJgKHM87JgcA7szeJp8C7srekZCQIIeep5evImeIlw9fpGfaDN8ZZOHlVc9dqJZf9mx994BO4V+empmZOWrUKGlJ3759s7KyfDRJAtHeb7r313nt9jEt7DYTqPfu4LFs+Q5w5/5tew7vlmWfsli0duW6tTM8ThTU85NGAAEEELC1AN8E2nr4aDwCCCAQBgH5n/46GfXlJwxlRawImWe76/IH3p72iquGL3/+uF+HQQnR26xy4sIPVF9rVa5r6whQOiLRfofG16gekUAAAQQQcLYAy0GdPb70DgEEEHCOwM0t+6gll3JKxNzofRmYl5/7zbLPlGy/joNUmgQCCCCAAAKxL0AQGPtjRAsRQAABBE4IyA4lvdr0VRYfzx+t0hYnpv42WW1VWr3SGW3PbmdxA6gOAQQQQACBUAQIAkPR410EEEAAAUsFbmt7j9rG5pfNi1Zu+9XS6v9bmYR/I6cMV/Xe3/4RlSaBAAIIIICALQQIAm0xTDQSAQQQQOCEQJmUsv06Pqoshk8yP+FAZQ5X4vOfPtp/ZK+rtHOqn2ev4wHDhUA5CCCAAAK2FiAItPXw0XgEEEDglBOQLwMl9HJ1e+3OlXPXTLeSQL5FfGPqyWlAmZOU8zOsrJ26EEAAAQQQCIsAQWBYGCkEAQQQQMAigfj4eAm91KLQFyc9UVhUaFHdcXGjZ41Ux1TISetVK9awrGoqQgABBBBAIFwCBIHhkqQcBBBAAAGLBCT0eqjLE67Kdh/c9fWSCdZUvO/wnnHzTpwiKH8a1bygR4vbXWn+iQACCCCAgL0EOCfQXuNFaxFAAAEETgjc0Pw2mZE7fPyQpM9Kr2sNiqwF7XPpfVKXnKp3RaNO1lRKLQgggAACCIRdgCAw7KQUiAACCCBghUDP1ndbUY1WR43Tzsy8cqB2gyQCCCCAAAK2FGA5qC2HjUYjgAACCCCAAAIIIIAAAsEJEAQG58ZbCCCAAAIIIIAAAggggIAtBQgCbTlsNBoBBBBAAAEEEEAAAQQQCE6AIDA4N95CAAEEEEAAAQQQQAABBGwpQBBoy2Gj0QgggAACCCCAAAIIIIBAcAIEgcG58RYCCCCAAAIIIIAAAgggYEsBgkBbDhuNRgABBBBAAAEEEEAAAQSCEyAIDM6NtxBAAAEEEEAAAQQQQAABWwoQBNpy2Gg0AggggAACCCCAAAIIIBCcAEFgcG68hQACCCCAAAIIIIAAAgjYUoAg0JbDRqMRQAABBBBAAAEEEEAAgeAECAKDc+MtBBBAAAEEEEAAAQQQQMCWAgSBthw2Go0AAggggAACCCCAAAIIBCdAEBicG28hgAACCCCAAAIIIIAAArYUIAi05bDRaAQQQAABBBBAAAEEEEAgOAGCwODceAsBBBBAAAEEEEAAAQQQsKUAQaAth41GI4AAAggggAACCCCAAALBCRAEBufGWwgggAACCCCAAAIIIICALQUIAm05bDQaAQQQQAABBBBAAAEEEAhOgCAwODfeQgABBBBAAAEEEEAAAQRsKUAQaMtho9EIIIAAAggggAACCCCAQHAC8UVFRcG9yVsIIIAAAgg4TGDmzJmqR5dffrlKk0AAAQQQQMBJAgSBThpN+oIAAggggAACCCCAAAIImAiwHNQEiMcIIIAAAggggAACCCCAgJMECAKdNJr0BQEEEEAAAQQQQAABBBAwESAINAHiMQIIIIAAAggggAACCCDgJAGCQCeNJn1BAAEEEEAAAQQQQAABBEwECAJNgHiMAAIIIIAAAggggAACCDhJgCDQSaNJXxBAAAEEEEAAAQQQQAABEwGCQBMgHiOAAAIIIIAAAggggAACThIgCHTSaNIXBBBAAAEEEEAAAQQQQMBEgCDQBIjHCCCAAAIIIIAAAggggICTBAgCnTSa9AUBBBBAAAEEEEAAAQQQMBEgCDQB4jECCCCAAAIIIIAAAggg4CQBgkAnjSZ9QQABBBBAAAEEEEAAAQRMBAgCTYB4jAACCCCAAAIIIIAAAgg4SYAg0EmjSV8QQAABBBBAAAEEEEAAARMBgkATIB4jgAACCCCAAAIIIIAAAk4SIAh00mjSFwQQQAABBBBAAAEEEEDARIAg0ASIxwgggAACCCCAAAIIIICAkwQIAp00mvQFAQQQQAABBBBAAAEEEDARIAg0AeIxAggggAACCCCAAAIIIOAkAYJAJ40mfUEAAQQQQAABBBBAAAEETAQIAk2AeIwAAggggAACCCCAAAIIOEmAINBJo0lfEEAAAQQQQAABBBBAAAETAYJAEyAeI4AAAggggAACCCCAAAJOEiAIdNJo0hcEEEAAAQQQQAABBBBAwESAINAEiMcIIIAAAggggAACCCCAgJMECAKdNJr0BQEEEEAAAQQQQAABBBAwESAINAHiMQIIIIAAAggggAACCCDgJAGCQCeNJn1BAAEEEEAAAQQQQAABBEwECAJNgHiMAAIIIIAAAggggAACCDhJgCDQSaNJXxBAAAEEEEAAAQQQQAABEwGCQBMgHiOAAAIIIIAAAggggAACThIgCHTSaNIXBBBAAAEEEEAAAQQQQMBEgCDQBIjHCCCAAAIIIIAAAggggICTBAgCnTSa9AUBBBBAAAEEEEAAAQQQMBEgCDQB4jECCCCAAAIIIIAAAggg4CQBgkAnjSZ9QQABBBBAAAEEEEAAAQRMBAgCTYB4jAACCCCAAAIIIIAAAgg4SYAg0EmjSV8QQAABBBBAAAEEEEAAARMBgkATIB4jgAACCCCAAAIIIIAAAk4SIAh00mjSFwQQQAABBBBAAAEEEEDARIAg0ASIxwgggAACCCCAAAIIIICAkwQIAp00mvQFAQQQQAABBBBAAAEEEDARIAg0AeIxAggggAACCCCAAAIIIOAkAYJAJ40mfUEAAQQQQAABBBBAAAEETAQIAk2AeIwAAggggAACCCCAAAIIOEmAINBJo0lfEEAAAQQQQAABBBBAAAETAYJAEyAeI4AAAggggAACCCCAAAJOEiAIdNJo0hcEEEAAAQQQQAABBBBAwETg/wEvMhI6S/QpQwAAAABJRU5ErkJggg==)"
      ],
      "metadata": {
        "id": "Yt6tLqd-fbtn"
      }
    },
    {
      "cell_type": "code",
      "source": [
        "print(theta)\n",
        "print(np.sin(theta))\n",
        "print(np.cos(theta))\n",
        "print(np.tan(theta))"
      ],
      "metadata": {
        "colab": {
          "base_uri": "https://localhost:8080/"
        },
        "id": "OdupevoPfVSz",
        "outputId": "0fc55d61-a402-45f5-c043-90c7550c3686"
      },
      "execution_count": null,
      "outputs": [
        {
          "output_type": "stream",
          "name": "stdout",
          "text": [
            "[0.         1.57079633 3.14159265]\n",
            "[0.0000000e+00 1.0000000e+00 1.2246468e-16]\n",
            "[ 1.000000e+00  6.123234e-17 -1.000000e+00]\n",
            "[ 0.00000000e+00  1.63312394e+16 -1.22464680e-16]\n"
          ]
        }
      ]
    },
    {
      "cell_type": "code",
      "source": [
        "x = [-1, 0, 1]\n",
        "print(x)\n",
        "print(np.arcsin(x))\n",
        "print(np.arccos(x))\n",
        "print(np.arctan(x))"
      ],
      "metadata": {
        "colab": {
          "base_uri": "https://localhost:8080/"
        },
        "id": "WNcK7nxMfqLG",
        "outputId": "e50caa80-447f-47b7-fafa-22b6fc5dde89"
      },
      "execution_count": null,
      "outputs": [
        {
          "output_type": "stream",
          "name": "stdout",
          "text": [
            "[-1, 0, 1]\n",
            "[-1.57079633  0.          1.57079633]\n",
            "[3.14159265 1.57079633 0.        ]\n",
            "[-0.78539816  0.          0.78539816]\n"
          ]
        }
      ]
    },
    {
      "cell_type": "markdown",
      "source": [
        "### Exponentes y logaritmos"
      ],
      "metadata": {
        "id": "RJSe0AOBf6Ye"
      }
    },
    {
      "cell_type": "code",
      "source": [
        "x = [1, 2, 3]\n",
        "print(\"x   =\", x)\n",
        "print(\"e^x =\", np.exp(x))\n",
        "print(\"2^x =\", np.exp2(x))\n",
        "print(\"3^x =\", np.power(3., x))"
      ],
      "metadata": {
        "colab": {
          "base_uri": "https://localhost:8080/"
        },
        "id": "Al0IBGSlf4jf",
        "outputId": "30c2d805-5429-4056-f382-00f8ada3c3f2"
      },
      "execution_count": null,
      "outputs": [
        {
          "output_type": "stream",
          "name": "stdout",
          "text": [
            "x   = [1, 2, 3]\n",
            "e^x = [ 2.71828183  7.3890561  20.08553692]\n",
            "2^x = [2. 4. 8.]\n",
            "3^x = [ 3.  9. 27.]\n"
          ]
        }
      ]
    },
    {
      "cell_type": "code",
      "source": [
        "x = [1, 2, 4, 10]\n",
        "print(\"x        =\", x)\n",
        "print(\"ln(x)    =\", np.log(x))\n",
        "print(\"log2(x)  =\", np.log2(x))\n",
        "print(\"log10(x) =\", np.log10(x))"
      ],
      "metadata": {
        "colab": {
          "base_uri": "https://localhost:8080/"
        },
        "id": "03dvGAFgfULB",
        "outputId": "59538b7b-3fe2-4517-d5ea-7e44679a6bfc"
      },
      "execution_count": null,
      "outputs": [
        {
          "output_type": "stream",
          "name": "stdout",
          "text": [
            "x        = [1, 2, 4, 10]\n",
            "ln(x)    = [0.         0.69314718 1.38629436 2.30258509]\n",
            "log2(x)  = [0.         1.         2.         3.32192809]\n",
            "log10(x) = [0.         0.30103    0.60205999 1.        ]\n"
          ]
        }
      ]
    },
    {
      "cell_type": "code",
      "source": [
        "x = [0, 0.001, 0.01, 0.1]\n",
        "print(\"exp(x) - 1 =\", np.expm1(x))\n",
        "print(\"log(1 + x) =\", np.log1p(x))"
      ],
      "metadata": {
        "colab": {
          "base_uri": "https://localhost:8080/"
        },
        "id": "fZHglf7yfFq_",
        "outputId": "b76381a4-81ae-4ee4-f53f-785d295a7113"
      },
      "execution_count": null,
      "outputs": [
        {
          "output_type": "stream",
          "name": "stdout",
          "text": [
            "exp(x) - 1 = [0.         0.0010005  0.01005017 0.10517092]\n",
            "log(1 + x) = [0.         0.0009995  0.00995033 0.09531018]\n"
          ]
        }
      ]
    },
    {
      "cell_type": "code",
      "source": [],
      "metadata": {
        "id": "uTYTuHtkeEm_"
      },
      "execution_count": null,
      "outputs": []
    },
    {
      "cell_type": "markdown",
      "source": [
        "### Agregaciones"
      ],
      "metadata": {
        "id": "g_r7vOxDgwA0"
      }
    },
    {
      "cell_type": "code",
      "source": [
        "x = np.arange(1, 6)\n",
        "print(x)"
      ],
      "metadata": {
        "colab": {
          "base_uri": "https://localhost:8080/"
        },
        "id": "T80WrCfudh5l",
        "outputId": "832579cd-aeff-49df-97a4-866dc2233bfb"
      },
      "execution_count": null,
      "outputs": [
        {
          "output_type": "stream",
          "name": "stdout",
          "text": [
            "[1 2 3 4 5]\n"
          ]
        }
      ]
    },
    {
      "cell_type": "code",
      "source": [
        "np.add.reduce(x)"
      ],
      "metadata": {
        "colab": {
          "base_uri": "https://localhost:8080/"
        },
        "id": "Jlb3uZrig2VL",
        "outputId": "7d545c38-013e-4d63-c190-36c2bbfe179e"
      },
      "execution_count": null,
      "outputs": [
        {
          "output_type": "execute_result",
          "data": {
            "text/plain": [
              "15"
            ]
          },
          "metadata": {},
          "execution_count": 26
        }
      ]
    },
    {
      "cell_type": "code",
      "source": [
        "np.multiply.reduce(x)"
      ],
      "metadata": {
        "colab": {
          "base_uri": "https://localhost:8080/"
        },
        "id": "yoqbVDOeg4Ko",
        "outputId": "49a3abcb-9b4a-45f0-f074-91e65bf10d1c"
      },
      "execution_count": null,
      "outputs": [
        {
          "output_type": "execute_result",
          "data": {
            "text/plain": [
              "120"
            ]
          },
          "metadata": {},
          "execution_count": 27
        }
      ]
    },
    {
      "cell_type": "code",
      "source": [
        "np.add.accumulate(x)"
      ],
      "metadata": {
        "colab": {
          "base_uri": "https://localhost:8080/"
        },
        "id": "SG8kYNHog7e5",
        "outputId": "5804486f-8935-424e-b13f-2d9e2b5c9271"
      },
      "execution_count": null,
      "outputs": [
        {
          "output_type": "execute_result",
          "data": {
            "text/plain": [
              "array([ 1,  3,  6, 10, 15])"
            ]
          },
          "metadata": {},
          "execution_count": 28
        }
      ]
    },
    {
      "cell_type": "code",
      "source": [
        "np.multiply.accumulate(x)"
      ],
      "metadata": {
        "colab": {
          "base_uri": "https://localhost:8080/"
        },
        "id": "dXWMxccxg-CN",
        "outputId": "565a75bd-4407-4235-b92f-36c18432e04b"
      },
      "execution_count": null,
      "outputs": [
        {
          "output_type": "execute_result",
          "data": {
            "text/plain": [
              "array([  1,   2,   6,  24, 120])"
            ]
          },
          "metadata": {},
          "execution_count": 29
        }
      ]
    },
    {
      "cell_type": "markdown",
      "source": [
        "Para ampliar: https://numpy.org/doc/stable/user/basics.ufuncs.html"
      ],
      "metadata": {
        "id": "srrqgqZ7hM65"
      }
    },
    {
      "cell_type": "markdown",
      "source": [
        "# Ejercicios de Repaso: Funciones Universales en NumPy\n",
        "\n",
        "## Ejercicio 1: Operaciones Aritméticas con ufuncs\n",
        "\n",
        "En este ejercicio practicarás el uso de operaciones aritméticas con ufuncs de NumPy.\n",
        "\n",
        "```python\n",
        "import numpy as np\n",
        "\n",
        "# 1.1 Crea un array unidimensional x con valores del 0 al 9\n",
        "# Tu código aquí\n",
        "\n",
        "# 1.2 Aplica las siguientes operaciones aritméticas a x y muestra el resultado:\n",
        "# - Suma 5 a todos los elementos\n",
        "# - Resta 2 a todos los elementos\n",
        "# - Multiplica todos los elementos por 3\n",
        "# - Divide todos los elementos por 2\n",
        "# - Calcula el resto de la división por 2 (módulo 2)\n",
        "# Tu código aquí\n",
        "\n",
        "# 1.3 Crea un array y con valores del 10 al 19 y suma los arrays x e y\n",
        "# Tu código aquí\n",
        "\n",
        "# 1.4 Calcula el valor negativo de x\n",
        "# Tu código aquí\n",
        "\n",
        "# 1.5 Eleva los elementos de x al cuadrado utilizando el operador ** y luego utilizando la función np.power\n",
        "# Tu código aquí\n",
        "\n",
        "# 1.6 Crea una expresión que combine varias operaciones: (x * 2) + 10 - (x ** 2)\n",
        "# Tu código aquí\n",
        "```\n",
        "\n",
        "## Ejercicio 2: Funciones Matemáticas con ufuncs\n",
        "\n",
        "En este ejercicio practicarás el uso de funciones matemáticas de NumPy.\n",
        "\n",
        "```python\n",
        "import numpy as np\n",
        "\n",
        "# 2.1 Crea un array x con valores negativos y positivos: [-3, -2, -1, 0, 1, 2, 3]\n",
        "# Tu código aquí\n",
        "\n",
        "# 2.2 Calcula el valor absoluto de x usando la función abs() y también np.absolute()\n",
        "# Tu código aquí\n",
        "\n",
        "# 2.3 Crea un array de ángulos con valores [0, π/4, π/2, π] y calcula:\n",
        "# - El seno de cada ángulo\n",
        "# - El coseno de cada ángulo\n",
        "# - La tangente de cada ángulo\n",
        "# Tu código aquí\n",
        "\n",
        "# 2.4 Usando el array x = [0, 0.5, 1], calcula:\n",
        "# - El arcoseno de x\n",
        "# - El arcocoseno de x\n",
        "# - El arcotangente de x\n",
        "# Tu código aquí\n",
        "\n",
        "# 2.5 Crea un array x con valores [1, 2, 3] y calcula:\n",
        "# - e^x (exponencial)\n",
        "# - 2^x\n",
        "# - log(x) (logaritmo natural)\n",
        "# - log2(x) (logaritmo base 2)\n",
        "# - log10(x) (logaritmo base 10)\n",
        "# Tu código aquí\n",
        "```\n",
        "\n",
        "## Ejercicio 3: Características Avanzadas de ufuncs\n",
        "\n",
        "En este ejercicio explorarás características más avanzadas de las ufuncs de NumPy.\n",
        "\n",
        "```python\n",
        "import numpy as np\n",
        "\n",
        "# 3.1 Crea un array x con valores del 1 al 5\n",
        "# Tu código aquí\n",
        "\n",
        "# 3.2 Crea un array y vacío de la misma longitud que x y utiliza el parámetro out para\n",
        "# almacenar directamente el resultado de multiplicar x por 10 en y\n",
        "# Tu código aquí\n",
        "\n",
        "# 3.3 Utiliza el array y del ejercicio anterior y almacena el resultado de x elevado al cuadrado\n",
        "# en las posiciones pares de y\n",
        "# Tu código aquí\n",
        "\n",
        "# 3.4 Utiliza el método reduce con la función add para calcular la suma de todos los elementos de x\n",
        "# Compara el resultado con np.sum(x)\n",
        "# Tu código aquí\n",
        "\n",
        "# 3.5 Utiliza el método accumulate con la función add para calcular la suma acumulativa de x\n",
        "# Compara el resultado con np.cumsum(x)\n",
        "# Tu código aquí\n",
        "\n",
        "# 3.6 Utiliza el método outer con la función multiply para crear una tabla de multiplicar\n",
        "# con los valores de x\n",
        "# Tu código aquí\n",
        "```"
      ],
      "metadata": {
        "id": "hJC14umlhjLR"
      }
    },
    {
      "cell_type": "markdown",
      "source": [
        "### soluciones"
      ],
      "metadata": {
        "id": "yPkYti77qOa7"
      }
    },
    {
      "cell_type": "markdown",
      "source": [
        "#### Soluciones Ejercicio 1"
      ],
      "metadata": {
        "id": "6gIqkCx8qSBG"
      }
    },
    {
      "cell_type": "code",
      "source": [
        "# 1.1 Crea un array unidimensional x con valores del 0 al 9\n",
        "x = np.arange(10)\n",
        "print(\"x =\", x)\n",
        "\n",
        "# 1.2 Aplica las siguientes operaciones aritméticas a x y muestra el resultado:\n",
        "# - Suma 5 a todos los elementos\n",
        "print(\"x + 5 =\", x + 5)\n",
        "# - Resta 2 a todos los elementos\n",
        "print(\"x - 2 =\", x - 2)\n",
        "# - Multiplica todos los elementos por 3\n",
        "print(\"x * 3 =\", x * 3)\n",
        "# - Divide todos los elementos por 2\n",
        "print(\"x / 2 =\", x / 2)\n",
        "# - Calcula el resto de la división por 2 (módulo 2)\n",
        "print(\"x % 2 =\", x % 2)\n",
        "\n",
        "# 1.3 Crea un array y con valores del 10 al 19 y suma los arrays x e y\n",
        "y = np.arange(10, 20)\n",
        "print(\"y =\", y)\n",
        "print(\"x + y =\", x + y)\n",
        "\n",
        "# 1.4 Calcula el valor negativo de x\n",
        "print(\"-x =\", -x)\n",
        "\n",
        "# 1.5 Eleva los elementos de x al cuadrado utilizando el operador ** y luego utilizando la función np.power\n",
        "print(\"x ** 2 =\", x ** 2)\n",
        "print(\"np.power(x, 2) =\", np.power(x, 2))\n",
        "\n",
        "# 1.6 Crea una expresión que combine varias operaciones: (x * 2) + 10 - (x ** 2)\n",
        "resultado = (x * 2) + 10 - (x ** 2)\n",
        "print(\"(x * 2) + 10 - (x ** 2) =\", resultado)"
      ],
      "metadata": {
        "id": "OlQidgwSqU03"
      },
      "execution_count": null,
      "outputs": []
    },
    {
      "cell_type": "markdown",
      "source": [
        "#### Soluciones Ejercicio 2"
      ],
      "metadata": {
        "id": "GqG6qTENqW8s"
      }
    },
    {
      "cell_type": "code",
      "source": [
        "# 2.1 Crea un array x con valores negativos y positivos: [-3, -2, -1, 0, 1, 2, 3]\n",
        "x = np.array([-3, -2, -1, 0, 1, 2, 3])\n",
        "print(\"x =\", x)\n",
        "\n",
        "# 2.2 Calcula el valor absoluto de x usando la función abs() y también np.absolute()\n",
        "print(\"abs(x) =\", abs(x))\n",
        "print(\"np.absolute(x) =\", np.absolute(x))\n",
        "print(\"np.abs(x) =\", np.abs(x))  # np.abs es un alias de np.absolute\n",
        "\n",
        "# 2.3 Crea un array de ángulos con valores [0, π/4, π/2, π] y calcula:\n",
        "angulos = np.array([0, np.pi/4, np.pi/2, np.pi])\n",
        "print(\"\\nÁngulos =\", angulos)\n",
        "\n",
        "# - El seno de cada ángulo\n",
        "print(\"sin(ángulos) =\", np.sin(angulos))\n",
        "\n",
        "# - El coseno de cada ángulo\n",
        "print(\"cos(ángulos) =\", np.cos(angulos))\n",
        "\n",
        "# - La tangente de cada ángulo\n",
        "print(\"tan(ángulos) =\", np.tan(angulos))\n",
        "\n",
        "# 2.4 Usando el array x = [0, 0.5, 1], calcula:\n",
        "x = np.array([0, 0.5, 1])\n",
        "print(\"\\nx =\", x)\n",
        "\n",
        "# - El arcoseno de x\n",
        "print(\"arcsin(x) =\", np.arcsin(x))\n",
        "\n",
        "# - El arcocoseno de x\n",
        "print(\"arccos(x) =\", np.arccos(x))\n",
        "\n",
        "# - El arcotangente de x\n",
        "print(\"arctan(x) =\", np.arctan(x))\n",
        "\n",
        "# 2.5 Crea un array x con valores [1, 2, 3] y calcula:\n",
        "x = np.array([1, 2, 3])\n",
        "print(\"\\nx =\", x)\n",
        "\n",
        "# - e^x (exponencial)\n",
        "print(\"e^x =\", np.exp(x))\n",
        "\n",
        "# - 2^x\n",
        "print(\"2^x =\", np.exp2(x))\n",
        "\n",
        "# - log(x) (logaritmo natural)\n",
        "print(\"log(x) =\", np.log(x))\n",
        "\n",
        "# - log2(x) (logaritmo base 2)\n",
        "print(\"log2(x) =\", np.log2(x))\n",
        "\n",
        "# - log10(x) (logaritmo base 10)\n",
        "print(\"log10(x) =\", np.log10(x))"
      ],
      "metadata": {
        "id": "XbfGgCWghBAZ"
      },
      "execution_count": null,
      "outputs": []
    },
    {
      "cell_type": "markdown",
      "source": [
        "#### Soluciones Ejercicio 3"
      ],
      "metadata": {
        "id": "x-Qre1-zqfa2"
      }
    },
    {
      "cell_type": "code",
      "source": [
        "# 3.1 Crea un array x con valores del 1 al 5\n",
        "x = np.arange(1, 6)\n",
        "print(\"x =\", x)\n",
        "\n",
        "\n",
        "# 3.2 Crea un array y vacío de la misma longitud que x y utiliza el parámetro out para\n",
        "# almacenar directamente el resultado de multiplicar x por 10 en y\n",
        "y = np.empty(5)\n",
        "np.multiply(x, 10, out=y)\n",
        "\n",
        "\n",
        "# 3.3 Utiliza el método reduce con la función add para calcular la suma de todos los elementos de x\n",
        "# Compara el resultado con np.sum(x)\n",
        "suma_reduce = np.add.reduce(x)\n",
        "suma_np = np.sum(x)\n",
        "print(\"Suma con reduce =\", suma_reduce)\n",
        "print(\"Suma con np.sum =\", suma_np)\n",
        "print(\"¿Son iguales?\", suma_reduce == suma_np)\n",
        "\n",
        "\n",
        "# 3.4 Utiliza el método accumulate con la función add para calcular la suma acumulativa de x\n",
        "# Compara el resultado con np.cumsum(x)\n",
        "suma_acumulada_accumulate = np.add.accumulate(x)\n",
        "suma_acumulada_np = np.cumsum(x)\n",
        "print(\"Suma acumulada con accumulate =\", suma_acumulada_accumulate)\n",
        "print(\"Suma acumulada con np.cumsum =\", suma_acumulada_np)\n",
        "print(\"¿Son iguales?\", np.array_equal(suma_acumulada_accumulate, suma_acumulada_np))\n",
        "\n",
        "# 3.5 Utiliza el método outer con la función multiply para crear una tabla de multiplicar\n",
        "# con los valores de x\n",
        "tabla_multiplicar = np.multiply.outer(x, x)\n",
        "print(tabla_multiplicar)"
      ],
      "metadata": {
        "colab": {
          "base_uri": "https://localhost:8080/"
        },
        "id": "dVVVlOT8g03-",
        "outputId": "4ab837d9-f5c5-4a8a-db3f-25dce32b9091"
      },
      "execution_count": null,
      "outputs": [
        {
          "output_type": "stream",
          "name": "stdout",
          "text": [
            "x = [1 2 3 4 5]\n",
            "Suma con reduce = 15\n",
            "Suma con np.sum = 15\n",
            "¿Son iguales? True\n",
            "Suma acumulada con accumulate = [ 1  3  6 10 15]\n",
            "Suma acumulada con np.cumsum = [ 1  3  6 10 15]\n",
            "¿Son iguales? True\n",
            "[[ 1  2  3  4  5]\n",
            " [ 2  4  6  8 10]\n",
            " [ 3  6  9 12 15]\n",
            " [ 4  8 12 16 20]\n",
            " [ 5 10 15 20 25]]\n"
          ]
        }
      ]
    },
    {
      "cell_type": "code",
      "source": [
        "\"\"\"\n",
        "[[1×1  1×2  1×3  1×4  1×5]\n",
        " [2×1  2×2  2×3  2×4  2×5]\n",
        " [3×1  3×2  3×3  3×4  3×5]\n",
        " [4×1  4×2  4×3  4×4  4×5]\n",
        " [5×1  5×2  5×3  5×4  5×5]]\n",
        "\n",
        "\"\"\""
      ],
      "metadata": {
        "id": "3v1BzDadr8N-"
      },
      "execution_count": null,
      "outputs": []
    },
    {
      "cell_type": "code",
      "source": [
        "x = np.array(['a', 'b', 'c'], dtype=object)\n",
        "np.outer(x, [1, 2, 3])"
      ],
      "metadata": {
        "colab": {
          "base_uri": "https://localhost:8080/"
        },
        "id": "LoeA7pOOq5AX",
        "outputId": "03768f9e-b68b-4416-f733-b27329cc87be"
      },
      "execution_count": null,
      "outputs": [
        {
          "output_type": "execute_result",
          "data": {
            "text/plain": [
              "array([['a', 'aa', 'aaa'],\n",
              "       ['b', 'bb', 'bbb'],\n",
              "       ['c', 'cc', 'ccc']], dtype=object)"
            ]
          },
          "metadata": {},
          "execution_count": 39
        }
      ]
    },
    {
      "cell_type": "code",
      "source": [],
      "metadata": {
        "id": "IsSVtTdUrHia"
      },
      "execution_count": null,
      "outputs": []
    },
    {
      "cell_type": "code",
      "source": [],
      "metadata": {
        "id": "UjGOXKi3q_H7"
      },
      "execution_count": null,
      "outputs": []
    },
    {
      "cell_type": "code",
      "source": [],
      "metadata": {
        "id": "9B3bjJlAqzwc"
      },
      "execution_count": null,
      "outputs": []
    },
    {
      "cell_type": "code",
      "source": [],
      "metadata": {
        "id": "NomazQtkdEWg"
      },
      "execution_count": null,
      "outputs": []
    },
    {
      "cell_type": "code",
      "source": [],
      "metadata": {
        "id": "hUaRK7xbc9Cr"
      },
      "execution_count": null,
      "outputs": []
    }
  ]
}